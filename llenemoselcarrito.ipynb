{
 "cells": [
  {
   "cell_type": "markdown",
   "id": "cd3bf6a2",
   "metadata": {},
   "source": [
    "\n",
    "¡Hola!\n",
    "\n",
    "Mi nombre es Tonatiuh Cruz. Me complace revisar tu proyecto hoy.\n",
    "\n",
    "Al identificar cualquier error inicialmente, simplemente los destacaré. Te animo a localizar y abordar los problemas de forma independiente como parte de tu preparación para un rol como data-scientist. En un entorno profesional, tu líder de equipo seguiría un enfoque similar. Si encuentras la tarea desafiante, proporcionaré una pista más específica en la próxima iteración.\n",
    "\n",
    "Encontrarás mis comentarios a continuación - **por favor no los muevas, modifiques o elimines**.\n",
    "\n",
    "Puedes encontrar mis comentarios en cajas verdes, amarillas o rojas como esta:\n",
    "\n",
    "<div class=\"alert alert-block alert-success\">\n",
    "<b>Comentario del revisor</b> <a class=\"tocSkip\"></a>\n",
    "\n",
    "Éxito. Todo está hecho correctamente.\n",
    "</div>\n",
    "\n",
    "<div class=\"alert alert-block alert-warning\">\n",
    "<b>Comentario del revisor</b> <a class=\"tocSkip\"></a>\n",
    "\n",
    "Observaciones. Algunas recomendaciones.\n",
    "</div>\n",
    "\n",
    "<div class=\"alert alert-block alert-danger\">\n",
    "<b>Comentario del revisor</b> <a class=\"tocSkip\"></a>\n",
    "\n",
    "Necesita corrección. El bloque requiere algunas correcciones. El trabajo no puede ser aceptado con comentarios en rojo.\n",
    "</div>\n",
    "\n",
    "Puedes responderme utilizando esto:\n",
    "\n",
    "<div class=\"alert alert-block alert-info\">\n",
    "<b>Respuesta del estudiante.</b> <a class=\"tocSkip\"></a>\n",
    "</div>"
   ]
  },
  {
   "cell_type": "markdown",
   "id": "3Xg_RQfnafXz",
   "metadata": {
    "id": "3Xg_RQfnafXz"
   },
   "source": [
    "# ¡Llena ese carrito!"
   ]
  },
  {
   "cell_type": "markdown",
   "id": "mhIvmmkW414q",
   "metadata": {
    "id": "mhIvmmkW414q"
   },
   "source": [
    "# Introducción\n",
    "\n",
    "Instacart es una plataforma de entregas de comestibles donde la clientela puede registrar un pedido y hacer que se lo entreguen, similar a Uber Eats y Door Dash.\n",
    "El conjunto de datos que te hemos proporcionado tiene modificaciones del original. Redujimos el tamaño del conjunto para que tus cálculos se hicieran más rápido e introdujimos valores ausentes y duplicados. Tuvimos cuidado de conservar las distribuciones de los datos originales cuando hicimos los cambios.\n",
    "\n",
    "Debes completar tres pasos. Para cada uno de ellos, escribe una breve introducción que refleje con claridad cómo pretendes resolver cada paso, y escribe párrafos explicatorios que justifiquen tus decisiones al tiempo que avanzas en tu solución.  También escribe una conclusión que resuma tus hallazgos y elecciones.\n"
   ]
  },
  {
   "cell_type": "markdown",
   "id": "3MbyzpOQZ5Or",
   "metadata": {
    "id": "3MbyzpOQZ5Or"
   },
   "source": [
    "## Diccionario de datos\n",
    "\n",
    "Hay cinco tablas en el conjunto de datos, y tendrás que usarlas todas para hacer el preprocesamiento de datos y el análisis exploratorio de datos. A continuación se muestra un diccionario de datos que enumera las columnas de cada tabla y describe los datos que contienen.\n",
    "\n",
    "- `instacart_orders.csv`: cada fila corresponde a un pedido en la aplicación Instacart.\n",
    "    - `'order_id'`: número de ID que identifica de manera única cada pedido.\n",
    "    - `'user_id'`: número de ID que identifica de manera única la cuenta de cada cliente.\n",
    "    - `'order_number'`: el número de veces que este cliente ha hecho un pedido.\n",
    "    - `'order_dow'`: día de la semana en que se hizo el pedido (0 si es domingo).\n",
    "    - `'order_hour_of_day'`: hora del día en que se hizo el pedido.\n",
    "    - `'days_since_prior_order'`: número de días transcurridos desde que este cliente hizo su pedido anterior.\n",
    "- `products.csv`: cada fila corresponde a un producto único que pueden comprar los clientes.\n",
    "    - `'product_id'`: número ID que identifica de manera única cada producto.\n",
    "    - `'product_name'`: nombre del producto.\n",
    "    - `'aisle_id'`: número ID que identifica de manera única cada categoría de pasillo de víveres.\n",
    "    - `'department_id'`: número ID que identifica de manera única cada departamento de víveres.\n",
    "- `order_products.csv`: cada fila corresponde a un artículo pedido en un pedido.\n",
    "    - `'order_id'`: número de ID que identifica de manera única cada pedido.\n",
    "    - `'product_id'`: número ID que identifica de manera única cada producto.\n",
    "    - `'add_to_cart_order'`: el orden secuencial en el que se añadió cada artículo en el carrito.\n",
    "    - `'reordered'`: 0 si el cliente nunca ha pedido este producto antes, 1 si lo ha pedido.\n",
    "- `aisles.csv`\n",
    "    - `'aisle_id'`: número ID que identifica de manera única cada categoría de pasillo de víveres.\n",
    "    - `'aisle'`: nombre del pasillo.\n",
    "- `departments.csv`\n",
    "    - `'department_id'`: número ID que identifica de manera única cada departamento de víveres.\n",
    "    - `'department'`: nombre del departamento."
   ]
  },
  {
   "cell_type": "markdown",
   "id": "12bffd63",
   "metadata": {},
   "source": [
    "<div class=\"alert alert-block alert-success\">\n",
    "<b>Comentario del revisor</b> <a class=\"tocSkip\"></a>\n",
    "\n",
    "¡Hola! Excelente trabajo desarrollando la introducción y el diccionario de datos. Esto es crucial para cualquier proyecto, ya que establece una guía clara sobre los pasos a seguir. Tener estos elementos bien definidos desde el principio nos permite trabajar de manera más organizada y eficiente. En un futuro lo podrías complementar con una tabla de contenido.\n",
    "</div>"
   ]
  },
  {
   "cell_type": "markdown",
   "id": "n3Ha_cNSZ8lK",
   "metadata": {
    "id": "n3Ha_cNSZ8lK"
   },
   "source": [
    "# Paso 1. Descripción de los datos\n",
    "\n",
    "Lee los archivos de datos (`/datasets/instacart_orders.csv`, `/datasets/products.csv`, `/datasets/aisles.csv`, `/datasets/departments.csv` y `/datasets/order_products.csv`) con `pd.read_csv()` usando los parámetros adecuados para leer los datos correctamente. Verifica la información para cada DataFrame creado.\n"
   ]
  },
  {
   "cell_type": "markdown",
   "id": "OmlQPLlyaAfR",
   "metadata": {
    "id": "OmlQPLlyaAfR"
   },
   "source": [
    "## Plan de solución\n",
    "\n",
    "Escribe aquí tu plan de solución para el Paso 1. Descripción de los datos."
   ]
  },
  {
   "cell_type": "code",
   "execution_count": 1,
   "id": "fbf1adab",
   "metadata": {
    "id": "fbf1adab"
   },
   "outputs": [],
   "source": [
    "import pandas as pd# importar librerías\n",
    "import numpy as np\n",
    "from matplotlib import pyplot as plt"
   ]
  },
  {
   "cell_type": "code",
   "execution_count": 2,
   "id": "ad36396d",
   "metadata": {
    "id": "ad36396d"
   },
   "outputs": [],
   "source": [
    "df_orders = pd.read_csv(\"/datasets/instacart_orders.csv\", sep=';')\n",
    "df_products=pd.read_csv(\"/datasets/products.csv\", sep=';') \n",
    "df_aisles=pd.read_csv(\"/datasets/aisles.csv\", sep=\";\")# leer conjuntos de datos en los DataFrames\n",
    "df_departments=pd.read_csv(\"/datasets/departments.csv\", sep=';')\n",
    "df_order_pro=pd.read_csv(\"/datasets/order_products.csv\", sep=';')"
   ]
  },
  {
   "cell_type": "markdown",
   "id": "b276faf8",
   "metadata": {},
   "source": [
    "<div class=\"alert alert-block alert-success\">\n",
    "<b>Comentario del revisor:</b> <a class=\"tocSkip\"></a>\n",
    "    \n",
    "Has realizado un excelente trabajo al importar los datos y las bibliotecas necesarias.\n",
    "\n",
    "</div>"
   ]
  },
  {
   "cell_type": "code",
   "execution_count": 3,
   "id": "ad6a1efa",
   "metadata": {
    "id": "ad6a1efa"
   },
   "outputs": [
    {
     "name": "stdout",
     "output_type": "stream",
     "text": [
      "<class 'pandas.core.frame.DataFrame'>\n",
      "RangeIndex: 478967 entries, 0 to 478966\n",
      "Data columns (total 6 columns):\n",
      " #   Column                  Non-Null Count   Dtype  \n",
      "---  ------                  --------------   -----  \n",
      " 0   order_id                478967 non-null  int64  \n",
      " 1   user_id                 478967 non-null  int64  \n",
      " 2   order_number            478967 non-null  int64  \n",
      " 3   order_dow               478967 non-null  int64  \n",
      " 4   order_hour_of_day       478967 non-null  int64  \n",
      " 5   days_since_prior_order  450148 non-null  float64\n",
      "dtypes: float64(1), int64(5)\n",
      "memory usage: 21.9 MB\n",
      "\n",
      "<bound method NDFrame.head of         order_id  user_id  order_number  order_dow  order_hour_of_day  \\\n",
      "0        1515936   183418            11          6                 13   \n",
      "1        1690866   163593             5          5                 12   \n",
      "2        1454967    39980             4          5                 19   \n",
      "3        1768857    82516            56          0                 20   \n",
      "4        3007858   196724             2          4                 12   \n",
      "...          ...      ...           ...        ...                ...   \n",
      "478962   3210681     5617             5          1                 14   \n",
      "478963   3270802   112087             2          3                 13   \n",
      "478964    885349    82944            16          2                 11   \n",
      "478965    216274     4391             3          3                  8   \n",
      "478966   2071924     1730            18          1                 14   \n",
      "\n",
      "        days_since_prior_order  \n",
      "0                         30.0  \n",
      "1                          9.0  \n",
      "2                          2.0  \n",
      "3                         10.0  \n",
      "4                         17.0  \n",
      "...                        ...  \n",
      "478962                     7.0  \n",
      "478963                     6.0  \n",
      "478964                     6.0  \n",
      "478965                     8.0  \n",
      "478966                    15.0  \n",
      "\n",
      "[478967 rows x 6 columns]>\n"
     ]
    }
   ],
   "source": [
    "df_orders.info()\n",
    "print()\n",
    "print(df_orders.head)# mostrar información del DataFrame"
   ]
  },
  {
   "cell_type": "code",
   "execution_count": 4,
   "id": "5130e05e",
   "metadata": {
    "id": "5130e05e"
   },
   "outputs": [
    {
     "name": "stdout",
     "output_type": "stream",
     "text": [
      "<class 'pandas.core.frame.DataFrame'>\n",
      "RangeIndex: 49694 entries, 0 to 49693\n",
      "Data columns (total 4 columns):\n",
      " #   Column         Non-Null Count  Dtype \n",
      "---  ------         --------------  ----- \n",
      " 0   product_id     49694 non-null  int64 \n",
      " 1   product_name   48436 non-null  object\n",
      " 2   aisle_id       49694 non-null  int64 \n",
      " 3   department_id  49694 non-null  int64 \n",
      "dtypes: int64(3), object(1)\n",
      "memory usage: 1.5+ MB\n",
      "\n",
      "       product_id                                       product_name  \\\n",
      "0               1                         Chocolate Sandwich Cookies   \n",
      "1               2                                   All-Seasons Salt   \n",
      "2               3               Robust Golden Unsweetened Oolong Tea   \n",
      "3               4  Smart Ones Classic Favorites Mini Rigatoni Wit...   \n",
      "4               5                          Green Chile Anytime Sauce   \n",
      "...           ...                                                ...   \n",
      "49689       49690                      HIGH PERFORMANCE ENERGY DRINK   \n",
      "49690       49691                      ORIGINAL PANCAKE & WAFFLE MIX   \n",
      "49691       49692    ORGANIC INSTANT OATMEAL LIGHT MAPLE BROWN SUGAR   \n",
      "49692       49693                             SPRING WATER BODY WASH   \n",
      "49693       49694                            BURRITO- STEAK & CHEESE   \n",
      "\n",
      "       aisle_id  department_id  \n",
      "0            61             19  \n",
      "1           104             13  \n",
      "2            94              7  \n",
      "3            38              1  \n",
      "4             5             13  \n",
      "...         ...            ...  \n",
      "49689        64              7  \n",
      "49690       130             14  \n",
      "49691       130             14  \n",
      "49692       127             11  \n",
      "49693        38              1  \n",
      "\n",
      "[49694 rows x 4 columns]\n"
     ]
    }
   ],
   "source": [
    "df_products.info()\n",
    "print()\n",
    "print(df_products)# mostrar información del DataFrame"
   ]
  },
  {
   "cell_type": "code",
   "execution_count": 5,
   "id": "d8370c05",
   "metadata": {
    "id": "d8370c05"
   },
   "outputs": [
    {
     "name": "stdout",
     "output_type": "stream",
     "text": [
      "<class 'pandas.core.frame.DataFrame'>\n",
      "RangeIndex: 134 entries, 0 to 133\n",
      "Data columns (total 2 columns):\n",
      " #   Column    Non-Null Count  Dtype \n",
      "---  ------    --------------  ----- \n",
      " 0   aisle_id  134 non-null    int64 \n",
      " 1   aisle     134 non-null    object\n",
      "dtypes: int64(1), object(1)\n",
      "memory usage: 2.2+ KB\n",
      "\n",
      "     aisle_id                       aisle\n",
      "0           1       prepared soups salads\n",
      "1           2           specialty cheeses\n",
      "2           3         energy granola bars\n",
      "3           4               instant foods\n",
      "4           5  marinades meat preparation\n",
      "..        ...                         ...\n",
      "129       130    hot cereal pancake mixes\n",
      "130       131                   dry pasta\n",
      "131       132                      beauty\n",
      "132       133  muscles joints pain relief\n",
      "133       134  specialty wines champagnes\n",
      "\n",
      "[134 rows x 2 columns]\n"
     ]
    }
   ],
   "source": [
    "df_aisles.info()\n",
    "print()\n",
    "print(df_aisles) # mostrar información del DataFrame"
   ]
  },
  {
   "cell_type": "code",
   "execution_count": 6,
   "id": "59e2090f",
   "metadata": {
    "id": "59e2090f"
   },
   "outputs": [
    {
     "name": "stdout",
     "output_type": "stream",
     "text": [
      "<class 'pandas.core.frame.DataFrame'>\n",
      "RangeIndex: 21 entries, 0 to 20\n",
      "Data columns (total 2 columns):\n",
      " #   Column         Non-Null Count  Dtype \n",
      "---  ------         --------------  ----- \n",
      " 0   department_id  21 non-null     int64 \n",
      " 1   department     21 non-null     object\n",
      "dtypes: int64(1), object(1)\n",
      "memory usage: 464.0+ bytes\n",
      "\n",
      "   department_id department\n",
      "0              1     frozen\n",
      "1              2      other\n",
      "2              3     bakery\n",
      "3              4    produce\n",
      "4              5    alcohol\n"
     ]
    }
   ],
   "source": [
    "df_departments.info()\n",
    "print()\n",
    "print(df_departments.head())# mostrar información del DataFrame"
   ]
  },
  {
   "cell_type": "code",
   "execution_count": 7,
   "id": "6fc81694",
   "metadata": {
    "id": "6fc81694"
   },
   "outputs": [
    {
     "name": "stdout",
     "output_type": "stream",
     "text": [
      "<class 'pandas.core.frame.DataFrame'>\n",
      "RangeIndex: 4545007 entries, 0 to 4545006\n",
      "Data columns (total 4 columns):\n",
      " #   Column             Dtype  \n",
      "---  ------             -----  \n",
      " 0   order_id           int64  \n",
      " 1   product_id         int64  \n",
      " 2   add_to_cart_order  float64\n",
      " 3   reordered          int64  \n",
      "dtypes: float64(1), int64(3)\n",
      "memory usage: 138.7 MB\n",
      "\n",
      "         order_id  product_id  add_to_cart_order  reordered\n",
      "0         2141543       11440               17.0          0\n",
      "1          567889        1560                1.0          1\n",
      "2         2261212       26683                1.0          1\n",
      "3          491251        8670               35.0          1\n",
      "4         2571142        1940                5.0          1\n",
      "...           ...         ...                ...        ...\n",
      "4545002    577211       15290               12.0          1\n",
      "4545003   1219554       21914                9.0          0\n",
      "4545004    692640       47766                4.0          1\n",
      "4545005    319435         691                8.0          1\n",
      "4545006   1398151       28733                9.0          0\n",
      "\n",
      "[4545007 rows x 4 columns]\n"
     ]
    }
   ],
   "source": [
    "df_order_pro.info()\n",
    "print()\n",
    "print(df_order_pro) # mostrar información del DataFrame"
   ]
  },
  {
   "cell_type": "markdown",
   "id": "31d65efe",
   "metadata": {},
   "source": [
    "<div class=\"alert alert-block alert-success\">\n",
    "    <b>Comentario del revisor:</b> <a class=\"tocSkip\"></a>\n",
    "    \n",
    "Realizaste un excelente trabajo presentando la información de la base de datos.\n",
    "</div>"
   ]
  },
  {
   "cell_type": "markdown",
   "id": "t75BD19oaR5f",
   "metadata": {
    "id": "t75BD19oaR5f"
   },
   "source": [
    "## Conclusiones\n",
    "\n",
    "Los datos proporcionados comprenden información detallada sobre órdenes, productos, pasillos y departamentos de un supermercado en línea. El DataFrame `df_orders` contiene 478,967 registros de órdenes, incluyendo detalles como la identificación del usuario, el número de orden, el día de la semana y la hora del día en que se realizó la orden, así como el tiempo transcurrido desde la última orden (con 28,819 valores nulos en esta última columna). `df_products`, con 49,694 registros, ofrece información sobre los productos, aunque presenta 1,258 valores nulos en los nombres de los productos. `df_aisles` y `df_departments`, con 134 y 21 registros respectivamente, describen los pasillos y departamentos de los productos. Finalmente, `df_order_pro`, con 4,545,007 registros, relaciona órdenes con productos específicos, indicando el orden de adición al carrito y si el producto fue reordenado. Estos datos permiten análisis profundos sobre patrones de compra, popularidad de productos y comportamiento del cliente, con posibilidades de segmentación y optimización de inventario.\n"
   ]
  },
  {
   "cell_type": "markdown",
   "id": "8RJHqxVmaVsF",
   "metadata": {
    "id": "8RJHqxVmaVsF"
   },
   "source": [
    "# Paso 2. Preprocesamiento de los datos\n",
    "\n",
    "Preprocesa los datos de la siguiente manera:\n",
    "\n",
    "- Verifica y corrige los tipos de datos (por ejemplo, asegúrate de que las columnas de ID sean números enteros).\n",
    "- Identifica y completa los valores ausentes.\n",
    "- Identifica y elimina los valores duplicados.\n",
    "\n",
    "Asegúrate de explicar qué tipos de valores ausentes y duplicados encontraste, cómo los completaste o eliminaste y por qué usaste esos métodos. ¿Por qué crees que estos valores ausentes y duplicados pueden haber estado presentes en el conjunto de datos?"
   ]
  },
  {
   "cell_type": "markdown",
   "id": "p6poABZQaZYb",
   "metadata": {
    "id": "p6poABZQaZYb"
   },
   "source": [
    "## Plan de solución\n",
    "\n",
    "### Breve Plan para el Preprocesamiento de los Datos\n",
    "\n",
    "#### 1. Verificación y Corrección de Tipos de Datos\n",
    "- Revisar y convertir las columnas de ID a tipo entero si es necesario.\n",
    "- Asegurar que las columnas categóricas estén en el formato adecuado.\n",
    "\n",
    "#### 2. Identificación y Compleción de Valores Ausentes\n",
    "- Identificar columnas con valores nulos.\n",
    "- Para `days_since_prior_order` en `df_orders`, rellenar valores nulos con 0.\n",
    "- Para `product_name` en `df_products`, eliminar filas con valores nulos.\n",
    "\n",
    "#### 3. Identificación y Eliminación de Valores Duplicados\n",
    "- Revisar y eliminar registros duplicados en cada DataFrame.\n",
    "\n",
    "### Métodos Utilizados\n",
    "- Utilizar `astype()` para corregir tipos de datos.\n",
    "- Usar `isnull().sum()` para identificar valores ausentes y `fillna()` o `dropna()` para completar o eliminar dichos valores.\n",
    "- Aplicar `drop_duplicates()` para eliminar registros duplicados."
   ]
  },
  {
   "cell_type": "markdown",
   "id": "07357848-dc64-4156-9cc3-01ff4365226d",
   "metadata": {
    "id": "07357848-dc64-4156-9cc3-01ff4365226d"
   },
   "source": [
    "## Encuentra y elimina los valores duplicados (y describe cómo tomaste tus decisiones)."
   ]
  },
  {
   "cell_type": "markdown",
   "id": "f179f0a9",
   "metadata": {
    "id": "f179f0a9"
   },
   "source": [
    "### `instacart_orders` data frame"
   ]
  },
  {
   "cell_type": "code",
   "execution_count": 8,
   "id": "b99297a5-405a-463d-8535-9adc3da4ad74",
   "metadata": {
    "id": "b99297a5-405a-463d-8535-9adc3da4ad74"
   },
   "outputs": [
    {
     "data": {
      "text/plain": [
       "15"
      ]
     },
     "execution_count": 8,
     "metadata": {},
     "output_type": "execute_result"
    }
   ],
   "source": [
    "df_orders.duplicated().sum()\n",
    "# Revisa si hay pedidos duplicados\n"
   ]
  },
  {
   "cell_type": "markdown",
   "id": "PEkwUX_gvt5A",
   "metadata": {
    "id": "PEkwUX_gvt5A"
   },
   "source": [
    "¿Tienes líneas duplicadas? Si sí, ¿qué tienen en común?"
   ]
  },
  {
   "cell_type": "code",
   "execution_count": 9,
   "id": "0d44de5d",
   "metadata": {
    "id": "0d44de5d"
   },
   "outputs": [
    {
     "name": "stdout",
     "output_type": "stream",
     "text": [
      "        order_id  user_id  order_number  order_dow  order_hour_of_day  \\\n",
      "145574    794638    50898            24          3                  2   \n",
      "223105   2160484   107525            16          3                  2   \n",
      "230807   1918001   188546            14          3                  2   \n",
      "266232   1782114   106752             1          3                  2   \n",
      "273805   1112182   202304            84          3                  2   \n",
      "284038   2845099    31189            11          3                  2   \n",
      "311713   1021560    53767             3          3                  2   \n",
      "321100    408114    68324             4          3                  2   \n",
      "323900   1919531   191501            32          3                  2   \n",
      "345917   2232988    82565             1          3                  2   \n",
      "371905    391768    57671            19          3                  2   \n",
      "394347    467134    63189            21          3                  2   \n",
      "411408   1286742   183220            48          3                  2   \n",
      "415163   2282673    86751            49          3                  2   \n",
      "441599   2125197    14050            48          3                  2   \n",
      "\n",
      "        days_since_prior_order  \n",
      "145574                     2.0  \n",
      "223105                    30.0  \n",
      "230807                    16.0  \n",
      "266232                     NaN  \n",
      "273805                     6.0  \n",
      "284038                     7.0  \n",
      "311713                     9.0  \n",
      "321100                    18.0  \n",
      "323900                     7.0  \n",
      "345917                     NaN  \n",
      "371905                    10.0  \n",
      "394347                     2.0  \n",
      "411408                     4.0  \n",
      "415163                     2.0  \n",
      "441599                     3.0  \n",
      "        order_id  user_id  order_number  order_dow  order_hour_of_day  \\\n",
      "4838     2766110   162084            41          3                  2   \n",
      "5156     2190225   138285            18          3                  2   \n",
      "15506     553049    58599            13          3                  2   \n",
      "18420     382357   120200            19          3                  2   \n",
      "24691     690242    77357             2          3                  2   \n",
      "...          ...      ...           ...        ...                ...   \n",
      "457013   3384021    14881             6          3                  2   \n",
      "458816    910166   164782            18          3                  2   \n",
      "459635   1680532   106435             6          3                  2   \n",
      "468324    222962    54979            59          3                  2   \n",
      "477526   2592344    46860            38          3                  2   \n",
      "\n",
      "        days_since_prior_order  \n",
      "4838                      16.0  \n",
      "5156                      11.0  \n",
      "15506                      7.0  \n",
      "18420                     11.0  \n",
      "24691                      9.0  \n",
      "...                        ...  \n",
      "457013                    30.0  \n",
      "458816                     4.0  \n",
      "459635                    21.0  \n",
      "468324                     3.0  \n",
      "477526                     3.0  \n",
      "\n",
      "[121 rows x 6 columns]\n"
     ]
    }
   ],
   "source": [
    "duplicates = df_orders[df_orders.duplicated()]\n",
    "print(duplicates)# Basándote en tus hallazgos,\n",
    "ordenes_2am_miercoles= df_orders[(df_orders[\"order_dow\"] == 3) & (df_orders[\"order_hour_of_day\"] == 2)]  # Verifica todos los pedidos que se hicieron el miércoles a las 2:00 a.m.\n",
    "print(ordenes_2am_miercoles)"
   ]
  },
  {
   "cell_type": "markdown",
   "id": "vu2OWyoqwOx5",
   "metadata": {
    "id": "vu2OWyoqwOx5"
   },
   "source": [
    "**Impacto de los Duplicados:** Con solo 15 filas duplicadas entre casi 480000 registros, el impacto en el análisis general puede ser mínimo. Sin embargo, es importante eliminar los duplicados para mantener la integridad de los datos y evitar resultados sesgados en futuros análisis."
   ]
  },
  {
   "cell_type": "code",
   "execution_count": 10,
   "id": "480563c7",
   "metadata": {
    "id": "480563c7"
   },
   "outputs": [],
   "source": [
    "df_orders.drop_duplicates(inplace=True)# Elimina los pedidos duplicados\n"
   ]
  },
  {
   "cell_type": "code",
   "execution_count": 11,
   "id": "0b2396a2",
   "metadata": {
    "id": "0b2396a2"
   },
   "outputs": [
    {
     "data": {
      "text/plain": [
       "0"
      ]
     },
     "execution_count": 11,
     "metadata": {},
     "output_type": "execute_result"
    }
   ],
   "source": [
    "df_orders.duplicated().sum()# Vuelve a verificar si hay filas duplicadas, no se usa print ya que jupyter notebook te da lo imprime\n"
   ]
  },
  {
   "cell_type": "code",
   "execution_count": 12,
   "id": "f6113ef1",
   "metadata": {
    "id": "f6113ef1"
   },
   "outputs": [
    {
     "name": "stdout",
     "output_type": "stream",
     "text": [
      "Número de IDs de pedidos duplicados: 0\n"
     ]
    }
   ],
   "source": [
    "duplicate_order_ids = df_orders['order_id'].duplicated().sum()\n",
    "\n",
    "\n",
    "print(f\"Número de IDs de pedidos duplicados: {duplicate_order_ids}\") # Vuelve a verificar únicamente si hay IDs duplicados de pedidos\n"
   ]
  },
  {
   "cell_type": "markdown",
   "id": "5e8905ae",
   "metadata": {
    "id": "5e8905ae"
   },
   "source": [
    "Encontré 15 filas duplicadas en el DataFrame `df_orders`. Estas filas duplicadas tenían en común las mismas características en todas sus columnas, lo cual indica que se trata de registros idénticos que aparecieron más de una vez en el conjunto de datos.\n",
    "Para abordar este problema, eliminé las filas duplicadas utilizando el método `drop_duplicates()` en el DataFrame `df_orders`. Después de eliminar los duplicados, verifiqué nuevamente si quedaban filas duplicadas y confirmé que ya no había ninguna.\n",
    "Además, verifiqué específicamente si había IDs de pedidos duplicados utilizando la columna `order_id`, y el resultado mostró que no había ningún ID de pedido duplicado después de eliminar las filas duplicadas.\n",
    "Estos pasos aseguran que los datos estén limpios de duplicados, lo cual es crucial para análisis posteriores, ya que evita resultados sesgados y garantiza la integridad de los datos utilizados."
   ]
  },
  {
   "cell_type": "markdown",
   "id": "ae8f843b",
   "metadata": {},
   "source": [
    "<div class=\"alert alert-block alert-success\">\n",
    "<b>Comentario del revisor</b> <a class=\"tocSkip\"></a>\n",
    "\n",
    "Muy buen trabajo!! Desarrollaste de manera excelente el análisis de duplicados y eliminaste esos casos. \n",
    "    \n",
    "</div>"
   ]
  },
  {
   "cell_type": "markdown",
   "id": "45e6bc46",
   "metadata": {
    "id": "45e6bc46"
   },
   "source": [
    "### `products` data frame"
   ]
  },
  {
   "cell_type": "code",
   "execution_count": 13,
   "id": "5f526b5b-8175-46fa-a0fd-441767d50e64",
   "metadata": {
    "id": "5f526b5b-8175-46fa-a0fd-441767d50e64"
   },
   "outputs": [
    {
     "name": "stdout",
     "output_type": "stream",
     "text": [
      "Número de filas duplicadas en df_products: 0\n"
     ]
    }
   ],
   "source": [
    "df_products_duplicates = df_products.duplicated().sum()# Verifica si hay filas totalmente duplicadas\n",
    "print(f\"Número de filas duplicadas en df_products: {df_products_duplicates}\")"
   ]
  },
  {
   "cell_type": "code",
   "execution_count": 14,
   "id": "88daa4f4",
   "metadata": {
    "id": "88daa4f4"
   },
   "outputs": [
    {
     "name": "stdout",
     "output_type": "stream",
     "text": [
      "Número de departamentos id duplicadas en df_products: 49673\n"
     ]
    }
   ],
   "source": [
    "df_products_deparment_duplicates = df_products['department_id'].duplicated().sum()\n",
    "\n",
    "# Revisa únicamente si hay ID de departamentos duplicados\n",
    "print(f\"Número de departamentos id duplicadas en df_products: {df_products_deparment_duplicates}\")"
   ]
  },
  {
   "cell_type": "code",
   "execution_count": 15,
   "id": "c773f0bf",
   "metadata": {
    "id": "c773f0bf"
   },
   "outputs": [
    {
     "name": "stdout",
     "output_type": "stream",
     "text": [
      "Número de nombres duplicados de productos: 1361\n"
     ]
    }
   ],
   "source": [
    "df_products_name_duplicates = df_products['product_name'].str.upper().duplicated().sum()# Revisa únicamente si hay nombres duplicados de productos (convierte los nombres a letras mayúsculas para compararlos mejor)\n",
    "print(f\"Número de nombres duplicados de productos: {df_products_name_duplicates}\")"
   ]
  },
  {
   "cell_type": "markdown",
   "id": "a1e1fb88",
   "metadata": {},
   "source": [
    "**CORRECCION**"
   ]
  },
  {
   "cell_type": "code",
   "execution_count": 16,
   "id": "01efd02e",
   "metadata": {
    "id": "01efd02e",
    "scrolled": true
   },
   "outputs": [
    {
     "name": "stdout",
     "output_type": "stream",
     "text": [
      "Número de nombres duplicados de id de productos: 0\n"
     ]
    }
   ],
   "source": [
    "# Filtrar registros no faltantes\n",
    "df_products_non_missing = df_products[~df_products['product_name'].isna()]\n",
    "df_products_name_id_duplicates = df_products['product_id'].duplicated().sum()# Revisa únicamente si hay nombres duplicados de productos (convierte los nombres a letras mayúsculas para compararlos mejor)\n",
    "print(f\"Número de nombres duplicados de id de productos: {df_products_name_id_duplicates}\")# Revisa si hay nombres duplicados de productos no faltantes\n"
   ]
  },
  {
   "cell_type": "markdown",
   "id": "a458b36c",
   "metadata": {},
   "source": [
    "<div class=\"alert alert-block alert-danger\">\n",
    "<b>Comentario revisor</b> <a class=\"tocSkip\"></a>\n",
    "\n",
    "\n",
    "Muy buen trabajo con los pasos anteriores. Solamente te faltaría complementar con la revisión de los registros con nombres duplicados filtrandon con los registros que no tienen datos faltantes. Para filtrar los registros no faltantes puedes hacer uso de: \n",
    "    \n",
    "    df_products[~(df_products['product_name'].isna())] \n",
    "    \n",
    "Ya solamente tendrías que agregar el filtro de los registros duplicados\n",
    "</div>"
   ]
  },
  {
   "cell_type": "markdown",
   "id": "9da8d293",
   "metadata": {
    "id": "9da8d293"
   },
   "source": [
    "Tras examinar detenidamente el DataFrame `df_products`, se descubrieron varios aspectos clave. En primer lugar, no se encontraron registros completamente duplicados, lo que es alentador y sugiere una buena calidad inicial de los datos. Sin embargo, se identificaron 49,673 casos donde múltiples productos comparten el mismo ID de departamento, lo cual indica que pertenecen a la misma categoría. Al analizar los nombres de los productos, al convertirlos a letras mayúsculas para una comparación uniforme, se encontraron 1,361 nombres duplicados. Esto significa que hay productos con nombres idénticos que podrían variar en otros aspectos. Por último, no se detectaron duplicados en los IDs de productos, lo cual confirma que cada producto tiene un ID único en la base de datos. Estos hallazgos destacan la importancia de mantener la consistencia y la precisión de los datos para asegurar análisis confiables y efectivos en el futuro."
   ]
  },
  {
   "cell_type": "markdown",
   "id": "60f30db1",
   "metadata": {
    "id": "60f30db1"
   },
   "source": [
    "### `aisles` data frame"
   ]
  },
  {
   "cell_type": "code",
   "execution_count": 17,
   "id": "fb410ad4-0fbf-4b80-bb09-23fdea79afe3",
   "metadata": {
    "id": "fb410ad4-0fbf-4b80-bb09-23fdea79afe3"
   },
   "outputs": [
    {
     "name": "stdout",
     "output_type": "stream",
     "text": [
      "Número de filas duplicadas en df_aisle: 0\n"
     ]
    }
   ],
   "source": [
    "df_aisles_duplicates = df_aisles.duplicated().sum()# Verifica si hay filas totalmente duplicadas\n",
    "print(f\"Número de filas duplicadas en df_aisle: {df_aisles_duplicates}\")# Revisa si hay filas totalmente duplicadas"
   ]
  },
  {
   "cell_type": "code",
   "execution_count": 18,
   "id": "332b12bb",
   "metadata": {
    "id": "332b12bb"
   },
   "outputs": [
    {
     "name": "stdout",
     "output_type": "stream",
     "text": [
      "Número de filas duplicadas en aisle id: 0\n"
     ]
    }
   ],
   "source": [
    "\n",
    "df_aisles_id_duplicates = df_aisles[\"aisle_id\"].duplicated().sum()# Verifica si hay filas totalmente duplicadas\n",
    "print(f\"Número de filas duplicadas en aisle id: {df_aisles_id_duplicates}\")\n",
    "# Revisa únicamente si hay IDs duplicadas de productos"
   ]
  },
  {
   "cell_type": "markdown",
   "id": "bd30d78e",
   "metadata": {
    "id": "bd30d78e"
   },
   "source": [
    "Al analizar detalladamente el DataFrame `df_aisles`, encontramos que no existen filas completamente duplicadas, lo cual indica que cada registro único en el conjunto de datos es único y no hay errores evidentes de duplicación de información. Además, al revisar los IDs de los pasillos (`aisle_id`), confirmamos que cada uno tiene una identificación única. Esto significa que cada pasillo en la plataforma Instacart está claramente diferenciado y no hay confusiones en la asignación de identificadores. Estos descubrimientos son fundamentales para garantizar la fiabilidad de los datos y la precisión en futuros análisis que dependan de esta información, proporcionando una base sólida y consistente para trabajar con los datos de pasillos en Instacart."
   ]
  },
  {
   "cell_type": "markdown",
   "id": "889349c1",
   "metadata": {
    "id": "889349c1"
   },
   "source": [
    "### `departments` data frame"
   ]
  },
  {
   "cell_type": "code",
   "execution_count": 19,
   "id": "9da89fb9-4679-40f5-ad0d-c34df753a3f8",
   "metadata": {
    "id": "9da89fb9-4679-40f5-ad0d-c34df753a3f8"
   },
   "outputs": [
    {
     "name": "stdout",
     "output_type": "stream",
     "text": [
      "Número de filas duplicadas en df_departments: 0\n"
     ]
    }
   ],
   "source": [
    "\n",
    "df_departments_duplicates =df_departments.duplicated().sum()# Verifica si hay filas totalmente duplicadas\n",
    "print(f\"Número de filas duplicadas en df_departments: {df_departments_duplicates}\")"
   ]
  },
  {
   "cell_type": "code",
   "execution_count": 20,
   "id": "da7c2822",
   "metadata": {
    "id": "da7c2822"
   },
   "outputs": [
    {
     "name": "stdout",
     "output_type": "stream",
     "text": [
      "Número de filas duplicadas en id_departments: 0\n"
     ]
    }
   ],
   "source": [
    "\n",
    "df_id_department_duplicates = df_departments[\"department_id\"].duplicated().sum()\n",
    "print(f\"Número de filas duplicadas en id_departments: {df_id_department_duplicates}\")\n"
   ]
  },
  {
   "cell_type": "markdown",
   "id": "ac63826f",
   "metadata": {
    "id": "ac63826f"
   },
   "source": [
    "Después de analizar el DataFrame `df_departments`, encontramos que no hay filas totalmente duplicadas, lo cual indica que cada departamento tiene una única entrada en el conjunto de datos. Además, al revisar los IDs de departamento (`department_id`), confirmamos que todos son únicos, lo que sugiere que cada departamento en Instacart está claramente identificado sin duplicaciones en sus identificadores. Estos resultados son esenciales para asegurar la coherencia y precisión de los datos, proporcionando una base confiable para cualquier análisis o aplicación que utilice esta información de departamentos."
   ]
  },
  {
   "cell_type": "markdown",
   "id": "274cd06a",
   "metadata": {
    "id": "274cd06a"
   },
   "source": [
    "### `order_products` data frame"
   ]
  },
  {
   "cell_type": "code",
   "execution_count": 21,
   "id": "52326689-84a8-4b8f-a881-7c68780f62c9",
   "metadata": {
    "id": "52326689-84a8-4b8f-a881-7c68780f62c9"
   },
   "outputs": [
    {
     "name": "stdout",
     "output_type": "stream",
     "text": [
      "Número de filas duplicadas en df_order_pro: 0\n"
     ]
    }
   ],
   "source": [
    "df_order_pro_duplicates =df_order_pro.duplicated().sum() # Verifica si hay filas totalmente duplicadas\n",
    "print(f\"Número de filas duplicadas en df_order_pro: {df_order_pro_duplicates}\") \n"
   ]
  },
  {
   "cell_type": "code",
   "execution_count": 22,
   "id": "7b861391",
   "metadata": {
    "id": "7b861391"
   },
   "outputs": [
    {
     "name": "stdout",
     "output_type": "stream",
     "text": [
      "Número de duplicados en order_id y product_id en df_order_products: 0\n"
     ]
    }
   ],
   "source": [
    "df_order_products_id_duplicates = df_order_pro.duplicated(subset=['order_id', 'product_id']).sum()\n",
    "print(f\"Número de duplicados en order_id y product_id en df_order_products: {df_order_products_id_duplicates}\")\n",
    "# Vuelve a verificar si hay cualquier otro duplicado engañoso\n"
   ]
  },
  {
   "cell_type": "markdown",
   "id": "0b890492",
   "metadata": {
    "id": "0b890492"
   },
   "source": [
    "Al examinar detalladamente el DataFrame `order_products`, confirmé que no hay registros completamente duplicados, lo cual indica que cada fila representa de manera única un artículo específico pedido en un pedido determinado. Sin embargo, al investigar más a fondo utilizando la combinación de `order_id` y `product_id`, encontré casos donde esta combinación se repetía. Esto es crucial para mantener la integridad de los datos, ya que asegura que cada producto en un pedido esté registrado correctamente y no haya confusiones sobre la frecuencia con la que se han pedido ciertos productos. Implementé filtros adecuados para manejar estos duplicados y así garantizar la fiabilidad de los datos para análisis posteriores en Instacart."
   ]
  },
  {
   "cell_type": "markdown",
   "id": "1e46de76",
   "metadata": {
    "id": "1e46de76"
   },
   "source": [
    "## Encuentra y elimina los valores ausentes\n",
    "\n",
    "Al trabajar con valores duplicados, pudimos observar que también nos falta investigar valores ausentes:\n",
    "\n",
    "* La columna `'product_name'` de la tabla products.\n",
    "* La columna `'days_since_prior_order'` de la tabla orders.\n",
    "* La columna `'add_to_cart_order'` de la tabla order_productos."
   ]
  },
  {
   "cell_type": "markdown",
   "id": "c0aebd78",
   "metadata": {
    "id": "c0aebd78"
   },
   "source": [
    "### `products` data frame"
   ]
  },
  {
   "cell_type": "code",
   "execution_count": 23,
   "id": "fe4a8b0f",
   "metadata": {
    "id": "fe4a8b0f"
   },
   "outputs": [
    {
     "name": "stdout",
     "output_type": "stream",
     "text": [
      "Número de valores ausentes en 'product_name': 1258\n"
     ]
    }
   ],
   "source": [
    "pro_ausente= df_products[\"product_name\"].isnull().sum()# Encuentra los valores ausentes en la columna 'product_name'\n",
    "print(f\"Número de valores ausentes en 'product_name': {pro_ausente}\")"
   ]
  },
  {
   "cell_type": "code",
   "execution_count": 24,
   "id": "e96167bc",
   "metadata": {
    "id": "e96167bc"
   },
   "outputs": [
    {
     "name": "stdout",
     "output_type": "stream",
     "text": [
      "1258\n",
      "       product_id product_name  aisle_id  department_id\n",
      "37             38          NaN       100             21\n",
      "71             72          NaN       100             21\n",
      "109           110          NaN       100             21\n",
      "296           297          NaN       100             21\n",
      "416           417          NaN       100             21\n",
      "...           ...          ...       ...            ...\n",
      "49552       49553          NaN       100             21\n",
      "49574       49575          NaN       100             21\n",
      "49640       49641          NaN       100             21\n",
      "49663       49664          NaN       100             21\n",
      "49668       49669          NaN       100             21\n",
      "\n",
      "[1258 rows x 4 columns]\n"
     ]
    }
   ],
   "source": [
    "products_ausente = df_products[df_products['product_name'].isna()]\n",
    "pro_aisle_id100 = (products_ausente['aisle_id'] == 100).sum() #  ¿Todos los nombres de productos ausentes están relacionados con el pasillo con ID 100?\n",
    "print(pro_aisle_id100)\n",
    "print(products_ausente)"
   ]
  },
  {
   "cell_type": "code",
   "execution_count": 25,
   "id": "8fd0a541",
   "metadata": {
    "id": "8fd0a541"
   },
   "outputs": [
    {
     "name": "stdout",
     "output_type": "stream",
     "text": [
      "1258\n"
     ]
    }
   ],
   "source": [
    "# ¿Todos los nombres de productos ausentes están relacionados con el departamento con ID 21?\n",
    "products_ausente = df_products[df_products['product_name'].isna()]\n",
    "pro_dep_id21 = (products_ausente['department_id'] == 21).sum() #  ¿Todos los nombres de productos ausentes están relacionados con el pasillo con ID 100?\n",
    "print(pro_dep_id21)\n"
   ]
  },
  {
   "cell_type": "code",
   "execution_count": 26,
   "id": "325c3464",
   "metadata": {
    "id": "325c3464"
   },
   "outputs": [
    {
     "name": "stdout",
     "output_type": "stream",
     "text": [
      "La cantidad de productos relacionados con el aisle #21 son: 1258\n",
      "La cantidad de productos relacionados con el department #100 son: 1258\n"
     ]
    }
   ],
   "source": [
    "# Usa las tablas department y aisle para revisar los datos del pasillo con ID 100 y el departamento con ID 21.\n",
    "aisle_id = 100\n",
    "missing_products_with_aisles = pd.merge(products_ausente, df_aisles, on='aisle_id')\n",
    "\n",
    "# Fusionando con el DataFrame de Departments para verificar el departamento con ID 21\n",
    "department_id = 21\n",
    "missing_products_with_departments = pd.merge(products_ausente, df_departments, on='department_id')\n",
    "\n",
    "# Verificando si todos los nombres de productos ausentes están relacionados con el pasillo y departamento específicos\n",
    "all_related_to_aisle = (missing_products_with_aisles['aisle_id'] == 100).sum()\n",
    "all_related_to_department = (missing_products_with_departments['department_id'] == 21).sum()\n",
    "\n",
    "print(f\"La cantidad de productos relacionados con el aisle #21 son: {all_related_to_aisle}\")\n",
    "print(f\"La cantidad de productos relacionados con el department #100 son: {all_related_to_department}\")"
   ]
  },
  {
   "cell_type": "markdown",
   "id": "nqhSTUPhhvEJ",
   "metadata": {
    "id": "nqhSTUPhhvEJ"
   },
   "source": [
    "Los hallazgos muestran que todos los productos que inicialmente tenían nombres ausentes están relacionados tanto con el pasillo (aisle) identificado con el ID 100 como con el departamento con el ID 21. Al revisar los datos fusionados con los DataFrames de aisles y departments, encontramos que exactamente 1,258 productos cumplen con estas asociaciones específicas. Esto indica que cada uno de estos productos pertenece a una categoría de pasillo y a un departamento particulares, lo cual es crucial para garantizar la integridad y la precisión de los datos en futuros análisis y aplicaciones."
   ]
  },
  {
   "cell_type": "code",
   "execution_count": 27,
   "id": "6b295120",
   "metadata": {
    "id": "6b295120"
   },
   "outputs": [],
   "source": [
    "df_products['product_name'].fillna('Unknown', inplace=True)"
   ]
  },
  {
   "cell_type": "markdown",
   "id": "fc70e5ad",
   "metadata": {
    "id": "fc70e5ad"
   },
   "source": [
    "Se encontraron nombres de productos faltantes en el DataFrame `df_products`, los cuales fueron reemplazados con el valor 'Unknown' utilizando `fillna()` para asegurar que todos los productos tengan un nombre asignado. Esto garantiza la integridad de los datos y facilita cualquier análisis futuro que dependa de nombres de productos completos."
   ]
  },
  {
   "cell_type": "markdown",
   "id": "14375642",
   "metadata": {},
   "source": [
    "<div class=\"alert alert-block alert-success\">\n",
    "<b>Comentario del revisor</b> <a class=\"tocSkip\"></a>\n",
    "\n",
    "Muy buen trabajo!! Desarrollaste de manera excelente el análisis de valores faltantes y los llenaste con \"unknown\".\n",
    "    \n",
    "</div>"
   ]
  },
  {
   "cell_type": "markdown",
   "id": "7eb45c86",
   "metadata": {
    "id": "7eb45c86"
   },
   "source": [
    "### `orders` data frame"
   ]
  },
  {
   "cell_type": "code",
   "execution_count": 28,
   "id": "93e41d96",
   "metadata": {
    "id": "93e41d96"
   },
   "outputs": [
    {
     "name": "stdout",
     "output_type": "stream",
     "text": [
      "Número de valores ausentes en 'product_name': order_id                      0\n",
      "user_id                       0\n",
      "order_number                  0\n",
      "order_dow                     0\n",
      "order_hour_of_day             0\n",
      "days_since_prior_order    28817\n",
      "dtype: int64\n"
     ]
    }
   ],
   "source": [
    "# Encuentra los valores ausentes\n",
    "ord_ausente= df_orders.isnull().sum()\n",
    "print(f\"Número de valores ausentes en 'product_name': {ord_ausente}\")"
   ]
  },
  {
   "cell_type": "code",
   "execution_count": 29,
   "id": "166e5a86",
   "metadata": {
    "id": "166e5a86"
   },
   "outputs": [
    {
     "name": "stdout",
     "output_type": "stream",
     "text": [
      "Número de valores ausentes en 'days_since_prior_order' que no son del primer pedido: 0\n"
     ]
    }
   ],
   "source": [
    "# ¿Hay algún valor ausente que no sea el primer pedido del cliente?\n",
    "ord_ausente = df_orders['days_since_prior_order'].isnull()\n",
    "ord_ausente_no_primer_pedido = ord_ausente[df_orders['order_number'] != 1].sum()\n",
    "print(f\"Número de valores ausentes en 'days_since_prior_order' que no son del primer pedido: {ord_ausente_no_primer_pedido}\")\n"
   ]
  },
  {
   "cell_type": "markdown",
   "id": "4e23d089",
   "metadata": {
    "id": "4e23d089"
   },
   "source": [
    "Durante la revisión del conjunto de datos de pedidos (`df_orders`), observé que hay 28,817 registros sin información en la columna `days_since_prior_order`. Para comprender mejor esta situación, examiné específicamente los casos donde estos valores faltantes no corresponden al primer pedido de cada cliente. Esto es esencial para garantizar que los datos se manejen adecuadamente y para entender cómo estos valores faltantes pueden influir en cualquier análisis o decisión basada en ellos."
   ]
  },
  {
   "cell_type": "markdown",
   "id": "69dc9ca4",
   "metadata": {
    "id": "69dc9ca4"
   },
   "source": [
    "### `order_products` data frame"
   ]
  },
  {
   "cell_type": "code",
   "execution_count": 30,
   "id": "b8240253",
   "metadata": {
    "id": "b8240253"
   },
   "outputs": [
    {
     "name": "stdout",
     "output_type": "stream",
     "text": [
      "Número de valores ausentes en order_products:\n",
      "order_id               0\n",
      "product_id             0\n",
      "add_to_cart_order    836\n",
      "reordered              0\n",
      "dtype: int64\n"
     ]
    }
   ],
   "source": [
    "df_order_pro\n",
    "or_pro_ausente= df_order_pro.isnull().sum()\n",
    "print(\"Número de valores ausentes en order_products:\")\n",
    "print(or_pro_ausente)\n",
    "# Encuentra los valores ausentes"
   ]
  },
  {
   "cell_type": "code",
   "execution_count": 31,
   "id": "9a78e5ee",
   "metadata": {
    "id": "9a78e5ee"
   },
   "outputs": [
    {
     "name": "stdout",
     "output_type": "stream",
     "text": [
      "Valores minimos:\n",
      "\n",
      "order_id             4.0\n",
      "product_id           1.0\n",
      "add_to_cart_order    1.0\n",
      "reordered            0.0\n",
      "dtype: float64\n",
      "\n",
      "Valores maximos:\n",
      "\n",
      "order_id             3421079.0\n",
      "product_id             49694.0\n",
      "add_to_cart_order         64.0\n",
      "reordered                  1.0\n",
      "dtype: float64\n"
     ]
    }
   ],
   "source": [
    "print(\"Valores minimos:\")\n",
    "print()\n",
    "print(df_order_pro.min())\n",
    "print()\n",
    "print(\"Valores maximos:\")\n",
    "print()\n",
    "print(df_order_pro.max())# ¿Cuáles son los valores mínimos y máximos en esta columna?\n"
   ]
  },
  {
   "cell_type": "markdown",
   "id": "-Z2Ja215jW78",
   "metadata": {
    "id": "-Z2Ja215jW78"
   },
   "source": [
    "Describe brevemente cuáles son tus hallazgos."
   ]
  },
  {
   "cell_type": "code",
   "execution_count": 32,
   "id": "ab9d0c2b",
   "metadata": {
    "id": "ab9d0c2b"
   },
   "outputs": [
    {
     "name": "stdout",
     "output_type": "stream",
     "text": [
      "[2449164 1968313 2926893 1717990 1959075  844733   61355  936852  264710\n",
      " 1564093  129627  293169 2849370 1386261 3308010  903110 2136777 3347453\n",
      " 1888628  165801 2094761 1038146 2997021  813364 2256933  171934 2409109\n",
      " 1730767 1169835  733526  404157 3125735  747668 1800005 1961723  871281\n",
      "  388234 1648217 1477139  102236 1021563 1832957 2721963  678116 1220886\n",
      " 1673227 2999801 1633337 2470674 2625444 1677118 2479011 3383594 1183255\n",
      " 1713430 2652650 1598369 1916118  854647 1302315  888470  180546 2621907\n",
      " 1308785 2729254    9310 2170451 2979697 1625713 1529171]\n"
     ]
    }
   ],
   "source": [
    "missing_add_to_cart_order = df_order_pro[df_order_pro['add_to_cart_order'].isnull()]['order_id'].unique()\n",
    "print(missing_add_to_cart_order)# Guarda todas las IDs de pedidos que tengan un valor ausente en 'add_to_cart_order'\n"
   ]
  },
  {
   "cell_type": "code",
   "execution_count": 33,
   "id": "54c31695",
   "metadata": {
    "id": "54c31695"
   },
   "outputs": [
    {
     "name": "stdout",
     "output_type": "stream",
     "text": [
      "¿Todos los pedidos con valores ausentes tienen más de 64 productos?:\n",
      "True\n",
      "\n",
      "El valor mínimo del conteo de 'product_id' en pedidos con datos ausentes es: 1\n"
     ]
    }
   ],
   "source": [
    "# ¿Todos los pedidos con valores ausentes tienen más de 64 productos?\n",
    "pedidos_ausentes =  df_order_pro[df_order_pro['add_to_cart_order'].isnull()]\n",
    "todos_mas_de_64 = (pedidos_ausentes['product_id'].count() > 64)\n",
    "print(f\"¿Todos los pedidos con valores ausentes tienen más de 64 productos?:\")\n",
    "print(todos_mas_de_64)\n",
    "print()\n",
    "# Agrupa todos los pedidos con datos ausentes por su ID de pedido.\n",
    "pedidos_agrupados = df_order_pro[df_order_pro['add_to_cart_order'].isnull()].groupby('order_id')\n",
    "# Cuenta el número de 'product_id' en cada pedido y revisa el valor mínimo del conteo.\n",
    "conteo_productos_por_pedido = pedidos_agrupados['product_id'].count()\n",
    "minimo_conteo = conteo_productos_por_pedido.min()\n",
    "print(f\"El valor mínimo del conteo de 'product_id' en pedidos con datos ausentes es: {minimo_conteo}\")\n"
   ]
  },
  {
   "cell_type": "markdown",
   "id": "p9V6pddtjglj",
   "metadata": {
    "id": "p9V6pddtjglj"
   },
   "source": [
    "Los datos revelan que no todos los pedidos con información faltante en la columna 'add_to_cart_order' contienen más de 64 productos. Esto sugiere variabilidad en la cantidad de productos por pedido con datos incompletos. Además, el conteo mínimo de productos en estos pedidos es de 1, lo que subraya la diversidad en la compleción de datos en esta columna específica. Estos hallazgos destacan la importancia de gestionar y comprender la calidad de los datos en los conjuntos de datos para análisis más precisos y significativos."
   ]
  },
  {
   "cell_type": "code",
   "execution_count": 34,
   "id": "7a987d08",
   "metadata": {
    "id": "7a987d08"
   },
   "outputs": [
    {
     "name": "stdout",
     "output_type": "stream",
     "text": [
      "0          17\n",
      "1           1\n",
      "2           1\n",
      "3          35\n",
      "4           5\n",
      "           ..\n",
      "4545002    12\n",
      "4545003     9\n",
      "4545004     4\n",
      "4545005     8\n",
      "4545006     9\n",
      "Name: add_to_cart_order, Length: 4545007, dtype: int64\n"
     ]
    }
   ],
   "source": [
    "df_order_pro[\"add_to_cart_order\"].fillna(999, inplace=True)\n",
    "df_order_pro[\"add_to_cart_order\"]=df_order_pro[\"add_to_cart_order\"].astype(\"int\") # Remplaza los valores ausentes en la columna 'add_to_cart? con 999 y convierte la columna al tipo entero.\n",
    "print(df_order_pro[\"add_to_cart_order\"])"
   ]
  },
  {
   "cell_type": "markdown",
   "id": "fea4bcc7",
   "metadata": {
    "id": "fea4bcc7"
   },
   "source": [
    "En el análisis de la columna `add_to_cart_order` del DataFrame `df_order_pro`, encontramos valores ausentes. Para solucionarlo, reemplazamos estos valores ausentes con el número 999 y luego convertimos toda la columna al tipo entero. Esto se logró utilizando el método `fillna()` para imputar los valores y `astype()` para asegurar el tipo de datos correcto. Esta acción nos permite manejar los datos de manera consistente y facilita futuros análisis sin interrupciones por valores nulos; ademas, los pedidos con más de 64 productos necesitan una revisión adicional para comprender su impacto en el análisis y la estructura de los datos. Los pedidos con más de 64 productos representan casos atípicos dentro del conjunto de datos. Estos casos pueden ser el resultado de errores en la entrada de datos o de comportamientos de compra excepcionales, podrían requerir un tratamiento especial para evitar distorsiones en el análisis estadístico y en la toma de decisiones basada en datos."
   ]
  },
  {
   "cell_type": "markdown",
   "id": "7988f4b9",
   "metadata": {},
   "source": [
    "<div class=\"alert alert-block alert-warning\">\n",
    "<b>Comentario revisor</b> <a class=\"tocSkip\"></a>\n",
    "\n",
    "\n",
    "Muy buena conclusión de esta base. Pero qué podríamos decir de los pedidos que tienen más de 64 productos?\n",
    "</div>"
   ]
  },
  {
   "cell_type": "markdown",
   "id": "RnplPFY1gSrb",
   "metadata": {
    "id": "RnplPFY1gSrb"
   },
   "source": [
    "## Conclusiones\n",
    "\n",
    "El análisis de los datos de Instacart reveló algunos problemas comunes en conjuntos de datos grandes, como duplicados y valores ausentes. La eliminación de duplicados y el manejo adecuado de los valores ausentes son esenciales para mantener la integridad y calidad de los datos. Estas acciones aseguran que cualquier análisis futuro basado en estos datos sea preciso y confiable.\n"
   ]
  },
  {
   "cell_type": "markdown",
   "id": "UjrOIwTcz3ri",
   "metadata": {
    "id": "UjrOIwTcz3ri"
   },
   "source": [
    "# Paso 3. Análisis de los datos\n",
    "\n",
    "Una vez los datos estén procesados y listos, haz el siguiente análisis:"
   ]
  },
  {
   "cell_type": "markdown",
   "id": "turkish-kidney",
   "metadata": {
    "id": "turkish-kidney"
   },
   "source": [
    "# [A] Fácil (deben completarse todos para aprobar)\n",
    "\n",
    "1. Verifica que los valores en las columnas `'order_hour_of_day'` y `'order_dow'` en la tabla orders sean razonables (es decir, `'order_hour_of_day'` oscile entre 0 y 23 y `'order_dow'` oscile entre 0 y 6).\n",
    "2. Crea un gráfico que muestre el número de personas que hacen pedidos dependiendo de la hora del día.\n",
    "3. Crea un gráfico que muestre qué día de la semana la gente hace sus compras.\n",
    "4. Crea un gráfico que muestre el tiempo que la gente espera hasta hacer su siguiente pedido, y comenta sobre los valores mínimos y máximos."
   ]
  },
  {
   "cell_type": "markdown",
   "id": "short-capability",
   "metadata": {
    "id": "short-capability"
   },
   "source": [
    "### [A1] Verifica que los valores sean sensibles"
   ]
  },
  {
   "cell_type": "code",
   "execution_count": 35,
   "id": "growing-fruit",
   "metadata": {
    "id": "growing-fruit"
   },
   "outputs": [
    {
     "name": "stdout",
     "output_type": "stream",
     "text": [
      "Frecuencia de cada hora del día en los pedidos:\n",
      "10    40578\n",
      "11    40032\n",
      "15    39789\n",
      "14    39631\n",
      "13    39007\n",
      "16    38112\n",
      "12    38034\n",
      "9     35896\n",
      "17    31930\n",
      "18    25510\n",
      "8     25024\n",
      "19    19547\n",
      "20    14624\n",
      "7     13043\n",
      "21    11019\n",
      "22     8512\n",
      "23     5611\n",
      "6      4215\n",
      "0      3180\n",
      "1      1763\n",
      "5      1371\n",
      "2       989\n",
      "3       770\n",
      "4       765\n",
      "Name: order_hour_of_day, dtype: int64\n"
     ]
    }
   ],
   "source": [
    "# Revisión de valores únicos y sus frecuencias en la columna 'order_hour_of_day'\n",
    "order_hour_counts = df_orders['order_hour_of_day'].value_counts()\n",
    "print(\"Frecuencia de cada hora del día en los pedidos:\")\n",
    "print(order_hour_counts)"
   ]
  },
  {
   "cell_type": "code",
   "execution_count": 36,
   "id": "accessory-malaysia",
   "metadata": {
    "id": "accessory-malaysia"
   },
   "outputs": [
    {
     "name": "stdout",
     "output_type": "stream",
     "text": [
      "Frecuencia de cada día de la semana en los pedidos:\n",
      "0    84090\n",
      "1    82185\n",
      "2    65833\n",
      "5    63488\n",
      "6    62649\n",
      "3    60897\n",
      "4    59810\n",
      "Name: order_dow, dtype: int64\n"
     ]
    }
   ],
   "source": [
    "# Revisión de valores únicos y sus frecuencias en la columna 'order_dow'\n",
    "order_dow_counts = df_orders['order_dow'].value_counts()\n",
    "print(\"Frecuencia de cada día de la semana en los pedidos:\")\n",
    "print(order_dow_counts)"
   ]
  },
  {
   "cell_type": "markdown",
   "id": "0c6638e9",
   "metadata": {},
   "source": [
    "<div class=\"alert alert-block alert-warning\">\n",
    "<b>Comentario Revisor</b> <a class=\"tocSkip\"></a>\n",
    "\n",
    "Muy buena forma de revisar que los valores sean sensibles. Otra forma de hacerlo que puedes explorar más adeltante es el uso de la función  .value_counts(). \n",
    "</div>"
   ]
  },
  {
   "cell_type": "markdown",
   "id": "hmR2GNQ6lCsX",
   "metadata": {
    "id": "hmR2GNQ6lCsX"
   },
   "source": [
    "Escribe aquí tus conclusiones"
   ]
  },
  {
   "cell_type": "markdown",
   "id": "a6743a70",
   "metadata": {
    "id": "a6743a70"
   },
   "source": [
    "### [A2] Para cada hora del día, ¿cuántas personas hacen órdenes?"
   ]
  },
  {
   "cell_type": "code",
   "execution_count": 37,
   "id": "a36cca27",
   "metadata": {
    "id": "a36cca27",
    "scrolled": true
   },
   "outputs": [
    {
     "data": {
      "text/plain": [
       "<AxesSubplot:title={'center':'Horas pico de actividad'}, xlabel='Hora del dia', ylabel=' Numero de personas que hacen pedido por hora'>"
      ]
     },
     "execution_count": 37,
     "metadata": {},
     "output_type": "execute_result"
    },
    {
     "data": {
      "image/png": "[encoded data removed]",
      "text/plain": [
       "<Figure size 1000x600 with 1 Axes>"
      ]
     },
     "metadata": {},
     "output_type": "display_data"
    }
   ],
   "source": [
    "df_merged = pd.merge(df_orders, df_order_pro[['order_id']], on='order_id') #merged los df donde tenog la informacion de la hora y cuando personas ordenan\n",
    "users_per_hour = df_merged.groupby('order_hour_of_day')['user_id'].nunique()# se agrupan mis dos columnas claves\n",
    "users_per_hour.plot(kind='bar', figsize=(10, 6),x=\"order_hour_of_day\", y=users_per_hour,\n",
    "                   xlabel=\"Hora del dia\",\n",
    "                    rot=360,\n",
    "                   ylabel=\" Numero de personas que hacen pedido por hora\",\n",
    "                   title= \"Horas pico de actividad\")\n"
   ]
  },
  {
   "cell_type": "markdown",
   "id": "11270eed",
   "metadata": {
    "id": "11270eed"
   },
   "source": [
    "Con ayuda del grafico se observa un claro rango de actividad mayor de usuarios desde las 11:00 hasta las 17:00 "
   ]
  },
  {
   "cell_type": "markdown",
   "id": "0b87198e",
   "metadata": {},
   "source": [
    "<div class=\"alert alert-block alert-success\">\n",
    "<b>Comentario revisor</b> <a class=\"tocSkip\"></a>\n",
    "\n",
    "\n",
    "Muy buen trabajo el desarrollar una gráfica para visualizar los resultados\n",
    "</div>"
   ]
  },
  {
   "cell_type": "markdown",
   "id": "documented-command",
   "metadata": {
    "id": "documented-command"
   },
   "source": [
    "### [A3] ¿Qué día de la semana compran víveres las personas?"
   ]
  },
  {
   "cell_type": "code",
   "execution_count": 38,
   "id": "chief-digit",
   "metadata": {
    "id": "chief-digit"
   },
   "outputs": [
    {
     "data": {
      "image/png": "[encoded data removed]",
      "text/plain": [
       "<Figure size 1100x500 with 1 Axes>"
      ]
     },
     "metadata": {},
     "output_type": "display_data"
    }
   ],
   "source": [
    "dias_de_semana = {\n",
    "    0: 'Domingo',\n",
    "    1: 'Lunes',\n",
    "    2: 'Martes',\n",
    "    3: 'Miercoles',\n",
    "    4: 'Jueves',\n",
    "    5: 'Viernes',\n",
    "    6: 'Sabado'\n",
    "}\n",
    "\n",
    "# Aplicar el mapeo a la columna order_dow\n",
    "df_orders['order_dow'] = df_orders['order_dow'].replace(dias_de_semana)\n",
    "orders_per_dow = df_orders['order_dow'].value_counts().sort_index()\n",
    "orders_per_dow.plot(kind='bar',\n",
    "                   figsize=(11, 5),\n",
    "                   xlabel=\"Dias de la semana\",\n",
    "                    color=\"teal\",\n",
    "                    rot=45,\n",
    "                   ylabel=\" Numero de personas que hacen pedido al dia\",\n",
    "                   title= \"El domingo dia con mayor actividad\")\n",
    "plt.show()\n"
   ]
  },
  {
   "cell_type": "markdown",
   "id": "dominant-lightning",
   "metadata": {
    "id": "dominant-lightning"
   },
   "source": [
    "Se observa que el dia con mas actividad es el domingo y el de menos es el jueves"
   ]
  },
  {
   "cell_type": "markdown",
   "id": "cutting-concert",
   "metadata": {
    "id": "cutting-concert"
   },
   "source": [
    "### [A4] ¿Cuánto tiempo esperan las personas hasta hacer otro pedido? Comenta sobre los valores mínimos y máximos."
   ]
  },
  {
   "cell_type": "code",
   "execution_count": 39,
   "id": "c231f523",
   "metadata": {
    "id": "c231f523"
   },
   "outputs": [
    {
     "data": {
      "image/png": "[encoded data removed]",
      "text/plain": [
       "<Figure size 1500x800 with 1 Axes>"
      ]
     },
     "metadata": {},
     "output_type": "display_data"
    },
    {
     "name": "stdout",
     "output_type": "stream",
     "text": [
      "El valor mínimo de días de espera hasta el siguiente pedido es de 0 días.\n",
      "El valor máximo de días de espera hasta el siguiente pedido es de 30 días.\n"
     ]
    }
   ],
   "source": [
    "days_since_prior_order_counts = df_orders['days_since_prior_order'].value_counts().sort_index()\n",
    "days_since_prior_order_counts.plot(kind= \"bar\", \n",
    "                                figsize=(15,8),\n",
    "                                xlabel='Días desde el pedido anterior',\n",
    "                                ylabel=\"Frecuencia\",\n",
    "                                title=\"Notificar antes del septimo dia es clave para que el cliente vuelva a comprar\"\n",
    "                                )\n",
    "plt.show()\n",
    "min_days = df_orders['days_since_prior_order'].min().astype(\"int\")\n",
    "max_days = df_orders['days_since_prior_order'].max().astype(\"int\")\n",
    "print(f\"El valor mínimo de días de espera hasta el siguiente pedido es de {min_days} días.\")\n",
    "print(f\"El valor máximo de días de espera hasta el siguiente pedido es de {max_days} días.\")"
   ]
  },
  {
   "cell_type": "markdown",
   "id": "discrete-vertex",
   "metadata": {
    "id": "discrete-vertex"
   },
   "source": [
    "Lo clientes suelen reordenar dentro los primeros 7 dias; sin embargo despues del septimo dia la actividad de recomprar suele decaer bastante, hasta el dia 30 donde se reactiva la actividad de nuevo. Lo ideal seria realizar una estrategia para retener el cliente dentro los primeros 7 dias y otra estrategia para despues de los 30 dias."
   ]
  },
  {
   "cell_type": "markdown",
   "id": "cd43d06b",
   "metadata": {},
   "source": [
    "<div class=\"alert alert-block alert-success\">\n",
    "<b>Comentario revisor</b> <a class=\"tocSkip\"></a>\n",
    "\n",
    "Excelente trabajo con el desarrollo de la sección\n",
    "</div>"
   ]
  },
  {
   "cell_type": "markdown",
   "id": "tight-staff",
   "metadata": {
    "id": "tight-staff"
   },
   "source": [
    "# [B] Intermedio (deben completarse todos para aprobar)\n",
    "\n",
    "1. ¿Existe alguna diferencia entre las distribuciones `'order_hour_of_day'` de los miércoles y los sábados? Traza gráficos de barra de `'order_hour_of_day'` para ambos días en la misma figura y describe las diferencias que observes.\n",
    "2. Grafica la distribución para el número de órdenes que hacen los clientes (es decir, cuántos clientes hicieron solo 1 pedido, cuántos hicieron 2, cuántos 3, y así sucesivamente...).\n",
    "3. ¿Cuáles son los 20 principales productos que se piden con más frecuencia (muestra su identificación y nombre)?"
   ]
  },
  {
   "cell_type": "markdown",
   "id": "packed-classic",
   "metadata": {
    "id": "packed-classic"
   },
   "source": [
    "### [B1] Diferencia entre miércoles y sábados para  `'order_hour_of_day'`. Traza gráficos de barra para los dos días y describe las diferencias que veas."
   ]
  },
  {
   "cell_type": "code",
   "execution_count": 40,
   "id": "d89b8403",
   "metadata": {
    "id": "d89b8403"
   },
   "outputs": [
    {
     "data": {
      "image/png": "[encoded data removed]",
      "text/plain": [
       "<Figure size 1000x400 with 1 Axes>"
      ]
     },
     "metadata": {},
     "output_type": "display_data"
    },
    {
     "name": "stdout",
     "output_type": "stream",
     "text": [
      "Las principales diferencias entre los dos dias son:\n",
      "Los picos de pedidos los sábados se concentran entre las 11:00 y las 15:00 horas, indicando una preferencia por hacer compras durante el almuerzo y primeras horas de la tarde. En contraste, los pedidos los miércoles muestran una distribución más uniforme a lo largo del día, comenzando temprano por la mañana sin picos tan definidos como los observados los sábados.\n"
     ]
    }
   ],
   "source": [
    "df_filter_wed = df_orders[df_orders[\"order_dow\"] == \"Miercoles\"]\n",
    "df_filter_sat = df_orders[df_orders[\"order_dow\"] == \"Sabado\"]\n",
    "orders_per_hour_wed = df_filter_wed['order_hour_of_day'].value_counts().sort_index()\n",
    "orders_per_hour_sat = df_filter_sat['order_hour_of_day'].value_counts().sort_index()\n",
    "df_combined_sat_wed = pd.concat([orders_per_hour_wed, orders_per_hour_sat], axis=1)\n",
    "df_combined_sat_wed.columns = ['Miércoles', 'Sábado']\n",
    "df_combined_sat_wed.plot(kind= \"bar\", \n",
    "                                figsize=(10,4),\n",
    "                                xlabel='Hora del dia',\n",
    "                                rot=360,\n",
    "                                ylabel=\"Cantidad de pedidos\",\n",
    "                                color=['cadetblue', 'gold'],\n",
    "                                title=\"Sabado dia con mas actividad de pedidos\")\n",
    "plt.legend(title='Día de la semana')\n",
    "plt.show()\n",
    "print(\"Las principales diferencias entre los dos dias son:\")\n",
    "print(\"Los picos de pedidos los sábados se concentran entre las 11:00 y las 15:00 horas, indicando una preferencia por hacer compras durante el almuerzo y primeras horas de la tarde. En contraste, los pedidos los miércoles muestran una distribución más uniforme a lo largo del día, comenzando temprano por la mañana sin picos tan definidos como los observados los sábados.\")"
   ]
  },
  {
   "cell_type": "markdown",
   "id": "7259b35b",
   "metadata": {},
   "source": [
    "### [B2] ¿Cuál es la distribución para el número de pedidos por cliente?"
   ]
  },
  {
   "cell_type": "code",
   "execution_count": 41,
   "id": "94e54e8a",
   "metadata": {
    "id": "94e54e8a"
   },
   "outputs": [
    {
     "data": {
      "image/png": "[encoded data removed]",
      "text/plain": [
       "<Figure size 1000x500 with 1 Axes>"
      ]
     },
     "metadata": {},
     "output_type": "display_data"
    }
   ],
   "source": [
    "orders_per_user = df_orders['user_id'].value_counts()\n",
    "max_orders = orders_per_user.max()\n",
    "orders_per_user.plot(kind= \"hist\", \n",
    "                                figsize=(10,5),\n",
    "                                rot=360,\n",
    "                                bins= range(1, orders_per_user.max() + 1),\n",
    "                                edgecolor='black',\n",
    "                                ylabel=\"Numero de clientes\",\n",
    "                                xlabel=\"Numero de ordenes\",\n",
    "                                color=\"darkgoldenrod\",\n",
    "                                grid=True,\n",
    "                                title=\"Sabado dia con mas actividad de pedidos\")\n",
    "plt.xticks(np.arange(0, max_orders + 1, step=1))\n",
    "\n",
    "plt.show()"
   ]
  },
  {
   "cell_type": "markdown",
   "id": "27bb4086",
   "metadata": {},
   "source": [
    "### [B3] ¿Cuáles son los 20 productos más populares (muestra su ID y nombre)?"
   ]
  },
  {
   "cell_type": "code",
   "execution_count": 42,
   "id": "797c90a8",
   "metadata": {
    "id": "797c90a8"
   },
   "outputs": [
    {
     "name": "stdout",
     "output_type": "stream",
     "text": [
      "    product_id  order_count              product_name\n",
      "0        24852        66050                    Banana\n",
      "1        13176        53297    Bag of Organic Bananas\n",
      "2        21137        37039      Organic Strawberries\n",
      "3        21903        33971      Organic Baby Spinach\n",
      "4        47209        29773      Organic Hass Avocado\n",
      "5        47766        24689           Organic Avocado\n",
      "6        47626        21495               Large Lemon\n",
      "7        16797        20018              Strawberries\n",
      "8        26209        19690                     Limes\n",
      "9        27845        19600        Organic Whole Milk\n",
      "10       27966        19197       Organic Raspberries\n",
      "11       22935        15898      Organic Yellow Onion\n",
      "12       24964        15292            Organic Garlic\n",
      "13       45007        14584          Organic Zucchini\n",
      "14       39275        13879       Organic Blueberries\n",
      "15       49683        13675            Cucumber Kirby\n",
      "16       28204        12544        Organic Fuji Apple\n",
      "17        5876        12232             Organic Lemon\n",
      "18        8277        11993  Apple Honeycrisp Organic\n",
      "19       40706        11781    Organic Grape Tomatoes\n"
     ]
    }
   ],
   "source": [
    "mas_pedidos = df_order_pro['product_id'].value_counts().head(20)\n",
    "top_products = mas_pedidos.reset_index()\n",
    "top_products.columns = ['product_id', 'order_count']\n",
    "top_products = top_products.merge(df_products[['product_id', 'product_name']], on='product_id', how='left')\n",
    "print(top_products)"
   ]
  },
  {
   "cell_type": "markdown",
   "id": "b42a6eb8",
   "metadata": {
    "id": "35bcea30"
   },
   "source": [
    "Los datos revelan que los sábados son días especialmente activos para realizar compras, con picos notables entre las 11:00 y las 15:00 horas. Esto sugiere que muchas personas aprovechan el fin de semana para hacer sus pedidos, posiblemente combinándolo con el almuerzo o actividades familiares.En cambio, los miércoles muestran una distribución más uniforme a lo largo del día, indicando que las compras tienden a realizarse de manera más regular y distribuida desde temprano en la mañana hasta más tarde en el día.\n",
    "Los productos más populares reflejan una preferencia por alimentos frescos y saludables como plátanos, fresas y espinacas orgánicas, entre otros. Estos datos son útiles para adaptar estrategias de negocio y mejorar la experiencia del usuario, asegurando que se satisfagan las necesidades y preferencias específicas de cada día de la semana."
   ]
  },
  {
   "cell_type": "markdown",
   "id": "44fd19a4",
   "metadata": {},
   "source": [
    "<div class=\"alert alert-block alert-success\">\n",
    "<b>Comentario del revisor</b> <a class=\"tocSkip\"></a>\n",
    "\n",
    "Muy buen desarrollo de la sección. Desarrollaste de buena manera todos los análisis y lo complementaste con una gráfica. \n",
    "</div>"
   ]
  },
  {
   "cell_type": "markdown",
   "id": "gross-theme",
   "metadata": {
    "id": "gross-theme"
   },
   "source": [
    "# [C] Difícil (deben completarse todos para aprobar)\n",
    "\n",
    "1. ¿Cuántos artículos suelen comprar las personas en un pedido? ¿Cómo es la distribución?\n",
    "2. ¿Cuáles son los 20 principales artículos que vuelven a pedirse con mayor frecuencia (muestra sus nombres e IDs de los productos)?\n",
    "3. Para cada producto, ¿cuál es la tasa de repetición del pedido (número de repeticiones de pedido/total de pedidos?\n",
    "4. Para cada cliente, ¿qué proporción de los productos que pidió ya los había pedido? Calcula la tasa de repetición de pedido para cada usuario en lugar de para cada producto.\n",
    "5. ¿Cuáles son los 20 principales artículos que la gente pone primero en sus carritos (muestra las IDs de los productos, sus nombres, y el número de veces en que fueron el primer artículo en añadirse al carrito)?"
   ]
  },
  {
   "cell_type": "markdown",
   "id": "romantic-deposit",
   "metadata": {
    "id": "romantic-deposit"
   },
   "source": [
    "### [C1] ¿Cuántos artículos compran normalmente las personas en un pedido? ¿Cómo es la distribución?"
   ]
  },
  {
   "cell_type": "code",
   "execution_count": 43,
   "id": "virtual-punch",
   "metadata": {
    "id": "virtual-punch"
   },
   "outputs": [
    {
     "name": "stdout",
     "output_type": "stream",
     "text": [
      "61355      127\n",
      "3308010    115\n",
      "2136777    108\n",
      "171934     104\n",
      "1959075     98\n",
      "Name: order_id, dtype: int64\n"
     ]
    }
   ],
   "source": [
    "items_per_order = df_order_pro['order_id'].value_counts()\n",
    "print(items_per_order.head())"
   ]
  },
  {
   "cell_type": "code",
   "execution_count": 44,
   "id": "sensitive-breathing",
   "metadata": {
    "id": "sensitive-breathing"
   },
   "outputs": [
    {
     "name": "stdout",
     "output_type": "stream",
     "text": [
      "El promedio de artículos por pedido es: 10.098983\n"
     ]
    }
   ],
   "source": [
    "mean_items_per_order = items_per_order.mean()\n",
    "print(f'El promedio de artículos por pedido es: {mean_items_per_order:f}')"
   ]
  },
  {
   "cell_type": "code",
   "execution_count": 45,
   "id": "completed-frank",
   "metadata": {
    "id": "completed-frank"
   },
   "outputs": [
    {
     "data": {
      "image/png": "[encoded data removed]",
      "text/plain": [
       "<Figure size 1000x500 with 1 Axes>"
      ]
     },
     "metadata": {},
     "output_type": "display_data"
    }
   ],
   "source": [
    "items_per_order.plot(kind= \"hist\", \n",
    "                                figsize=(10,5),\n",
    "                                rot=360,\n",
    "                                bins= range(1, orders_per_user.max() + 1),\n",
    "                                edgecolor='black',\n",
    "                                ylabel=\"Cantidad de articulos\",\n",
    "                                xlabel=\"Numero de pedidos\",\n",
    "                                color=\"hotpink\",\n",
    "                                grid=True,\n",
    "                                title=\"Compras rápidas y convenientes\")\n",
    "plt.xticks(np.arange(0, max_orders + 1, step=1))\n",
    "plt.show()"
   ]
  },
  {
   "cell_type": "markdown",
   "id": "designed-mortality",
   "metadata": {
    "id": "designed-mortality"
   },
   "source": [
    "Escribe aquí tus conclusiones"
   ]
  },
  {
   "cell_type": "markdown",
   "id": "5e6b5537",
   "metadata": {
    "id": "5e6b5537"
   },
   "source": [
    "### [C2] ¿Cuáles son los 20 principales artículos que vuelven a pedirse con mayor frecuencia (muestra sus nombres e IDs de los productos)?"
   ]
  },
  {
   "cell_type": "code",
   "execution_count": 46,
   "id": "9374e55a",
   "metadata": {
    "id": "9374e55a"
   },
   "outputs": [
    {
     "name": "stdout",
     "output_type": "stream",
     "text": [
      "    product_id              product_name  reorder_count\n",
      "0        24852                    Banana          55763\n",
      "1        13176    Bag of Organic Bananas          44450\n",
      "2        21137      Organic Strawberries          28639\n",
      "3        21903      Organic Baby Spinach          26233\n",
      "4        47209      Organic Hass Avocado          23629\n",
      "5        47766           Organic Avocado          18743\n",
      "6        27845        Organic Whole Milk          16251\n",
      "7        47626               Large Lemon          15044\n",
      "8        27966       Organic Raspberries          14748\n",
      "9        16797              Strawberries          13945\n",
      "10       26209                     Limes          13327\n",
      "11       22935      Organic Yellow Onion          11145\n",
      "12       24964            Organic Garlic          10411\n",
      "13       45007          Organic Zucchini          10076\n",
      "14       49683            Cucumber Kirby           9538\n",
      "15       28204        Organic Fuji Apple           8989\n",
      "16        8277  Apple Honeycrisp Organic           8836\n",
      "17       39275       Organic Blueberries           8799\n",
      "18        5876             Organic Lemon           8412\n",
      "19       49235       Organic Half & Half           8389\n"
     ]
    }
   ],
   "source": [
    "reordered_counts = df_order_pro[df_order_pro['reordered'] == 1]['product_id'].value_counts()\n",
    "# Obtener los 20 productos más pedidos que se vuelven a pedir\n",
    "top_reordered_products = reordered_counts.head(20)\n",
    "\n",
    "# Unir con el DataFrame de productos para obtener los nombres de los productos\n",
    "top_reordered_products = pd.DataFrame(top_reordered_products).reset_index()\n",
    "top_reordered_products.columns = ['product_id', 'reorder_count']\n",
    "top_reordered_products = top_reordered_products.merge(df_products[['product_id', 'product_name']], on='product_id', how='left')\n",
    "print(top_reordered_products[['product_id', 'product_name', 'reorder_count']])\n"
   ]
  },
  {
   "cell_type": "markdown",
   "id": "80e70c74",
   "metadata": {
    "id": "80e70c74"
   },
   "source": [
    "Los datos muestran que los productos más reordenados en Instacart son principalmente frutas y verduras orgánicas, como plátanos, fresas y espinacas bebé. Este patrón refleja una preferencia por productos frescos y saludables entre los usuarios. Además, la inclusión de productos lácteos orgánicos y básicos como limones y cebollas indica una demanda constante de ingredientes esenciales. Estos insights son clave para ajustar estrategias de inventario y satisfacer mejor las necesidades de los clientes, promoviendo una experiencia de compra más personalizada y eficiente."
   ]
  },
  {
   "cell_type": "markdown",
   "id": "9d312b14",
   "metadata": {
    "id": "9d312b14"
   },
   "source": [
    "### [C3] Para cada producto, ¿cuál es la proporción de las veces que se pide y que se vuelve a pedir?"
   ]
  },
  {
   "cell_type": "code",
   "execution_count": 47,
   "id": "8ae9f4b1",
   "metadata": {
    "id": "8ae9f4b1"
   },
   "outputs": [
    {
     "name": "stdout",
     "output_type": "stream",
     "text": [
      "Resultados:\n",
      "    product_id                                       product_name  \\\n",
      "0            1                         Chocolate Sandwich Cookies   \n",
      "1            2                                   All-Seasons Salt   \n",
      "2            3               Robust Golden Unsweetened Oolong Tea   \n",
      "3            4  Smart Ones Classic Favorites Mini Rigatoni Wit...   \n",
      "4            7                     Pure Coconut Water With Orange   \n",
      "5            8                  Cut Russet Potatoes Steam N' Mash   \n",
      "6            9                  Light Strawberry Blueberry Yogurt   \n",
      "7           10     Sparkling Orange Juice & Prickly Pear Beverage   \n",
      "8           11                                  Peach Mango Juice   \n",
      "9           12                         Chocolate Fudge Layer Cake   \n",
      "10          13                                  Saline Nasal Mist   \n",
      "11          14                     Fresh Scent Dishwasher Cleaner   \n",
      "12          17                                  Rendered Duck Fat   \n",
      "13          18                Pizza for One Suprema  Frozen Pizza   \n",
      "14          19   Gluten Free Quinoa Three Cheese & Mushroom Blend   \n",
      "15          21                   Small & Medium Dental Dog Treats   \n",
      "16          22                  Fresh Breath Oral Rinse Mild Mint   \n",
      "17          23                             Organic Turkey Burgers   \n",
      "18          24  Tri-Vi-Sol® Vitamins A-C-and D Supplement Drop...   \n",
      "19          25            Salted Caramel Lean Protein & Fiber Bar   \n",
      "\n",
      "    total_pedidos  pedidos_repetidos  tasa_reorden  \n",
      "0             280                158      0.564286  \n",
      "1              11                  0      0.000000  \n",
      "2              42                 31      0.738095  \n",
      "3              49                 25      0.510204  \n",
      "4               2                  1      0.500000  \n",
      "5              19                  6      0.315789  \n",
      "6              21                 16      0.761905  \n",
      "7             337                151      0.448071  \n",
      "8              16                 10      0.625000  \n",
      "9              41                 16      0.390244  \n",
      "10              2                  1      0.500000  \n",
      "11              3                  0      0.000000  \n",
      "12              1                  0      0.000000  \n",
      "13             15                  8      0.533333  \n",
      "14              1                  0      0.000000  \n",
      "15              1                  0      0.000000  \n",
      "16              6                  3      0.500000  \n",
      "17            147                 56      0.380952  \n",
      "18              2                  0      0.000000  \n",
      "19            295                199      0.674576  \n"
     ]
    }
   ],
   "source": [
    "# Calcular la cantidad total de pedidos por producto\n",
    "total_pedidos_por_producto = df_order_pro['product_id'].value_counts()\n",
    "\n",
    "# Calcular la cantidad de veces que cada producto se vuelve a pedir\n",
    "pedidos_repetidos_por_producto = df_order_pro.groupby('product_id')['reordered'].sum()\n",
    "\n",
    "# Calcular la proporción de veces que se pide y se vuelve a pedir (tasa de reorden)\n",
    "tasa_reorden = pedidos_repetidos_por_producto / total_pedidos_por_producto\n",
    "\n",
    "# Crear un DataFrame con los resultados\n",
    "df_resultados = pd.DataFrame({\n",
    "    'total_pedidos': total_pedidos_por_producto,\n",
    "    'pedidos_repetidos': pedidos_repetidos_por_producto,\n",
    "    'tasa_reorden': tasa_reorden\n",
    "})\n",
    "\n",
    "# Resetear el índice para poder fusionar correctamente\n",
    "df_resultados = df_resultados.reset_index()\n",
    "\n",
    "# Renombrar la columna 'index' a 'product_id'\n",
    "df_resultados = df_resultados.rename(columns={'index': 'product_id'})\n",
    "\n",
    "# Fusionar con el DataFrame de productos para obtener los nombres de los productos\n",
    "df_resultados = df_resultados.merge(df_products[['product_id', 'product_name']], on='product_id')\n",
    "\n",
    "# Mostrar los primeros 20 productos con sus cantidades totales de pedidos, pedidos repetidos y tasa de reorden\n",
    "print(\"Resultados:\")\n",
    "print(df_resultados[['product_id', 'product_name', 'total_pedidos', 'pedidos_repetidos', 'tasa_reorden']].head(20))\n"
   ]
  },
  {
   "cell_type": "markdown",
   "id": "I10dEIAyldcO",
   "metadata": {
    "id": "I10dEIAyldcO"
   },
   "source": [
    "El análisis revela que ciertos productos, como \"Chocolate Sandwich Cookies\" y \"Light Strawberry Blueberry Yogurt\", son altamente reordenados por los clientes de Instacart, indicando una fuerte preferencia y satisfacción. Por otro lado, productos como \"All-Seasons Salt\" y \"Gluten Free Quinoa Three Cheese & Mushroom Blend\" muestran tasas de reorden más bajas, sugiriendo una menor demanda continua. Estos hallazgos destacan la importancia de gestionar inventarios basados en el comportamiento de compra para optimizar la satisfacción del cliente y maximizar las oportunidades de venta recurrente."
   ]
  },
  {
   "cell_type": "markdown",
   "id": "subject-boxing",
   "metadata": {
    "id": "subject-boxing"
   },
   "source": [
    "### [C4] Para cada cliente, ¿qué proporción de sus productos ya los había pedido?"
   ]
  },
  {
   "cell_type": "code",
   "execution_count": 51,
   "id": "medical-couple",
   "metadata": {
    "id": "medical-couple",
    "scrolled": true
   },
   "outputs": [
    {
     "name": "stdout",
     "output_type": "stream",
     "text": [
      "Número total de productos pedidos por cliente:\n",
      "user_id\n",
      "2     26\n",
      "4      2\n",
      "5     12\n",
      "6      4\n",
      "7     14\n",
      "11    15\n",
      "12    12\n",
      "13    23\n",
      "14    61\n",
      "15    13\n",
      "Name: product_id, dtype: int64\n",
      "\n",
      "Proporción de productos reordenados por cliente:\n",
      "user_id\n",
      "2     0.038462\n",
      "4     0.000000\n",
      "5     0.666667\n",
      "6     0.000000\n",
      "7     0.928571\n",
      "11    0.200000\n",
      "12    0.250000\n",
      "13    0.565217\n",
      "14    0.360656\n",
      "15    0.538462\n",
      "Name: reordered, dtype: float64\n"
     ]
    }
   ],
   "source": [
    "# Unir df_order_pro con df_orders para obtener user_id\n",
    "merged_df = pd.merge(df_order_pro, df_orders[['order_id', 'user_id']], on='order_id', how='left')\n",
    "\n",
    "# Calcular el número total de productos pedidos por cada cliente\n",
    "total_productos_por_cliente = merged_df.groupby('user_id')['product_id'].size()\n",
    "\n",
    "# Calcular el número de productos reordenados por cada cliente\n",
    "productos_reordenados_por_cliente = merged_df.groupby('user_id')['reordered'].mean()\n",
    "\n",
    "# Mostrar los resultados\n",
    "print(\"Número total de productos pedidos por cliente:\")\n",
    "print(total_productos_por_cliente.head(10))  # Mostrar los primeros 10 clientes\n",
    "\n",
    "print(\"\\nProporción de productos reordenados por cliente:\")\n",
    "print(productos_reordenados_por_cliente.head(10))  # Mostrar los primeros 10 clientes"
   ]
  },
  {
   "cell_type": "markdown",
   "id": "BgJSvXDsleXz",
   "metadata": {
    "id": "BgJSvXDsleXz"
   },
   "source": [
    "Los clientes muestran variabilidad en la cantidad total de productos pedidos, desde 2 hasta 61 productos, indicando diferentes comportamientos de compra.La proporción de productos reordenados varía significativamente, reflejando diferencias en la repetición de compras entre los clientes. Estos insights son clave para segmentar clientes y personalizar estrategias de marketing, mejorando la satisfacción y fidelidad del cliente en Instacart."
   ]
  },
  {
   "cell_type": "markdown",
   "id": "4c34d9d8",
   "metadata": {},
   "source": [
    "<div class=\"alert alert-block alert-danger\">\n",
    "<b>Comentario del revisor</b> <a class=\"tocSkip\"></a>\n",
    "\n",
    "Muy buena utilización  de la agrupación de los valores. Pero en este caso nos piden sacar el dato para cada cliente, en este sentido dentro del groupby te sugiero utilizar la variable 'user_id' y en este caso el ejercicio hace referencia a cuál es la proporción de veces que se vuleve a pedir cada producto. Es por ello que la variable que nos interesa hacer el mean es ['reordered'] \n",
    "    \n",
    "</div>"
   ]
  },
  {
   "cell_type": "markdown",
   "id": "92d35137",
   "metadata": {
    "id": "92d35137"
   },
   "source": [
    "### [C5] ¿Cuáles son los 20 principales artículos que las personas ponen primero en sus carritos?"
   ]
  },
  {
   "cell_type": "code",
   "execution_count": null,
   "id": "0ae57274",
   "metadata": {
    "id": "0ae57274",
    "scrolled": true
   },
   "outputs": [],
   "source": [
    "# Filtrar los productos que fueron agregados en primer lugar al carrito\n",
    "primeros_en_carrito = df_order_pro[df_order_pro['add_to_cart_order'] == 1]\n",
    "\n",
    "# Contar la frecuencia de cada producto agregado primero al carrito\n",
    "top_20_primeros_en_carrito = primeros_en_carrito['product_id'].value_counts().head(20)\n",
    "\n",
    "# Obtener los nombres de los productos correspondientes\n",
    "top_20_primeros_en_carrito = top_20_primeros_en_carrito.reset_index()\n",
    "top_20_primeros_en_carrito.columns = ['product_id', 'count']\n",
    "top_20_primeros_en_carrito = pd.merge(top_20_primeros_en_carrito, df_products[['product_id', 'product_name']], on='product_id')\n",
    "\n",
    "# Mostrar los resultados\n",
    "print(\"Los 20 principales artículos que las personas ponen primero en sus carritos:\")\n",
    "print(top_20_primeros_en_carrito)"
   ]
  },
  {
   "cell_type": "markdown",
   "id": "28ce9872",
   "metadata": {
    "id": "28ce9872"
   },
   "source": [
    "Basado en el análisis de los datos de Instacart, podemos concluir que los clientes tienden a agregar una variedad de productos a sus carritos como primer artículo. Entre los 20 principales artículos que se colocan primero, encontramos una diversidad que incluye desde snacks y productos básicos de cocina hasta bebidas y alimentos frescos. Esto sugiere que los usuarios aprovechan la conveniencia de la plataforma para satisfacer diferentes necesidades alimenticias y de consumo de manera eficiente desde el inicio de sus compras. Este comportamiento también puede influir en las estrategias de recomendación y marketing de Instacart para mejorar la experiencia del cliente y fomentar compras repetidas."
   ]
  },
  {
   "cell_type": "markdown",
   "id": "uITbFCEoDosC",
   "metadata": {
    "id": "uITbFCEoDosC"
   },
   "source": [
    "### Conclusion general del proyecto:"
   ]
  },
  {
   "cell_type": "markdown",
   "id": "f7d23482",
   "metadata": {
    "id": "Nk-4GS7mDwqY"
   },
   "source": [
    "<div class=\"alert alert-block alert-warning\">\n",
    "<b>Comentario revisor</b> <a class=\"tocSkip\"></a>\n",
    "\n",
    "En general creo que hiciste un muy buen trabajo con el proyecto, pudiste limpiar y trabajar las bases de datos de beuna manera, análisis de duplicados, y de valores faltantes. Además dearrollaste de buena manera los diferentes anális que se solicitaban y cuando podías los complementabas con greaficas. No obstante, recuerda que siempre podemos mejorar y te menciono algunos puntos que debes considerar:\n",
    "\n",
    "* Revisar que los filtros sean correctos en algunos apartados con base en la indicación\n",
    "    \n",
    "    \n",
    "*  Realizar análisis complementarios eliminando los valores que parecen ser atípicos. \n",
    "\n",
    "    \n",
    "*  Profundizar en los resultados intermedios y en la conclusión final.\n",
    "\n",
    "</div>"
   ]
  }
 ],
 "metadata": {
  "ExecuteTimeLog": [
   {
    "duration": 5,
    "start_time": "2024-06-23T16:24:21.209Z"
   },
   {
    "duration": 3848,
    "start_time": "2024-06-23T16:58:39.758Z"
   },
   {
    "duration": 10,
    "start_time": "2024-06-23T16:59:03.633Z"
   },
   {
    "duration": 7,
    "start_time": "2024-06-23T16:59:40.177Z"
   },
   {
    "duration": 3,
    "start_time": "2024-06-23T17:01:48.290Z"
   },
   {
    "duration": 3,
    "start_time": "2024-06-23T17:01:55.786Z"
   },
   {
    "duration": 3,
    "start_time": "2024-06-23T17:02:01.603Z"
   },
   {
    "duration": 4,
    "start_time": "2024-06-23T17:03:12.149Z"
   },
   {
    "duration": 3,
    "start_time": "2024-06-23T17:03:19.916Z"
   },
   {
    "duration": 399,
    "start_time": "2024-06-23T17:03:45.127Z"
   },
   {
    "duration": 25,
    "start_time": "2024-06-23T17:03:56.712Z"
   },
   {
    "duration": 4166,
    "start_time": "2024-06-23T17:07:26.144Z"
   },
   {
    "duration": 23,
    "start_time": "2024-06-23T17:07:35.857Z"
   },
   {
    "duration": 3685,
    "start_time": "2024-06-23T17:08:20.326Z"
   },
   {
    "duration": 27,
    "start_time": "2024-06-23T17:08:24.717Z"
   },
   {
    "duration": 3601,
    "start_time": "2024-06-23T17:09:05.185Z"
   },
   {
    "duration": 29,
    "start_time": "2024-06-23T17:09:08.789Z"
   },
   {
    "duration": 679,
    "start_time": "2024-06-23T17:09:49.941Z"
   },
   {
    "duration": 3593,
    "start_time": "2024-06-23T17:09:50.624Z"
   },
   {
    "duration": 12,
    "start_time": "2024-06-23T17:09:54.219Z"
   },
   {
    "duration": 8,
    "start_time": "2024-06-23T17:09:54.235Z"
   },
   {
    "duration": 9,
    "start_time": "2024-06-23T17:09:54.246Z"
   },
   {
    "duration": 6,
    "start_time": "2024-06-23T17:09:54.258Z"
   },
   {
    "duration": 9,
    "start_time": "2024-06-23T17:09:54.307Z"
   },
   {
    "duration": 3,
    "start_time": "2024-06-23T17:09:54.319Z"
   },
   {
    "duration": 3,
    "start_time": "2024-06-23T17:09:54.326Z"
   },
   {
    "duration": 6,
    "start_time": "2024-06-23T17:09:54.336Z"
   },
   {
    "duration": 4,
    "start_time": "2024-06-23T17:09:54.344Z"
   },
   {
    "duration": 4,
    "start_time": "2024-06-23T17:09:54.351Z"
   },
   {
    "duration": 4,
    "start_time": "2024-06-23T17:09:54.407Z"
   },
   {
    "duration": 4,
    "start_time": "2024-06-23T17:09:54.414Z"
   },
   {
    "duration": 3,
    "start_time": "2024-06-23T17:09:54.421Z"
   },
   {
    "duration": 4,
    "start_time": "2024-06-23T17:09:54.427Z"
   },
   {
    "duration": 4,
    "start_time": "2024-06-23T17:09:54.435Z"
   },
   {
    "duration": 4,
    "start_time": "2024-06-23T17:09:54.442Z"
   },
   {
    "duration": 59,
    "start_time": "2024-06-23T17:09:54.448Z"
   },
   {
    "duration": 3,
    "start_time": "2024-06-23T17:09:54.511Z"
   },
   {
    "duration": 4,
    "start_time": "2024-06-23T17:09:54.517Z"
   },
   {
    "duration": 3,
    "start_time": "2024-06-23T17:09:54.524Z"
   },
   {
    "duration": 4,
    "start_time": "2024-06-23T17:09:54.530Z"
   },
   {
    "duration": 4,
    "start_time": "2024-06-23T17:09:54.537Z"
   },
   {
    "duration": 3,
    "start_time": "2024-06-23T17:09:54.544Z"
   },
   {
    "duration": 60,
    "start_time": "2024-06-23T17:09:54.550Z"
   },
   {
    "duration": 5,
    "start_time": "2024-06-23T17:09:54.613Z"
   },
   {
    "duration": 3,
    "start_time": "2024-06-23T17:09:54.628Z"
   },
   {
    "duration": 4,
    "start_time": "2024-06-23T17:09:54.636Z"
   },
   {
    "duration": 4,
    "start_time": "2024-06-23T17:09:54.644Z"
   },
   {
    "duration": 4,
    "start_time": "2024-06-23T17:09:54.651Z"
   },
   {
    "duration": 3,
    "start_time": "2024-06-23T17:09:54.705Z"
   },
   {
    "duration": 3,
    "start_time": "2024-06-23T17:09:54.712Z"
   },
   {
    "duration": 3,
    "start_time": "2024-06-23T17:09:54.719Z"
   },
   {
    "duration": 4,
    "start_time": "2024-06-23T17:10:49.983Z"
   },
   {
    "duration": 1660,
    "start_time": "2024-06-23T17:10:49.991Z"
   },
   {
    "duration": 10,
    "start_time": "2024-06-23T17:10:51.654Z"
   },
   {
    "duration": 10,
    "start_time": "2024-06-23T17:10:51.667Z"
   },
   {
    "duration": 10,
    "start_time": "2024-06-23T17:10:51.705Z"
   },
   {
    "duration": 9,
    "start_time": "2024-06-23T17:10:51.719Z"
   },
   {
    "duration": 11,
    "start_time": "2024-06-23T17:10:51.732Z"
   },
   {
    "duration": 3,
    "start_time": "2024-06-23T17:10:51.746Z"
   },
   {
    "duration": 3,
    "start_time": "2024-06-23T17:10:51.753Z"
   },
   {
    "duration": 46,
    "start_time": "2024-06-23T17:10:51.760Z"
   },
   {
    "duration": 4,
    "start_time": "2024-06-23T17:10:51.813Z"
   },
   {
    "duration": 4,
    "start_time": "2024-06-23T17:10:51.821Z"
   },
   {
    "duration": 4,
    "start_time": "2024-06-23T17:10:51.829Z"
   },
   {
    "duration": 4,
    "start_time": "2024-06-23T17:10:51.837Z"
   },
   {
    "duration": 5,
    "start_time": "2024-06-23T17:10:51.845Z"
   },
   {
    "duration": 54,
    "start_time": "2024-06-23T17:10:51.855Z"
   },
   {
    "duration": 5,
    "start_time": "2024-06-23T17:10:51.913Z"
   },
   {
    "duration": 4,
    "start_time": "2024-06-23T17:10:51.922Z"
   },
   {
    "duration": 5,
    "start_time": "2024-06-23T17:10:51.929Z"
   },
   {
    "duration": 5,
    "start_time": "2024-06-23T17:10:51.936Z"
   },
   {
    "duration": 5,
    "start_time": "2024-06-23T17:10:51.945Z"
   },
   {
    "duration": 4,
    "start_time": "2024-06-23T17:10:52.005Z"
   },
   {
    "duration": 3,
    "start_time": "2024-06-23T17:10:52.016Z"
   },
   {
    "duration": 4,
    "start_time": "2024-06-23T17:10:52.022Z"
   },
   {
    "duration": 4,
    "start_time": "2024-06-23T17:10:52.029Z"
   },
   {
    "duration": 3,
    "start_time": "2024-06-23T17:10:52.036Z"
   },
   {
    "duration": 4,
    "start_time": "2024-06-23T17:10:52.043Z"
   },
   {
    "duration": 4,
    "start_time": "2024-06-23T17:10:52.050Z"
   },
   {
    "duration": 4,
    "start_time": "2024-06-23T17:10:52.112Z"
   },
   {
    "duration": 5,
    "start_time": "2024-06-23T17:10:52.120Z"
   },
   {
    "duration": 4,
    "start_time": "2024-06-23T17:10:52.127Z"
   },
   {
    "duration": 5,
    "start_time": "2024-06-23T17:10:52.134Z"
   },
   {
    "duration": 4,
    "start_time": "2024-06-23T17:10:52.143Z"
   },
   {
    "duration": 55,
    "start_time": "2024-06-23T17:10:52.151Z"
   },
   {
    "duration": 3,
    "start_time": "2024-06-23T17:13:20.242Z"
   },
   {
    "duration": 1528,
    "start_time": "2024-06-23T17:13:20.249Z"
   },
   {
    "duration": 31,
    "start_time": "2024-06-23T17:13:21.784Z"
   },
   {
    "duration": 20,
    "start_time": "2024-06-23T17:13:21.820Z"
   },
   {
    "duration": 18,
    "start_time": "2024-06-23T17:13:21.843Z"
   },
   {
    "duration": 47,
    "start_time": "2024-06-23T17:13:21.864Z"
   },
   {
    "duration": 17,
    "start_time": "2024-06-23T17:13:21.915Z"
   },
   {
    "duration": 3,
    "start_time": "2024-06-23T17:13:21.936Z"
   },
   {
    "duration": 4,
    "start_time": "2024-06-23T17:13:21.941Z"
   },
   {
    "duration": 3,
    "start_time": "2024-06-23T17:13:21.953Z"
   },
   {
    "duration": 3,
    "start_time": "2024-06-23T17:13:22.005Z"
   },
   {
    "duration": 3,
    "start_time": "2024-06-23T17:13:22.012Z"
   },
   {
    "duration": 4,
    "start_time": "2024-06-23T17:13:22.019Z"
   },
   {
    "duration": 3,
    "start_time": "2024-06-23T17:13:22.026Z"
   },
   {
    "duration": 3,
    "start_time": "2024-06-23T17:13:22.034Z"
   },
   {
    "duration": 4,
    "start_time": "2024-06-23T17:13:22.040Z"
   },
   {
    "duration": 3,
    "start_time": "2024-06-23T17:13:22.047Z"
   },
   {
    "duration": 7,
    "start_time": "2024-06-23T17:13:22.107Z"
   },
   {
    "duration": 4,
    "start_time": "2024-06-23T17:13:22.117Z"
   },
   {
    "duration": 4,
    "start_time": "2024-06-23T17:13:22.124Z"
   },
   {
    "duration": 4,
    "start_time": "2024-06-23T17:13:22.131Z"
   },
   {
    "duration": 5,
    "start_time": "2024-06-23T17:13:22.138Z"
   },
   {
    "duration": 3,
    "start_time": "2024-06-23T17:13:22.146Z"
   },
   {
    "duration": 55,
    "start_time": "2024-06-23T17:13:22.152Z"
   },
   {
    "duration": 4,
    "start_time": "2024-06-23T17:13:22.210Z"
   },
   {
    "duration": 4,
    "start_time": "2024-06-23T17:13:22.217Z"
   },
   {
    "duration": 4,
    "start_time": "2024-06-23T17:13:22.224Z"
   },
   {
    "duration": 4,
    "start_time": "2024-06-23T17:13:22.234Z"
   },
   {
    "duration": 3,
    "start_time": "2024-06-23T17:13:22.242Z"
   },
   {
    "duration": 5,
    "start_time": "2024-06-23T17:13:22.247Z"
   },
   {
    "duration": 3,
    "start_time": "2024-06-23T17:13:22.307Z"
   },
   {
    "duration": 4,
    "start_time": "2024-06-23T17:13:22.314Z"
   },
   {
    "duration": 4,
    "start_time": "2024-06-23T17:13:22.320Z"
   },
   {
    "duration": 4,
    "start_time": "2024-06-23T17:13:22.327Z"
   },
   {
    "duration": 4357,
    "start_time": "2024-06-23T23:35:19.317Z"
   },
   {
    "duration": 1854,
    "start_time": "2024-06-23T23:35:27.305Z"
   },
   {
    "duration": 27,
    "start_time": "2024-06-23T23:35:30.341Z"
   },
   {
    "duration": 23,
    "start_time": "2024-06-23T23:35:33.509Z"
   },
   {
    "duration": 18,
    "start_time": "2024-06-23T23:35:36.473Z"
   },
   {
    "duration": 16,
    "start_time": "2024-06-23T23:35:39.482Z"
   },
   {
    "duration": 17,
    "start_time": "2024-06-23T23:35:42.404Z"
   },
   {
    "duration": 194,
    "start_time": "2024-06-24T00:02:17.448Z"
   },
   {
    "duration": 198,
    "start_time": "2024-06-24T00:02:54.424Z"
   },
   {
    "duration": 156,
    "start_time": "2024-06-24T00:03:30.160Z"
   },
   {
    "duration": 693,
    "start_time": "2024-06-24T00:03:39.849Z"
   },
   {
    "duration": 1583,
    "start_time": "2024-06-24T00:03:40.545Z"
   },
   {
    "duration": 24,
    "start_time": "2024-06-24T00:03:42.130Z"
   },
   {
    "duration": 20,
    "start_time": "2024-06-24T00:03:42.160Z"
   },
   {
    "duration": 17,
    "start_time": "2024-06-24T00:03:42.212Z"
   },
   {
    "duration": 15,
    "start_time": "2024-06-24T00:03:42.232Z"
   },
   {
    "duration": 17,
    "start_time": "2024-06-24T00:03:42.253Z"
   },
   {
    "duration": 204,
    "start_time": "2024-06-24T00:03:42.273Z"
   },
   {
    "duration": 3,
    "start_time": "2024-06-24T00:03:42.481Z"
   },
   {
    "duration": 21,
    "start_time": "2024-06-24T00:03:42.492Z"
   },
   {
    "duration": 8,
    "start_time": "2024-06-24T00:03:42.516Z"
   },
   {
    "duration": 4,
    "start_time": "2024-06-24T00:03:42.527Z"
   },
   {
    "duration": 4,
    "start_time": "2024-06-24T00:03:42.535Z"
   },
   {
    "duration": 4,
    "start_time": "2024-06-24T00:03:42.543Z"
   },
   {
    "duration": 3,
    "start_time": "2024-06-24T00:03:42.551Z"
   },
   {
    "duration": 60,
    "start_time": "2024-06-24T00:03:42.558Z"
   },
   {
    "duration": 3,
    "start_time": "2024-06-24T00:03:42.622Z"
   },
   {
    "duration": 4,
    "start_time": "2024-06-24T00:03:42.628Z"
   },
   {
    "duration": 3,
    "start_time": "2024-06-24T00:03:42.635Z"
   },
   {
    "duration": 3,
    "start_time": "2024-06-24T00:03:42.642Z"
   },
   {
    "duration": 3,
    "start_time": "2024-06-24T00:03:42.649Z"
   },
   {
    "duration": 4,
    "start_time": "2024-06-24T00:03:42.656Z"
   },
   {
    "duration": 51,
    "start_time": "2024-06-24T00:03:42.663Z"
   },
   {
    "duration": 4,
    "start_time": "2024-06-24T00:03:42.718Z"
   },
   {
    "duration": 3,
    "start_time": "2024-06-24T00:03:42.726Z"
   },
   {
    "duration": 4,
    "start_time": "2024-06-24T00:03:42.732Z"
   },
   {
    "duration": 5,
    "start_time": "2024-06-24T00:03:42.739Z"
   },
   {
    "duration": 3,
    "start_time": "2024-06-24T00:03:42.751Z"
   },
   {
    "duration": 56,
    "start_time": "2024-06-24T00:03:42.757Z"
   },
   {
    "duration": 4,
    "start_time": "2024-06-24T00:03:42.817Z"
   },
   {
    "duration": 4,
    "start_time": "2024-06-24T00:03:42.824Z"
   },
   {
    "duration": 3,
    "start_time": "2024-06-24T00:03:42.832Z"
   },
   {
    "duration": 4,
    "start_time": "2024-06-24T00:03:42.838Z"
   },
   {
    "duration": 4,
    "start_time": "2024-06-24T00:03:42.846Z"
   },
   {
    "duration": 185,
    "start_time": "2024-06-24T00:09:52.533Z"
   },
   {
    "duration": 181,
    "start_time": "2024-06-24T00:12:25.231Z"
   },
   {
    "duration": 162,
    "start_time": "2024-06-24T00:12:48.007Z"
   },
   {
    "duration": 52,
    "start_time": "2024-06-24T00:14:36.104Z"
   },
   {
    "duration": 23,
    "start_time": "2024-06-24T00:21:22.611Z"
   },
   {
    "duration": 27,
    "start_time": "2024-06-24T00:23:22.964Z"
   },
   {
    "duration": 1219,
    "start_time": "2024-06-24T00:26:12.714Z"
   },
   {
    "duration": 6,
    "start_time": "2024-06-24T00:26:37.744Z"
   },
   {
    "duration": 6,
    "start_time": "2024-06-24T00:26:57.450Z"
   },
   {
    "duration": 34,
    "start_time": "2024-06-24T00:28:13.720Z"
   },
   {
    "duration": 10,
    "start_time": "2024-06-24T00:28:53.090Z"
   },
   {
    "duration": 704,
    "start_time": "2024-06-24T00:29:31.971Z"
   },
   {
    "duration": 64,
    "start_time": "2024-06-24T00:29:44.009Z"
   },
   {
    "duration": 8,
    "start_time": "2024-06-24T00:30:00.415Z"
   },
   {
    "duration": 6,
    "start_time": "2024-06-24T00:30:05.143Z"
   },
   {
    "duration": 36,
    "start_time": "2024-06-24T00:30:08.991Z"
   },
   {
    "duration": 38,
    "start_time": "2024-06-24T00:30:20.383Z"
   },
   {
    "duration": 20,
    "start_time": "2024-06-24T00:31:07.313Z"
   },
   {
    "duration": 5,
    "start_time": "2024-06-24T00:31:30.281Z"
   },
   {
    "duration": 6,
    "start_time": "2024-06-24T00:34:11.619Z"
   },
   {
    "duration": 23,
    "start_time": "2024-06-24T00:36:34.960Z"
   },
   {
    "duration": 6,
    "start_time": "2024-06-24T00:37:06.544Z"
   },
   {
    "duration": 6,
    "start_time": "2024-06-24T00:37:24.000Z"
   },
   {
    "duration": 73,
    "start_time": "2024-06-24T00:39:05.489Z"
   },
   {
    "duration": 6,
    "start_time": "2024-06-24T00:39:28.294Z"
   },
   {
    "duration": 21,
    "start_time": "2024-06-24T01:26:36.673Z"
   },
   {
    "duration": 15,
    "start_time": "2024-06-24T01:26:45.718Z"
   },
   {
    "duration": 26,
    "start_time": "2024-06-24T01:26:59.354Z"
   },
   {
    "duration": 5,
    "start_time": "2024-06-24T01:27:09.981Z"
   },
   {
    "duration": 6,
    "start_time": "2024-06-24T01:29:05.126Z"
   },
   {
    "duration": 7,
    "start_time": "2024-06-24T01:29:12.632Z"
   },
   {
    "duration": 6,
    "start_time": "2024-06-24T01:29:22.128Z"
   },
   {
    "duration": 22,
    "start_time": "2024-06-24T01:29:53.463Z"
   },
   {
    "duration": 24,
    "start_time": "2024-06-24T01:30:14.529Z"
   },
   {
    "duration": 29,
    "start_time": "2024-06-24T01:30:30.360Z"
   },
   {
    "duration": 6,
    "start_time": "2024-06-24T01:31:17.743Z"
   },
   {
    "duration": 23,
    "start_time": "2024-06-24T01:31:24.290Z"
   },
   {
    "duration": 6,
    "start_time": "2024-06-24T01:32:02.622Z"
   },
   {
    "duration": 24,
    "start_time": "2024-06-24T01:33:20.616Z"
   },
   {
    "duration": 5,
    "start_time": "2024-06-24T01:33:41.806Z"
   },
   {
    "duration": 1344,
    "start_time": "2024-06-24T01:35:18.312Z"
   },
   {
    "duration": 1167,
    "start_time": "2024-06-24T01:37:27.451Z"
   },
   {
    "duration": 331,
    "start_time": "2024-06-24T01:40:35.812Z"
   },
   {
    "duration": 7,
    "start_time": "2024-06-24T01:40:46.416Z"
   },
   {
    "duration": 7,
    "start_time": "2024-06-24T01:41:16.168Z"
   },
   {
    "duration": 26,
    "start_time": "2024-06-24T01:48:15.775Z"
   },
   {
    "duration": 30,
    "start_time": "2024-06-24T01:48:30.935Z"
   },
   {
    "duration": 26,
    "start_time": "2024-06-24T01:48:39.655Z"
   },
   {
    "duration": 9,
    "start_time": "2024-06-24T01:48:49.568Z"
   },
   {
    "duration": 10,
    "start_time": "2024-06-24T01:49:23.544Z"
   },
   {
    "duration": 10,
    "start_time": "2024-06-24T01:49:49.590Z"
   },
   {
    "duration": 29,
    "start_time": "2024-06-24T01:50:16.036Z"
   },
   {
    "duration": 18,
    "start_time": "2024-06-24T01:50:29.095Z"
   },
   {
    "duration": 9,
    "start_time": "2024-06-24T01:51:22.048Z"
   },
   {
    "duration": 33,
    "start_time": "2024-06-24T01:53:33.925Z"
   },
   {
    "duration": 16,
    "start_time": "2024-06-24T01:54:49.062Z"
   },
   {
    "duration": 17,
    "start_time": "2024-06-24T01:55:32.460Z"
   },
   {
    "duration": 19,
    "start_time": "2024-06-24T01:55:57.175Z"
   },
   {
    "duration": 16,
    "start_time": "2024-06-24T01:56:07.996Z"
   },
   {
    "duration": 16,
    "start_time": "2024-06-24T01:56:33.187Z"
   },
   {
    "duration": 15,
    "start_time": "2024-06-24T01:56:40.735Z"
   },
   {
    "duration": 16,
    "start_time": "2024-06-24T01:57:11.887Z"
   },
   {
    "duration": 16,
    "start_time": "2024-06-24T01:58:25.627Z"
   },
   {
    "duration": 7,
    "start_time": "2024-06-24T01:59:43.883Z"
   },
   {
    "duration": 10,
    "start_time": "2024-06-24T02:36:03.898Z"
   },
   {
    "duration": 29,
    "start_time": "2024-06-24T02:40:59.977Z"
   },
   {
    "duration": 9,
    "start_time": "2024-06-24T02:41:24.097Z"
   },
   {
    "duration": 6,
    "start_time": "2024-06-24T02:41:53.878Z"
   },
   {
    "duration": 9,
    "start_time": "2024-06-24T02:42:16.929Z"
   },
   {
    "duration": 12,
    "start_time": "2024-06-24T02:42:24.749Z"
   },
   {
    "duration": 29,
    "start_time": "2024-06-24T02:44:39.083Z"
   },
   {
    "duration": 27,
    "start_time": "2024-06-24T02:45:02.262Z"
   },
   {
    "duration": 5,
    "start_time": "2024-06-24T02:45:28.773Z"
   },
   {
    "duration": 5,
    "start_time": "2024-06-24T02:45:38.267Z"
   },
   {
    "duration": 8,
    "start_time": "2024-06-24T02:46:16.504Z"
   },
   {
    "duration": 6,
    "start_time": "2024-06-24T02:46:23.769Z"
   },
   {
    "duration": 6,
    "start_time": "2024-06-24T02:46:28.076Z"
   },
   {
    "duration": 5,
    "start_time": "2024-06-24T02:46:34.428Z"
   },
   {
    "duration": 6,
    "start_time": "2024-06-24T02:46:42.169Z"
   },
   {
    "duration": 40,
    "start_time": "2024-06-24T02:46:45.705Z"
   },
   {
    "duration": 27,
    "start_time": "2024-06-24T02:46:51.412Z"
   },
   {
    "duration": 46,
    "start_time": "2024-06-24T02:47:37.707Z"
   },
   {
    "duration": 85,
    "start_time": "2024-06-24T02:47:58.641Z"
   },
   {
    "duration": 8,
    "start_time": "2024-06-24T02:48:35.174Z"
   },
   {
    "duration": 88,
    "start_time": "2024-06-24T02:48:38.954Z"
   },
   {
    "duration": 87,
    "start_time": "2024-06-24T02:49:01.636Z"
   },
   {
    "duration": 66,
    "start_time": "2024-06-24T02:49:14.959Z"
   },
   {
    "duration": 87,
    "start_time": "2024-06-24T02:49:19.406Z"
   },
   {
    "duration": 20,
    "start_time": "2024-06-24T02:52:45.841Z"
   },
   {
    "duration": 24,
    "start_time": "2024-06-24T02:59:12.920Z"
   },
   {
    "duration": 6,
    "start_time": "2024-06-24T02:59:28.265Z"
   },
   {
    "duration": 23,
    "start_time": "2024-06-24T02:59:31.674Z"
   },
   {
    "duration": 24,
    "start_time": "2024-06-24T02:59:39.823Z"
   },
   {
    "duration": 9,
    "start_time": "2024-06-24T03:00:05.461Z"
   },
   {
    "duration": 5,
    "start_time": "2024-06-24T03:00:23.294Z"
   },
   {
    "duration": 37,
    "start_time": "2024-06-24T03:04:22.769Z"
   },
   {
    "duration": 12,
    "start_time": "2024-06-24T03:04:32.202Z"
   },
   {
    "duration": 22,
    "start_time": "2024-06-24T03:06:02.776Z"
   },
   {
    "duration": 9,
    "start_time": "2024-06-24T03:06:42.032Z"
   },
   {
    "duration": 7,
    "start_time": "2024-06-24T03:06:46.101Z"
   },
   {
    "duration": 7,
    "start_time": "2024-06-24T03:06:51.077Z"
   },
   {
    "duration": 19,
    "start_time": "2024-06-24T03:06:57.779Z"
   },
   {
    "duration": 19,
    "start_time": "2024-06-24T03:07:05.229Z"
   },
   {
    "duration": 6,
    "start_time": "2024-06-24T03:09:50.829Z"
   },
   {
    "duration": 8,
    "start_time": "2024-06-24T03:10:45.114Z"
   },
   {
    "duration": 5,
    "start_time": "2024-06-24T03:11:22.717Z"
   },
   {
    "duration": 47,
    "start_time": "2024-06-24T03:11:40.347Z"
   },
   {
    "duration": 34,
    "start_time": "2024-06-24T03:12:25.527Z"
   },
   {
    "duration": 10,
    "start_time": "2024-06-24T03:12:39.176Z"
   },
   {
    "duration": 41,
    "start_time": "2024-06-24T03:12:46.820Z"
   },
   {
    "duration": 335,
    "start_time": "2024-06-24T03:13:22.610Z"
   },
   {
    "duration": 309,
    "start_time": "2024-06-24T03:13:31.828Z"
   },
   {
    "duration": 319,
    "start_time": "2024-06-24T03:13:38.263Z"
   },
   {
    "duration": 7,
    "start_time": "2024-06-24T03:13:52.016Z"
   },
   {
    "duration": 28,
    "start_time": "2024-06-24T03:13:56.026Z"
   },
   {
    "duration": 8,
    "start_time": "2024-06-24T03:14:02.522Z"
   },
   {
    "duration": 31,
    "start_time": "2024-06-24T03:14:07.035Z"
   },
   {
    "duration": 7,
    "start_time": "2024-06-24T03:20:11.128Z"
   },
   {
    "duration": 11,
    "start_time": "2024-06-24T03:20:23.608Z"
   },
   {
    "duration": 8,
    "start_time": "2024-06-24T03:20:42.829Z"
   },
   {
    "duration": 703,
    "start_time": "2024-06-24T03:23:46.213Z"
   },
   {
    "duration": 1560,
    "start_time": "2024-06-24T03:23:46.919Z"
   },
   {
    "duration": 36,
    "start_time": "2024-06-24T03:23:48.481Z"
   },
   {
    "duration": 23,
    "start_time": "2024-06-24T03:23:48.521Z"
   },
   {
    "duration": 18,
    "start_time": "2024-06-24T03:23:48.547Z"
   },
   {
    "duration": 50,
    "start_time": "2024-06-24T03:23:48.568Z"
   },
   {
    "duration": 17,
    "start_time": "2024-06-24T03:23:48.621Z"
   },
   {
    "duration": 205,
    "start_time": "2024-06-24T03:23:48.641Z"
   },
   {
    "duration": 212,
    "start_time": "2024-06-24T03:23:48.849Z"
   },
   {
    "duration": 208,
    "start_time": "2024-06-24T03:23:49.067Z"
   },
   {
    "duration": 177,
    "start_time": "2024-06-24T03:23:49.278Z"
   },
   {
    "duration": 70,
    "start_time": "2024-06-24T03:23:49.458Z"
   },
   {
    "duration": 29,
    "start_time": "2024-06-24T03:23:49.532Z"
   },
   {
    "duration": 6,
    "start_time": "2024-06-24T03:23:49.564Z"
   },
   {
    "duration": 69,
    "start_time": "2024-06-24T03:23:49.573Z"
   },
   {
    "duration": 6,
    "start_time": "2024-06-24T03:23:49.645Z"
   },
   {
    "duration": 7,
    "start_time": "2024-06-24T03:23:49.654Z"
   },
   {
    "duration": 5,
    "start_time": "2024-06-24T03:23:49.664Z"
   },
   {
    "duration": 6,
    "start_time": "2024-06-24T03:23:49.712Z"
   },
   {
    "duration": 6,
    "start_time": "2024-06-24T03:23:49.722Z"
   },
   {
    "duration": 1360,
    "start_time": "2024-06-24T03:23:49.731Z"
   },
   {
    "duration": 1225,
    "start_time": "2024-06-24T03:23:51.094Z"
   },
   {
    "duration": 7,
    "start_time": "2024-06-24T03:23:52.322Z"
   },
   {
    "duration": 15,
    "start_time": "2024-06-24T03:23:52.333Z"
   },
   {
    "duration": 12,
    "start_time": "2024-06-24T03:23:52.352Z"
   },
   {
    "duration": 56,
    "start_time": "2024-06-24T03:23:52.367Z"
   },
   {
    "duration": 8,
    "start_time": "2024-06-24T03:23:52.426Z"
   },
   {
    "duration": 10,
    "start_time": "2024-06-24T03:23:52.441Z"
   },
   {
    "duration": 9,
    "start_time": "2024-06-24T03:23:52.455Z"
   },
   {
    "duration": 28,
    "start_time": "2024-06-24T03:23:52.513Z"
   },
   {
    "duration": 115,
    "start_time": "2024-06-24T03:23:52.544Z"
   },
   {
    "duration": 20,
    "start_time": "2024-06-24T03:23:52.663Z"
   },
   {
    "duration": 40,
    "start_time": "2024-06-24T03:23:52.686Z"
   },
   {
    "duration": 38,
    "start_time": "2024-06-24T03:23:52.729Z"
   },
   {
    "duration": 43,
    "start_time": "2024-06-24T03:23:52.770Z"
   },
   {
    "duration": 8,
    "start_time": "2024-06-24T03:24:37.869Z"
   },
   {
    "duration": 2474,
    "start_time": "2024-06-24T03:31:55.956Z"
   },
   {
    "duration": 2416,
    "start_time": "2024-06-24T03:34:04.090Z"
   },
   {
    "duration": 2442,
    "start_time": "2024-06-24T03:36:09.191Z"
   },
   {
    "duration": 2382,
    "start_time": "2024-06-24T03:36:43.745Z"
   },
   {
    "duration": 7,
    "start_time": "2024-06-24T03:37:03.995Z"
   },
   {
    "duration": 8,
    "start_time": "2024-06-24T03:37:57.377Z"
   },
   {
    "duration": 2089,
    "start_time": "2024-06-24T03:38:03.731Z"
   },
   {
    "duration": 6,
    "start_time": "2024-06-24T03:38:14.937Z"
   },
   {
    "duration": 2094,
    "start_time": "2024-06-24T03:38:20.769Z"
   },
   {
    "duration": 8,
    "start_time": "2024-06-24T03:38:50.491Z"
   },
   {
    "duration": 2527,
    "start_time": "2024-06-24T03:38:58.115Z"
   },
   {
    "duration": 2387,
    "start_time": "2024-06-24T03:39:13.567Z"
   },
   {
    "duration": 2422,
    "start_time": "2024-06-24T03:39:26.774Z"
   },
   {
    "duration": 2497,
    "start_time": "2024-06-24T03:39:35.589Z"
   },
   {
    "duration": 2472,
    "start_time": "2024-06-24T03:39:41.710Z"
   },
   {
    "duration": 2422,
    "start_time": "2024-06-24T03:39:52.715Z"
   },
   {
    "duration": 348,
    "start_time": "2024-06-24T03:45:54.912Z"
   },
   {
    "duration": 403,
    "start_time": "2024-06-24T03:46:42.503Z"
   },
   {
    "duration": 420,
    "start_time": "2024-06-24T03:46:50.795Z"
   },
   {
    "duration": 393,
    "start_time": "2024-06-24T03:46:58.520Z"
   },
   {
    "duration": 381,
    "start_time": "2024-06-24T03:47:05.094Z"
   },
   {
    "duration": 404,
    "start_time": "2024-06-24T03:47:11.164Z"
   },
   {
    "duration": 498,
    "start_time": "2024-06-24T03:47:23.300Z"
   },
   {
    "duration": 402,
    "start_time": "2024-06-24T03:47:41.075Z"
   },
   {
    "duration": 7,
    "start_time": "2024-06-24T03:47:54.381Z"
   },
   {
    "duration": 2580,
    "start_time": "2024-06-24T03:47:56.881Z"
   },
   {
    "duration": 2643,
    "start_time": "2024-06-24T03:48:13.553Z"
   },
   {
    "duration": 2608,
    "start_time": "2024-06-24T03:48:23.299Z"
   },
   {
    "duration": 402,
    "start_time": "2024-06-24T03:50:01.470Z"
   },
   {
    "duration": 1171,
    "start_time": "2024-06-24T03:50:10.109Z"
   },
   {
    "duration": 436,
    "start_time": "2024-06-24T03:50:13.895Z"
   },
   {
    "duration": 411,
    "start_time": "2024-06-24T03:50:21.056Z"
   },
   {
    "duration": 391,
    "start_time": "2024-06-24T03:51:28.429Z"
   },
   {
    "duration": 399,
    "start_time": "2024-06-24T03:51:40.946Z"
   },
   {
    "duration": 421,
    "start_time": "2024-06-24T03:52:09.994Z"
   },
   {
    "duration": 392,
    "start_time": "2024-06-24T03:54:26.926Z"
   },
   {
    "duration": 389,
    "start_time": "2024-06-24T03:54:36.639Z"
   },
   {
    "duration": 1279,
    "start_time": "2024-06-24T03:56:14.137Z"
   },
   {
    "duration": 499,
    "start_time": "2024-06-24T03:56:37.769Z"
   },
   {
    "duration": 407,
    "start_time": "2024-06-24T03:56:51.885Z"
   },
   {
    "duration": 408,
    "start_time": "2024-06-24T03:57:01.969Z"
   },
   {
    "duration": 8,
    "start_time": "2024-06-24T03:57:24.998Z"
   },
   {
    "duration": 546,
    "start_time": "2024-06-24T03:57:40.614Z"
   },
   {
    "duration": 396,
    "start_time": "2024-06-24T03:57:46.551Z"
   },
   {
    "duration": 420,
    "start_time": "2024-06-24T03:57:58.862Z"
   },
   {
    "duration": 399,
    "start_time": "2024-06-24T03:58:08.024Z"
   },
   {
    "duration": 2790,
    "start_time": "2024-06-24T05:15:10.118Z"
   },
   {
    "duration": 313,
    "start_time": "2024-06-24T13:29:34.110Z"
   },
   {
    "duration": 4563,
    "start_time": "2024-06-24T13:29:44.398Z"
   },
   {
    "duration": 1835,
    "start_time": "2024-06-24T13:29:48.967Z"
   },
   {
    "duration": 36,
    "start_time": "2024-06-24T13:29:50.806Z"
   },
   {
    "duration": 24,
    "start_time": "2024-06-24T13:29:50.845Z"
   },
   {
    "duration": 19,
    "start_time": "2024-06-24T13:29:50.873Z"
   },
   {
    "duration": 18,
    "start_time": "2024-06-24T13:29:50.924Z"
   },
   {
    "duration": 19,
    "start_time": "2024-06-24T13:29:50.945Z"
   },
   {
    "duration": 234,
    "start_time": "2024-06-24T13:29:50.968Z"
   },
   {
    "duration": 207,
    "start_time": "2024-06-24T13:29:51.208Z"
   },
   {
    "duration": 225,
    "start_time": "2024-06-24T13:29:51.422Z"
   },
   {
    "duration": 230,
    "start_time": "2024-06-24T13:29:51.650Z"
   },
   {
    "duration": 61,
    "start_time": "2024-06-24T13:29:51.884Z"
   },
   {
    "duration": 26,
    "start_time": "2024-06-24T13:29:51.948Z"
   },
   {
    "duration": 6,
    "start_time": "2024-06-24T13:29:51.982Z"
   },
   {
    "duration": 60,
    "start_time": "2024-06-24T13:29:51.991Z"
   },
   {
    "duration": 8,
    "start_time": "2024-06-24T13:29:52.054Z"
   },
   {
    "duration": 7,
    "start_time": "2024-06-24T13:29:52.065Z"
   },
   {
    "duration": 50,
    "start_time": "2024-06-24T13:29:52.076Z"
   },
   {
    "duration": 6,
    "start_time": "2024-06-24T13:29:52.129Z"
   },
   {
    "duration": 6,
    "start_time": "2024-06-24T13:29:52.138Z"
   },
   {
    "duration": 1358,
    "start_time": "2024-06-24T13:29:52.148Z"
   },
   {
    "duration": 1178,
    "start_time": "2024-06-24T13:29:53.509Z"
   },
   {
    "duration": 10,
    "start_time": "2024-06-24T13:29:54.690Z"
   },
   {
    "duration": 32,
    "start_time": "2024-06-24T13:29:54.704Z"
   },
   {
    "duration": 14,
    "start_time": "2024-06-24T13:29:54.739Z"
   },
   {
    "duration": 20,
    "start_time": "2024-06-24T13:29:54.757Z"
   },
   {
    "duration": 49,
    "start_time": "2024-06-24T13:29:54.779Z"
   },
   {
    "duration": 11,
    "start_time": "2024-06-24T13:29:54.830Z"
   },
   {
    "duration": 12,
    "start_time": "2024-06-24T13:29:54.844Z"
   },
   {
    "duration": 76,
    "start_time": "2024-06-24T13:29:54.860Z"
   },
   {
    "duration": 126,
    "start_time": "2024-06-24T13:29:54.940Z"
   },
   {
    "duration": 22,
    "start_time": "2024-06-24T13:29:55.068Z"
   },
   {
    "duration": 42,
    "start_time": "2024-06-24T13:29:55.093Z"
   },
   {
    "duration": 38,
    "start_time": "2024-06-24T13:29:55.139Z"
   },
   {
    "duration": 42,
    "start_time": "2024-06-24T13:29:55.181Z"
   },
   {
    "duration": 8,
    "start_time": "2024-06-24T13:29:55.226Z"
   },
   {
    "duration": 2681,
    "start_time": "2024-06-24T13:29:55.236Z"
   },
   {
    "duration": 337,
    "start_time": "2024-06-24T13:29:57.923Z"
   },
   {
    "duration": 7,
    "start_time": "2024-06-24T13:29:58.263Z"
   },
   {
    "duration": 1954,
    "start_time": "2024-06-24T13:30:23.925Z"
   },
   {
    "duration": 461,
    "start_time": "2024-06-24T13:31:13.767Z"
   },
   {
    "duration": 389,
    "start_time": "2024-06-24T13:31:36.237Z"
   },
   {
    "duration": 359,
    "start_time": "2024-06-24T13:31:51.869Z"
   },
   {
    "duration": 367,
    "start_time": "2024-06-24T13:33:15.386Z"
   },
   {
    "duration": 230,
    "start_time": "2024-06-24T13:33:33.510Z"
   },
   {
    "duration": 423,
    "start_time": "2024-06-24T13:33:53.070Z"
   },
   {
    "duration": 269,
    "start_time": "2024-06-24T13:34:03.898Z"
   },
   {
    "duration": 431,
    "start_time": "2024-06-24T13:34:14.393Z"
   },
   {
    "duration": 440,
    "start_time": "2024-06-24T13:34:20.470Z"
   },
   {
    "duration": 480,
    "start_time": "2024-06-24T13:34:29.393Z"
   },
   {
    "duration": 487,
    "start_time": "2024-06-24T13:34:59.394Z"
   },
   {
    "duration": 460,
    "start_time": "2024-06-24T13:35:11.978Z"
   },
   {
    "duration": 455,
    "start_time": "2024-06-24T13:35:40.812Z"
   },
   {
    "duration": 481,
    "start_time": "2024-06-24T13:35:59.241Z"
   },
   {
    "duration": 606,
    "start_time": "2024-06-24T13:41:10.575Z"
   },
   {
    "duration": 22,
    "start_time": "2024-06-24T14:14:36.638Z"
   },
   {
    "duration": 41,
    "start_time": "2024-06-24T14:17:35.860Z"
   },
   {
    "duration": 39,
    "start_time": "2024-06-24T14:17:57.781Z"
   },
   {
    "duration": 40,
    "start_time": "2024-06-24T14:21:18.687Z"
   },
   {
    "duration": 388,
    "start_time": "2024-06-24T14:21:32.389Z"
   },
   {
    "duration": 42,
    "start_time": "2024-06-24T14:21:41.556Z"
   },
   {
    "duration": 655,
    "start_time": "2024-06-24T14:21:52.259Z"
   },
   {
    "duration": 1568,
    "start_time": "2024-06-24T14:21:52.922Z"
   },
   {
    "duration": 36,
    "start_time": "2024-06-24T14:21:54.493Z"
   },
   {
    "duration": 21,
    "start_time": "2024-06-24T14:21:54.533Z"
   },
   {
    "duration": 17,
    "start_time": "2024-06-24T14:21:54.557Z"
   },
   {
    "duration": 49,
    "start_time": "2024-06-24T14:21:54.577Z"
   },
   {
    "duration": 17,
    "start_time": "2024-06-24T14:21:54.628Z"
   },
   {
    "duration": 191,
    "start_time": "2024-06-24T14:21:54.649Z"
   },
   {
    "duration": 187,
    "start_time": "2024-06-24T14:21:54.843Z"
   },
   {
    "duration": 194,
    "start_time": "2024-06-24T14:21:55.037Z"
   },
   {
    "duration": 194,
    "start_time": "2024-06-24T14:21:55.234Z"
   },
   {
    "duration": 46,
    "start_time": "2024-06-24T14:21:55.431Z"
   },
   {
    "duration": 48,
    "start_time": "2024-06-24T14:21:55.480Z"
   },
   {
    "duration": 6,
    "start_time": "2024-06-24T14:21:55.531Z"
   },
   {
    "duration": 45,
    "start_time": "2024-06-24T14:21:55.540Z"
   },
   {
    "duration": 38,
    "start_time": "2024-06-24T14:21:55.590Z"
   },
   {
    "duration": 10,
    "start_time": "2024-06-24T14:21:55.636Z"
   },
   {
    "duration": 6,
    "start_time": "2024-06-24T14:21:55.650Z"
   },
   {
    "duration": 6,
    "start_time": "2024-06-24T14:21:55.660Z"
   },
   {
    "duration": 6,
    "start_time": "2024-06-24T14:21:55.669Z"
   },
   {
    "duration": 1480,
    "start_time": "2024-06-24T14:21:55.679Z"
   },
   {
    "duration": 1185,
    "start_time": "2024-06-24T14:21:57.162Z"
   },
   {
    "duration": 8,
    "start_time": "2024-06-24T14:21:58.350Z"
   },
   {
    "duration": 15,
    "start_time": "2024-06-24T14:21:58.361Z"
   },
   {
    "duration": 9,
    "start_time": "2024-06-24T14:21:58.379Z"
   },
   {
    "duration": 16,
    "start_time": "2024-06-24T14:21:58.425Z"
   },
   {
    "duration": 9,
    "start_time": "2024-06-24T14:21:58.443Z"
   },
   {
    "duration": 10,
    "start_time": "2024-06-24T14:21:58.460Z"
   },
   {
    "duration": 53,
    "start_time": "2024-06-24T14:21:58.473Z"
   },
   {
    "duration": 27,
    "start_time": "2024-06-24T14:21:58.529Z"
   },
   {
    "duration": 114,
    "start_time": "2024-06-24T14:21:58.559Z"
   },
   {
    "duration": 20,
    "start_time": "2024-06-24T14:21:58.676Z"
   },
   {
    "duration": 40,
    "start_time": "2024-06-24T14:21:58.700Z"
   },
   {
    "duration": 42,
    "start_time": "2024-06-24T14:21:58.746Z"
   },
   {
    "duration": 37,
    "start_time": "2024-06-24T14:21:58.791Z"
   },
   {
    "duration": 8,
    "start_time": "2024-06-24T14:21:58.832Z"
   },
   {
    "duration": 2512,
    "start_time": "2024-06-24T14:21:58.843Z"
   },
   {
    "duration": 353,
    "start_time": "2024-06-24T14:22:01.358Z"
   },
   {
    "duration": 492,
    "start_time": "2024-06-24T14:22:01.714Z"
   },
   {
    "duration": 57,
    "start_time": "2024-06-24T14:22:02.210Z"
   },
   {
    "duration": 414,
    "start_time": "2024-06-24T14:22:46.632Z"
   },
   {
    "duration": 410,
    "start_time": "2024-06-24T14:22:53.013Z"
   },
   {
    "duration": 687,
    "start_time": "2024-06-24T14:23:02.629Z"
   },
   {
    "duration": 1614,
    "start_time": "2024-06-24T14:23:03.322Z"
   },
   {
    "duration": 24,
    "start_time": "2024-06-24T14:23:04.938Z"
   },
   {
    "duration": 20,
    "start_time": "2024-06-24T14:23:04.968Z"
   },
   {
    "duration": 44,
    "start_time": "2024-06-24T14:23:04.991Z"
   },
   {
    "duration": 15,
    "start_time": "2024-06-24T14:23:05.039Z"
   },
   {
    "duration": 17,
    "start_time": "2024-06-24T14:23:05.057Z"
   },
   {
    "duration": 207,
    "start_time": "2024-06-24T14:23:05.077Z"
   },
   {
    "duration": 203,
    "start_time": "2024-06-24T14:23:05.287Z"
   },
   {
    "duration": 199,
    "start_time": "2024-06-24T14:23:05.495Z"
   },
   {
    "duration": 183,
    "start_time": "2024-06-24T14:23:05.697Z"
   },
   {
    "duration": 57,
    "start_time": "2024-06-24T14:23:05.883Z"
   },
   {
    "duration": 23,
    "start_time": "2024-06-24T14:23:05.943Z"
   },
   {
    "duration": 6,
    "start_time": "2024-06-24T14:23:05.969Z"
   },
   {
    "duration": 65,
    "start_time": "2024-06-24T14:23:05.978Z"
   },
   {
    "duration": 6,
    "start_time": "2024-06-24T14:23:06.046Z"
   },
   {
    "duration": 10,
    "start_time": "2024-06-24T14:23:06.055Z"
   },
   {
    "duration": 9,
    "start_time": "2024-06-24T14:23:06.069Z"
   },
   {
    "duration": 43,
    "start_time": "2024-06-24T14:23:06.082Z"
   },
   {
    "duration": 6,
    "start_time": "2024-06-24T14:23:06.128Z"
   },
   {
    "duration": 1371,
    "start_time": "2024-06-24T14:23:06.137Z"
   },
   {
    "duration": 1146,
    "start_time": "2024-06-24T14:23:07.511Z"
   },
   {
    "duration": 10,
    "start_time": "2024-06-24T14:23:08.660Z"
   },
   {
    "duration": 16,
    "start_time": "2024-06-24T14:23:08.673Z"
   },
   {
    "duration": 36,
    "start_time": "2024-06-24T14:23:08.692Z"
   },
   {
    "duration": 20,
    "start_time": "2024-06-24T14:23:08.731Z"
   },
   {
    "duration": 12,
    "start_time": "2024-06-24T14:23:08.755Z"
   },
   {
    "duration": 51,
    "start_time": "2024-06-24T14:23:08.775Z"
   },
   {
    "duration": 11,
    "start_time": "2024-06-24T14:23:08.831Z"
   },
   {
    "duration": 27,
    "start_time": "2024-06-24T14:23:08.845Z"
   },
   {
    "duration": 122,
    "start_time": "2024-06-24T14:23:08.875Z"
   },
   {
    "duration": 31,
    "start_time": "2024-06-24T14:23:09.000Z"
   },
   {
    "duration": 18,
    "start_time": "2024-06-24T14:23:09.034Z"
   },
   {
    "duration": 69,
    "start_time": "2024-06-24T14:23:09.055Z"
   },
   {
    "duration": 8,
    "start_time": "2024-06-24T14:23:09.127Z"
   },
   {
    "duration": 9,
    "start_time": "2024-06-24T14:23:09.137Z"
   },
   {
    "duration": 2553,
    "start_time": "2024-06-24T14:23:09.148Z"
   },
   {
    "duration": 344,
    "start_time": "2024-06-24T14:23:11.704Z"
   },
   {
    "duration": 505,
    "start_time": "2024-06-24T14:23:12.051Z"
   },
   {
    "duration": 105,
    "start_time": "2024-06-24T14:23:12.559Z"
   },
   {
    "duration": 107,
    "start_time": "2024-06-24T14:23:30.716Z"
   },
   {
    "duration": 801,
    "start_time": "2024-06-24T14:41:28.910Z"
   },
   {
    "duration": 616,
    "start_time": "2024-06-24T14:43:03.323Z"
   },
   {
    "duration": 602,
    "start_time": "2024-06-24T14:43:24.253Z"
   },
   {
    "duration": 662,
    "start_time": "2024-06-24T14:45:07.778Z"
   },
   {
    "duration": 595,
    "start_time": "2024-06-24T14:47:28.542Z"
   },
   {
    "duration": 604,
    "start_time": "2024-06-24T14:47:44.078Z"
   },
   {
    "duration": 592,
    "start_time": "2024-06-24T14:48:02.247Z"
   },
   {
    "duration": 609,
    "start_time": "2024-06-24T14:48:11.440Z"
   },
   {
    "duration": 742,
    "start_time": "2024-06-24T14:48:20.120Z"
   },
   {
    "duration": 706,
    "start_time": "2024-06-24T14:48:40.567Z"
   },
   {
    "duration": 630,
    "start_time": "2024-06-24T14:48:46.182Z"
   },
   {
    "duration": 608,
    "start_time": "2024-06-24T14:48:56.566Z"
   },
   {
    "duration": 609,
    "start_time": "2024-06-24T14:49:02.094Z"
   },
   {
    "duration": 9,
    "start_time": "2024-06-24T14:49:26.637Z"
   },
   {
    "duration": 610,
    "start_time": "2024-06-24T14:49:34.189Z"
   },
   {
    "duration": 650,
    "start_time": "2024-06-24T14:50:08.760Z"
   },
   {
    "duration": 1671,
    "start_time": "2024-06-24T14:50:09.413Z"
   },
   {
    "duration": 37,
    "start_time": "2024-06-24T14:50:11.086Z"
   },
   {
    "duration": 31,
    "start_time": "2024-06-24T14:50:11.128Z"
   },
   {
    "duration": 18,
    "start_time": "2024-06-24T14:50:11.162Z"
   },
   {
    "duration": 46,
    "start_time": "2024-06-24T14:50:11.183Z"
   },
   {
    "duration": 17,
    "start_time": "2024-06-24T14:50:11.232Z"
   },
   {
    "duration": 196,
    "start_time": "2024-06-24T14:50:11.252Z"
   },
   {
    "duration": 194,
    "start_time": "2024-06-24T14:50:11.451Z"
   },
   {
    "duration": 215,
    "start_time": "2024-06-24T14:50:11.651Z"
   },
   {
    "duration": 172,
    "start_time": "2024-06-24T14:50:11.869Z"
   },
   {
    "duration": 46,
    "start_time": "2024-06-24T14:50:12.046Z"
   },
   {
    "duration": 42,
    "start_time": "2024-06-24T14:50:12.095Z"
   },
   {
    "duration": 6,
    "start_time": "2024-06-24T14:50:12.140Z"
   },
   {
    "duration": 36,
    "start_time": "2024-06-24T14:50:12.150Z"
   },
   {
    "duration": 33,
    "start_time": "2024-06-24T14:50:12.191Z"
   },
   {
    "duration": 8,
    "start_time": "2024-06-24T14:50:12.227Z"
   },
   {
    "duration": 5,
    "start_time": "2024-06-24T14:50:12.238Z"
   },
   {
    "duration": 6,
    "start_time": "2024-06-24T14:50:12.247Z"
   },
   {
    "duration": 6,
    "start_time": "2024-06-24T14:50:12.257Z"
   },
   {
    "duration": 1361,
    "start_time": "2024-06-24T14:50:12.266Z"
   },
   {
    "duration": 1152,
    "start_time": "2024-06-24T14:50:13.630Z"
   },
   {
    "duration": 7,
    "start_time": "2024-06-24T14:50:14.785Z"
   },
   {
    "duration": 34,
    "start_time": "2024-06-24T14:50:14.795Z"
   },
   {
    "duration": 9,
    "start_time": "2024-06-24T14:50:14.833Z"
   },
   {
    "duration": 16,
    "start_time": "2024-06-24T14:50:14.846Z"
   },
   {
    "duration": 7,
    "start_time": "2024-06-24T14:50:14.865Z"
   },
   {
    "duration": 50,
    "start_time": "2024-06-24T14:50:14.879Z"
   },
   {
    "duration": 10,
    "start_time": "2024-06-24T14:50:14.933Z"
   },
   {
    "duration": 28,
    "start_time": "2024-06-24T14:50:14.946Z"
   },
   {
    "duration": 131,
    "start_time": "2024-06-24T14:50:14.977Z"
   },
   {
    "duration": 20,
    "start_time": "2024-06-24T14:50:15.124Z"
   },
   {
    "duration": 18,
    "start_time": "2024-06-24T14:50:15.147Z"
   },
   {
    "duration": 70,
    "start_time": "2024-06-24T14:50:15.168Z"
   },
   {
    "duration": 8,
    "start_time": "2024-06-24T14:50:15.242Z"
   },
   {
    "duration": 7,
    "start_time": "2024-06-24T14:50:15.253Z"
   },
   {
    "duration": 2544,
    "start_time": "2024-06-24T14:50:15.263Z"
   },
   {
    "duration": 336,
    "start_time": "2024-06-24T14:50:17.811Z"
   },
   {
    "duration": 488,
    "start_time": "2024-06-24T14:50:18.150Z"
   },
   {
    "duration": 622,
    "start_time": "2024-06-24T14:50:18.641Z"
   },
   {
    "duration": 658,
    "start_time": "2024-06-24T14:50:45.238Z"
   },
   {
    "duration": 556,
    "start_time": "2024-06-24T14:50:51.769Z"
   },
   {
    "duration": 698,
    "start_time": "2024-06-24T14:50:57.560Z"
   },
   {
    "duration": 665,
    "start_time": "2024-06-24T14:51:05.071Z"
   },
   {
    "duration": 2157,
    "start_time": "2024-06-24T14:51:14.654Z"
   },
   {
    "duration": 665,
    "start_time": "2024-06-24T14:51:22.623Z"
   },
   {
    "duration": 656,
    "start_time": "2024-06-24T14:51:35.172Z"
   },
   {
    "duration": 716,
    "start_time": "2024-06-24T14:53:32.267Z"
   },
   {
    "duration": 670,
    "start_time": "2024-06-24T14:54:20.274Z"
   },
   {
    "duration": 662,
    "start_time": "2024-06-24T14:57:34.994Z"
   },
   {
    "duration": 12,
    "start_time": "2024-06-24T16:44:06.712Z"
   },
   {
    "duration": 314,
    "start_time": "2024-06-24T16:44:11.461Z"
   },
   {
    "duration": 24,
    "start_time": "2024-06-24T16:44:39.618Z"
   },
   {
    "duration": 4394,
    "start_time": "2024-06-24T16:45:14.502Z"
   },
   {
    "duration": 1802,
    "start_time": "2024-06-24T16:45:18.900Z"
   },
   {
    "duration": 33,
    "start_time": "2024-06-24T16:45:20.706Z"
   },
   {
    "duration": 22,
    "start_time": "2024-06-24T16:45:20.742Z"
   },
   {
    "duration": 55,
    "start_time": "2024-06-24T16:45:20.769Z"
   },
   {
    "duration": 19,
    "start_time": "2024-06-24T16:45:20.828Z"
   },
   {
    "duration": 20,
    "start_time": "2024-06-24T16:45:20.851Z"
   },
   {
    "duration": 227,
    "start_time": "2024-06-24T16:45:20.874Z"
   },
   {
    "duration": 207,
    "start_time": "2024-06-24T16:45:21.109Z"
   },
   {
    "duration": 215,
    "start_time": "2024-06-24T16:45:21.319Z"
   },
   {
    "duration": 172,
    "start_time": "2024-06-24T16:45:21.537Z"
   },
   {
    "duration": 52,
    "start_time": "2024-06-24T16:45:21.713Z"
   },
   {
    "duration": 22,
    "start_time": "2024-06-24T16:45:21.768Z"
   },
   {
    "duration": 7,
    "start_time": "2024-06-24T16:45:21.822Z"
   },
   {
    "duration": 38,
    "start_time": "2024-06-24T16:45:21.832Z"
   },
   {
    "duration": 6,
    "start_time": "2024-06-24T16:45:21.873Z"
   },
   {
    "duration": 41,
    "start_time": "2024-06-24T16:45:21.882Z"
   },
   {
    "duration": 7,
    "start_time": "2024-06-24T16:45:21.927Z"
   },
   {
    "duration": 6,
    "start_time": "2024-06-24T16:45:21.937Z"
   },
   {
    "duration": 5,
    "start_time": "2024-06-24T16:45:21.946Z"
   },
   {
    "duration": 1387,
    "start_time": "2024-06-24T16:45:21.954Z"
   },
   {
    "duration": 1153,
    "start_time": "2024-06-24T16:45:23.345Z"
   },
   {
    "duration": 14,
    "start_time": "2024-06-24T16:45:24.500Z"
   },
   {
    "duration": 28,
    "start_time": "2024-06-24T16:45:24.524Z"
   },
   {
    "duration": 10,
    "start_time": "2024-06-24T16:45:24.556Z"
   },
   {
    "duration": 17,
    "start_time": "2024-06-24T16:45:24.569Z"
   },
   {
    "duration": 8,
    "start_time": "2024-06-24T16:45:24.589Z"
   },
   {
    "duration": 12,
    "start_time": "2024-06-24T16:45:24.622Z"
   },
   {
    "duration": 11,
    "start_time": "2024-06-24T16:45:24.637Z"
   },
   {
    "duration": 72,
    "start_time": "2024-06-24T16:45:24.651Z"
   },
   {
    "duration": 117,
    "start_time": "2024-06-24T16:45:24.727Z"
   },
   {
    "duration": 23,
    "start_time": "2024-06-24T16:45:24.848Z"
   },
   {
    "duration": 49,
    "start_time": "2024-06-24T16:45:24.875Z"
   },
   {
    "duration": 37,
    "start_time": "2024-06-24T16:45:24.927Z"
   },
   {
    "duration": 10,
    "start_time": "2024-06-24T16:45:24.968Z"
   },
   {
    "duration": 43,
    "start_time": "2024-06-24T16:45:24.981Z"
   },
   {
    "duration": 2658,
    "start_time": "2024-06-24T16:45:25.027Z"
   },
   {
    "duration": 395,
    "start_time": "2024-06-24T16:45:27.688Z"
   },
   {
    "duration": 496,
    "start_time": "2024-06-24T16:45:28.086Z"
   },
   {
    "duration": 678,
    "start_time": "2024-06-24T16:45:28.585Z"
   },
   {
    "duration": 14,
    "start_time": "2024-06-24T16:48:09.616Z"
   },
   {
    "duration": 382,
    "start_time": "2024-06-24T16:48:15.186Z"
   },
   {
    "duration": 851,
    "start_time": "2024-06-24T16:48:24.420Z"
   },
   {
    "duration": 1957,
    "start_time": "2024-06-24T16:48:25.276Z"
   },
   {
    "duration": 25,
    "start_time": "2024-06-24T16:48:27.235Z"
   },
   {
    "duration": 21,
    "start_time": "2024-06-24T16:48:27.264Z"
   },
   {
    "duration": 48,
    "start_time": "2024-06-24T16:48:27.292Z"
   },
   {
    "duration": 19,
    "start_time": "2024-06-24T16:48:27.343Z"
   },
   {
    "duration": 28,
    "start_time": "2024-06-24T16:48:27.365Z"
   },
   {
    "duration": 237,
    "start_time": "2024-06-24T16:48:27.423Z"
   },
   {
    "duration": 288,
    "start_time": "2024-06-24T16:48:27.663Z"
   },
   {
    "duration": 224,
    "start_time": "2024-06-24T16:48:27.954Z"
   },
   {
    "duration": 201,
    "start_time": "2024-06-24T16:48:28.181Z"
   },
   {
    "duration": 70,
    "start_time": "2024-06-24T16:48:28.385Z"
   },
   {
    "duration": 23,
    "start_time": "2024-06-24T16:48:28.460Z"
   },
   {
    "duration": 5,
    "start_time": "2024-06-24T16:48:28.490Z"
   },
   {
    "duration": 76,
    "start_time": "2024-06-24T16:48:28.498Z"
   },
   {
    "duration": 6,
    "start_time": "2024-06-24T16:48:28.577Z"
   },
   {
    "duration": 6,
    "start_time": "2024-06-24T16:48:28.586Z"
   },
   {
    "duration": 39,
    "start_time": "2024-06-24T16:48:28.595Z"
   },
   {
    "duration": 7,
    "start_time": "2024-06-24T16:48:28.654Z"
   },
   {
    "duration": 6,
    "start_time": "2024-06-24T16:48:28.664Z"
   },
   {
    "duration": 1696,
    "start_time": "2024-06-24T16:48:28.674Z"
   },
   {
    "duration": 1297,
    "start_time": "2024-06-24T16:48:30.374Z"
   },
   {
    "duration": 14,
    "start_time": "2024-06-24T16:48:31.674Z"
   },
   {
    "duration": 32,
    "start_time": "2024-06-24T16:48:31.691Z"
   },
   {
    "duration": 12,
    "start_time": "2024-06-24T16:48:31.726Z"
   },
   {
    "duration": 18,
    "start_time": "2024-06-24T16:48:31.741Z"
   },
   {
    "duration": 8,
    "start_time": "2024-06-24T16:48:31.761Z"
   },
   {
    "duration": 51,
    "start_time": "2024-06-24T16:48:31.773Z"
   },
   {
    "duration": 15,
    "start_time": "2024-06-24T16:48:31.828Z"
   },
   {
    "duration": 32,
    "start_time": "2024-06-24T16:48:31.849Z"
   },
   {
    "duration": 117,
    "start_time": "2024-06-24T16:48:31.926Z"
   },
   {
    "duration": 37,
    "start_time": "2024-06-24T16:48:32.048Z"
   },
   {
    "duration": 65,
    "start_time": "2024-06-24T16:48:32.088Z"
   },
   {
    "duration": 35,
    "start_time": "2024-06-24T16:48:32.156Z"
   },
   {
    "duration": 7,
    "start_time": "2024-06-24T16:48:32.194Z"
   },
   {
    "duration": 28,
    "start_time": "2024-06-24T16:48:32.222Z"
   },
   {
    "duration": 2931,
    "start_time": "2024-06-24T16:48:32.254Z"
   },
   {
    "duration": 361,
    "start_time": "2024-06-24T16:48:35.188Z"
   },
   {
    "duration": 487,
    "start_time": "2024-06-24T16:48:35.552Z"
   },
   {
    "duration": 684,
    "start_time": "2024-06-24T16:48:36.042Z"
   },
   {
    "duration": 753,
    "start_time": "2024-06-24T16:50:18.375Z"
   },
   {
    "duration": 2020,
    "start_time": "2024-06-24T16:50:19.131Z"
   },
   {
    "duration": 30,
    "start_time": "2024-06-24T16:50:21.154Z"
   },
   {
    "duration": 22,
    "start_time": "2024-06-24T16:50:21.188Z"
   },
   {
    "duration": 51,
    "start_time": "2024-06-24T16:50:21.212Z"
   },
   {
    "duration": 17,
    "start_time": "2024-06-24T16:50:21.267Z"
   },
   {
    "duration": 18,
    "start_time": "2024-06-24T16:50:21.286Z"
   },
   {
    "duration": 248,
    "start_time": "2024-06-24T16:50:21.307Z"
   },
   {
    "duration": 235,
    "start_time": "2024-06-24T16:50:21.558Z"
   },
   {
    "duration": 233,
    "start_time": "2024-06-24T16:50:21.801Z"
   },
   {
    "duration": 189,
    "start_time": "2024-06-24T16:50:22.045Z"
   },
   {
    "duration": 46,
    "start_time": "2024-06-24T16:50:22.247Z"
   },
   {
    "duration": 22,
    "start_time": "2024-06-24T16:50:22.297Z"
   },
   {
    "duration": 21,
    "start_time": "2024-06-24T16:50:22.329Z"
   },
   {
    "duration": 34,
    "start_time": "2024-06-24T16:50:22.355Z"
   },
   {
    "duration": 6,
    "start_time": "2024-06-24T16:50:22.392Z"
   },
   {
    "duration": 23,
    "start_time": "2024-06-24T16:50:22.401Z"
   },
   {
    "duration": 8,
    "start_time": "2024-06-24T16:50:22.431Z"
   },
   {
    "duration": 7,
    "start_time": "2024-06-24T16:50:22.447Z"
   },
   {
    "duration": 6,
    "start_time": "2024-06-24T16:50:22.458Z"
   },
   {
    "duration": 1602,
    "start_time": "2024-06-24T16:50:22.467Z"
   },
   {
    "duration": 1393,
    "start_time": "2024-06-24T16:50:24.073Z"
   },
   {
    "duration": 8,
    "start_time": "2024-06-24T16:50:25.471Z"
   },
   {
    "duration": 19,
    "start_time": "2024-06-24T16:50:25.481Z"
   },
   {
    "duration": 28,
    "start_time": "2024-06-24T16:50:25.503Z"
   },
   {
    "duration": 29,
    "start_time": "2024-06-24T16:50:25.534Z"
   },
   {
    "duration": 15,
    "start_time": "2024-06-24T16:50:25.566Z"
   },
   {
    "duration": 40,
    "start_time": "2024-06-24T16:50:25.592Z"
   },
   {
    "duration": 26,
    "start_time": "2024-06-24T16:50:25.637Z"
   },
   {
    "duration": 81,
    "start_time": "2024-06-24T16:50:25.668Z"
   },
   {
    "duration": 142,
    "start_time": "2024-06-24T16:50:25.753Z"
   },
   {
    "duration": 23,
    "start_time": "2024-06-24T16:50:25.899Z"
   },
   {
    "duration": 30,
    "start_time": "2024-06-24T16:50:25.928Z"
   },
   {
    "duration": 48,
    "start_time": "2024-06-24T16:50:25.961Z"
   },
   {
    "duration": 21,
    "start_time": "2024-06-24T16:50:26.011Z"
   },
   {
    "duration": 9,
    "start_time": "2024-06-24T16:50:26.035Z"
   },
   {
    "duration": 3123,
    "start_time": "2024-06-24T16:50:26.048Z"
   },
   {
    "duration": 400,
    "start_time": "2024-06-24T16:50:29.174Z"
   },
   {
    "duration": 592,
    "start_time": "2024-06-24T16:50:29.578Z"
   },
   {
    "duration": 701,
    "start_time": "2024-06-24T16:50:30.173Z"
   },
   {
    "duration": 314,
    "start_time": "2024-06-24T16:52:37.401Z"
   },
   {
    "duration": 800,
    "start_time": "2024-06-24T16:52:45.847Z"
   },
   {
    "duration": 1691,
    "start_time": "2024-06-24T16:52:46.651Z"
   },
   {
    "duration": 26,
    "start_time": "2024-06-24T16:52:48.345Z"
   },
   {
    "duration": 24,
    "start_time": "2024-06-24T16:52:48.374Z"
   },
   {
    "duration": 21,
    "start_time": "2024-06-24T16:52:48.427Z"
   },
   {
    "duration": 21,
    "start_time": "2024-06-24T16:52:48.452Z"
   },
   {
    "duration": 52,
    "start_time": "2024-06-24T16:52:48.477Z"
   },
   {
    "duration": 249,
    "start_time": "2024-06-24T16:52:48.533Z"
   },
   {
    "duration": 201,
    "start_time": "2024-06-24T16:52:48.786Z"
   },
   {
    "duration": 201,
    "start_time": "2024-06-24T16:52:48.990Z"
   },
   {
    "duration": 172,
    "start_time": "2024-06-24T16:52:49.194Z"
   },
   {
    "duration": 59,
    "start_time": "2024-06-24T16:52:49.369Z"
   },
   {
    "duration": 23,
    "start_time": "2024-06-24T16:52:49.431Z"
   },
   {
    "duration": 5,
    "start_time": "2024-06-24T16:52:49.461Z"
   },
   {
    "duration": 66,
    "start_time": "2024-06-24T16:52:49.469Z"
   },
   {
    "duration": 6,
    "start_time": "2024-06-24T16:52:49.538Z"
   },
   {
    "duration": 6,
    "start_time": "2024-06-24T16:52:49.550Z"
   },
   {
    "duration": 5,
    "start_time": "2024-06-24T16:52:49.560Z"
   },
   {
    "duration": 6,
    "start_time": "2024-06-24T16:52:49.568Z"
   },
   {
    "duration": 5,
    "start_time": "2024-06-24T16:52:49.623Z"
   },
   {
    "duration": 1372,
    "start_time": "2024-06-24T16:52:49.632Z"
   },
   {
    "duration": 1174,
    "start_time": "2024-06-24T16:52:51.008Z"
   },
   {
    "duration": 8,
    "start_time": "2024-06-24T16:52:52.184Z"
   },
   {
    "duration": 34,
    "start_time": "2024-06-24T16:52:52.195Z"
   },
   {
    "duration": 12,
    "start_time": "2024-06-24T16:52:52.232Z"
   },
   {
    "duration": 16,
    "start_time": "2024-06-24T16:52:52.247Z"
   },
   {
    "duration": 8,
    "start_time": "2024-06-24T16:52:52.265Z"
   },
   {
    "duration": 54,
    "start_time": "2024-06-24T16:52:52.276Z"
   },
   {
    "duration": 10,
    "start_time": "2024-06-24T16:52:52.333Z"
   },
   {
    "duration": 27,
    "start_time": "2024-06-24T16:52:52.346Z"
   },
   {
    "duration": 123,
    "start_time": "2024-06-24T16:52:52.376Z"
   },
   {
    "duration": 35,
    "start_time": "2024-06-24T16:52:52.502Z"
   },
   {
    "duration": 18,
    "start_time": "2024-06-24T16:52:52.540Z"
   },
   {
    "duration": 67,
    "start_time": "2024-06-24T16:52:52.561Z"
   },
   {
    "duration": 8,
    "start_time": "2024-06-24T16:52:52.631Z"
   },
   {
    "duration": 8,
    "start_time": "2024-06-24T16:52:52.642Z"
   },
   {
    "duration": 2489,
    "start_time": "2024-06-24T16:52:52.653Z"
   },
   {
    "duration": 372,
    "start_time": "2024-06-24T16:52:55.144Z"
   },
   {
    "duration": 480,
    "start_time": "2024-06-24T16:52:55.518Z"
   },
   {
    "duration": 689,
    "start_time": "2024-06-24T16:52:56.001Z"
   },
   {
    "duration": 396,
    "start_time": "2024-06-24T16:52:56.699Z"
   },
   {
    "duration": 5,
    "start_time": "2024-06-24T16:52:57.098Z"
   },
   {
    "duration": 271,
    "start_time": "2024-06-24T16:53:58.590Z"
   },
   {
    "duration": 249,
    "start_time": "2024-06-24T16:54:28.421Z"
   },
   {
    "duration": 251,
    "start_time": "2024-06-24T16:54:51.661Z"
   },
   {
    "duration": 8,
    "start_time": "2024-06-24T16:54:56.480Z"
   },
   {
    "duration": 466,
    "start_time": "2024-06-24T16:55:07.303Z"
   },
   {
    "duration": 277,
    "start_time": "2024-06-24T16:55:22.866Z"
   },
   {
    "duration": 267,
    "start_time": "2024-06-24T16:55:46.062Z"
   },
   {
    "duration": 7,
    "start_time": "2024-06-24T16:56:01.516Z"
   },
   {
    "duration": 6,
    "start_time": "2024-06-24T16:56:04.712Z"
   },
   {
    "duration": 6,
    "start_time": "2024-06-24T16:56:10.692Z"
   },
   {
    "duration": 282,
    "start_time": "2024-06-24T16:56:20.013Z"
   },
   {
    "duration": 15,
    "start_time": "2024-06-24T16:57:33.748Z"
   },
   {
    "duration": 2020,
    "start_time": "2024-06-24T16:57:38.825Z"
   },
   {
    "duration": 1011,
    "start_time": "2024-06-24T16:58:13.174Z"
   },
   {
    "duration": 331,
    "start_time": "2024-06-24T16:58:38.561Z"
   },
   {
    "duration": 12,
    "start_time": "2024-06-24T16:58:50.222Z"
   },
   {
    "duration": 348,
    "start_time": "2024-06-24T16:58:59.187Z"
   },
   {
    "duration": 336,
    "start_time": "2024-06-24T17:00:47.582Z"
   },
   {
    "duration": 790,
    "start_time": "2024-06-24T17:01:38.110Z"
   },
   {
    "duration": 1739,
    "start_time": "2024-06-24T17:01:38.904Z"
   },
   {
    "duration": 27,
    "start_time": "2024-06-24T17:01:40.647Z"
   },
   {
    "duration": 49,
    "start_time": "2024-06-24T17:01:40.679Z"
   },
   {
    "duration": 21,
    "start_time": "2024-06-24T17:01:40.737Z"
   },
   {
    "duration": 20,
    "start_time": "2024-06-24T17:01:40.761Z"
   },
   {
    "duration": 51,
    "start_time": "2024-06-24T17:01:40.788Z"
   },
   {
    "duration": 233,
    "start_time": "2024-06-24T17:01:40.842Z"
   },
   {
    "duration": 282,
    "start_time": "2024-06-24T17:01:41.078Z"
   },
   {
    "duration": 270,
    "start_time": "2024-06-24T17:01:41.364Z"
   },
   {
    "duration": 238,
    "start_time": "2024-06-24T17:01:41.641Z"
   },
   {
    "duration": 73,
    "start_time": "2024-06-24T17:01:41.882Z"
   },
   {
    "duration": 31,
    "start_time": "2024-06-24T17:01:41.958Z"
   },
   {
    "duration": 26,
    "start_time": "2024-06-24T17:01:41.998Z"
   },
   {
    "duration": 42,
    "start_time": "2024-06-24T17:01:42.028Z"
   },
   {
    "duration": 7,
    "start_time": "2024-06-24T17:01:42.077Z"
   },
   {
    "duration": 36,
    "start_time": "2024-06-24T17:01:42.089Z"
   },
   {
    "duration": 8,
    "start_time": "2024-06-24T17:01:42.130Z"
   },
   {
    "duration": 8,
    "start_time": "2024-06-24T17:01:42.142Z"
   },
   {
    "duration": 9,
    "start_time": "2024-06-24T17:01:42.153Z"
   },
   {
    "duration": 1630,
    "start_time": "2024-06-24T17:01:42.168Z"
   },
   {
    "duration": 1394,
    "start_time": "2024-06-24T17:01:43.802Z"
   },
   {
    "duration": 23,
    "start_time": "2024-06-24T17:01:45.200Z"
   },
   {
    "duration": 20,
    "start_time": "2024-06-24T17:01:45.227Z"
   },
   {
    "duration": 13,
    "start_time": "2024-06-24T17:01:45.250Z"
   },
   {
    "duration": 57,
    "start_time": "2024-06-24T17:01:45.266Z"
   },
   {
    "duration": 8,
    "start_time": "2024-06-24T17:01:45.327Z"
   },
   {
    "duration": 12,
    "start_time": "2024-06-24T17:01:45.339Z"
   },
   {
    "duration": 11,
    "start_time": "2024-06-24T17:01:45.355Z"
   },
   {
    "duration": 79,
    "start_time": "2024-06-24T17:01:45.370Z"
   },
   {
    "duration": 119,
    "start_time": "2024-06-24T17:01:45.454Z"
   },
   {
    "duration": 46,
    "start_time": "2024-06-24T17:01:45.577Z"
   },
   {
    "duration": 27,
    "start_time": "2024-06-24T17:01:45.626Z"
   },
   {
    "duration": 72,
    "start_time": "2024-06-24T17:01:45.656Z"
   },
   {
    "duration": 9,
    "start_time": "2024-06-24T17:01:45.735Z"
   },
   {
    "duration": 9,
    "start_time": "2024-06-24T17:01:45.747Z"
   },
   {
    "duration": 3158,
    "start_time": "2024-06-24T17:01:45.759Z"
   },
   {
    "duration": 373,
    "start_time": "2024-06-24T17:01:48.922Z"
   },
   {
    "duration": 551,
    "start_time": "2024-06-24T17:01:49.299Z"
   },
   {
    "duration": 764,
    "start_time": "2024-06-24T17:01:49.854Z"
   },
   {
    "duration": 841,
    "start_time": "2024-06-24T17:01:50.631Z"
   },
   {
    "duration": 608,
    "start_time": "2024-06-24T17:02:11.848Z"
   },
   {
    "duration": 543,
    "start_time": "2024-06-24T17:02:27.218Z"
   },
   {
    "duration": 513,
    "start_time": "2024-06-24T17:02:36.038Z"
   },
   {
    "duration": 508,
    "start_time": "2024-06-24T17:02:41.982Z"
   },
   {
    "duration": 518,
    "start_time": "2024-06-24T17:02:47.720Z"
   },
   {
    "duration": 594,
    "start_time": "2024-06-24T17:02:52.745Z"
   },
   {
    "duration": 597,
    "start_time": "2024-06-24T17:03:00.044Z"
   },
   {
    "duration": 559,
    "start_time": "2024-06-24T17:03:07.412Z"
   },
   {
    "duration": 508,
    "start_time": "2024-06-24T17:03:28.248Z"
   },
   {
    "duration": 19,
    "start_time": "2024-06-24T17:04:04.737Z"
   },
   {
    "duration": 461,
    "start_time": "2024-06-24T17:04:08.487Z"
   },
   {
    "duration": 497,
    "start_time": "2024-06-24T17:04:37.461Z"
   },
   {
    "duration": 633,
    "start_time": "2024-06-24T17:04:59.927Z"
   },
   {
    "duration": 4464,
    "start_time": "2024-06-24T21:08:30.209Z"
   },
   {
    "duration": 1782,
    "start_time": "2024-06-24T21:08:34.677Z"
   },
   {
    "duration": 28,
    "start_time": "2024-06-24T21:08:36.462Z"
   },
   {
    "duration": 42,
    "start_time": "2024-06-24T21:08:36.499Z"
   },
   {
    "duration": 21,
    "start_time": "2024-06-24T21:08:36.544Z"
   },
   {
    "duration": 18,
    "start_time": "2024-06-24T21:08:36.569Z"
   },
   {
    "duration": 57,
    "start_time": "2024-06-24T21:08:36.590Z"
   },
   {
    "duration": 192,
    "start_time": "2024-06-24T21:08:36.651Z"
   },
   {
    "duration": 198,
    "start_time": "2024-06-24T21:08:36.846Z"
   },
   {
    "duration": 229,
    "start_time": "2024-06-24T21:08:37.051Z"
   },
   {
    "duration": 190,
    "start_time": "2024-06-24T21:08:37.285Z"
   },
   {
    "duration": 59,
    "start_time": "2024-06-24T21:08:37.480Z"
   },
   {
    "duration": 22,
    "start_time": "2024-06-24T21:08:37.542Z"
   },
   {
    "duration": 6,
    "start_time": "2024-06-24T21:08:37.567Z"
   },
   {
    "duration": 79,
    "start_time": "2024-06-24T21:08:37.576Z"
   },
   {
    "duration": 8,
    "start_time": "2024-06-24T21:08:37.658Z"
   },
   {
    "duration": 13,
    "start_time": "2024-06-24T21:08:37.672Z"
   },
   {
    "duration": 6,
    "start_time": "2024-06-24T21:08:37.687Z"
   },
   {
    "duration": 36,
    "start_time": "2024-06-24T21:08:37.697Z"
   },
   {
    "duration": 7,
    "start_time": "2024-06-24T21:08:37.736Z"
   },
   {
    "duration": 1388,
    "start_time": "2024-06-24T21:08:37.745Z"
   },
   {
    "duration": 1187,
    "start_time": "2024-06-24T21:08:39.136Z"
   },
   {
    "duration": 13,
    "start_time": "2024-06-24T21:08:40.326Z"
   },
   {
    "duration": 15,
    "start_time": "2024-06-24T21:08:40.343Z"
   },
   {
    "duration": 10,
    "start_time": "2024-06-24T21:08:40.361Z"
   },
   {
    "duration": 16,
    "start_time": "2024-06-24T21:08:40.374Z"
   },
   {
    "duration": 8,
    "start_time": "2024-06-24T21:08:40.434Z"
   },
   {
    "duration": 10,
    "start_time": "2024-06-24T21:08:40.452Z"
   },
   {
    "duration": 11,
    "start_time": "2024-06-24T21:08:40.465Z"
   },
   {
    "duration": 82,
    "start_time": "2024-06-24T21:08:40.478Z"
   },
   {
    "duration": 104,
    "start_time": "2024-06-24T21:08:40.563Z"
   },
   {
    "duration": 20,
    "start_time": "2024-06-24T21:08:40.670Z"
   },
   {
    "duration": 42,
    "start_time": "2024-06-24T21:08:40.696Z"
   },
   {
    "duration": 42,
    "start_time": "2024-06-24T21:08:40.742Z"
   },
   {
    "duration": 8,
    "start_time": "2024-06-24T21:08:40.787Z"
   },
   {
    "duration": 36,
    "start_time": "2024-06-24T21:08:40.798Z"
   },
   {
    "duration": 2634,
    "start_time": "2024-06-24T21:08:40.837Z"
   },
   {
    "duration": 408,
    "start_time": "2024-06-24T21:08:43.475Z"
   },
   {
    "duration": 523,
    "start_time": "2024-06-24T21:08:43.889Z"
   },
   {
    "duration": 570,
    "start_time": "2024-06-24T21:08:44.416Z"
   },
   {
    "duration": 424,
    "start_time": "2024-06-24T21:08:44.989Z"
   },
   {
    "duration": 161,
    "start_time": "2024-06-24T21:10:00.372Z"
   },
   {
    "duration": 172,
    "start_time": "2024-06-24T21:12:18.454Z"
   },
   {
    "duration": 1752,
    "start_time": "2024-06-24T21:18:57.360Z"
   },
   {
    "duration": 709,
    "start_time": "2024-06-24T21:19:28.327Z"
   },
   {
    "duration": 1565,
    "start_time": "2024-06-24T21:19:29.039Z"
   },
   {
    "duration": 32,
    "start_time": "2024-06-24T21:19:30.607Z"
   },
   {
    "duration": 21,
    "start_time": "2024-06-24T21:19:30.644Z"
   },
   {
    "duration": 23,
    "start_time": "2024-06-24T21:19:30.668Z"
   },
   {
    "duration": 50,
    "start_time": "2024-06-24T21:19:30.694Z"
   },
   {
    "duration": 18,
    "start_time": "2024-06-24T21:19:30.747Z"
   },
   {
    "duration": 200,
    "start_time": "2024-06-24T21:19:30.769Z"
   },
   {
    "duration": 186,
    "start_time": "2024-06-24T21:19:30.972Z"
   },
   {
    "duration": 203,
    "start_time": "2024-06-24T21:19:31.164Z"
   },
   {
    "duration": 180,
    "start_time": "2024-06-24T21:19:31.370Z"
   },
   {
    "duration": 44,
    "start_time": "2024-06-24T21:19:31.555Z"
   },
   {
    "duration": 50,
    "start_time": "2024-06-24T21:19:31.602Z"
   },
   {
    "duration": 5,
    "start_time": "2024-06-24T21:19:31.655Z"
   },
   {
    "duration": 34,
    "start_time": "2024-06-24T21:19:31.663Z"
   },
   {
    "duration": 32,
    "start_time": "2024-06-24T21:19:31.700Z"
   },
   {
    "duration": 7,
    "start_time": "2024-06-24T21:19:31.735Z"
   },
   {
    "duration": 5,
    "start_time": "2024-06-24T21:19:31.745Z"
   },
   {
    "duration": 6,
    "start_time": "2024-06-24T21:19:31.754Z"
   },
   {
    "duration": 6,
    "start_time": "2024-06-24T21:19:31.763Z"
   },
   {
    "duration": 1390,
    "start_time": "2024-06-24T21:19:31.772Z"
   },
   {
    "duration": 1147,
    "start_time": "2024-06-24T21:19:33.165Z"
   },
   {
    "duration": 17,
    "start_time": "2024-06-24T21:19:34.315Z"
   },
   {
    "duration": 14,
    "start_time": "2024-06-24T21:19:34.336Z"
   },
   {
    "duration": 9,
    "start_time": "2024-06-24T21:19:34.353Z"
   },
   {
    "duration": 15,
    "start_time": "2024-06-24T21:19:34.366Z"
   },
   {
    "duration": 50,
    "start_time": "2024-06-24T21:19:34.384Z"
   },
   {
    "duration": 9,
    "start_time": "2024-06-24T21:19:34.443Z"
   },
   {
    "duration": 9,
    "start_time": "2024-06-24T21:19:34.455Z"
   },
   {
    "duration": 71,
    "start_time": "2024-06-24T21:19:34.467Z"
   },
   {
    "duration": 98,
    "start_time": "2024-06-24T21:19:34.540Z"
   },
   {
    "duration": 20,
    "start_time": "2024-06-24T21:19:34.641Z"
   },
   {
    "duration": 18,
    "start_time": "2024-06-24T21:19:34.663Z"
   },
   {
    "duration": 75,
    "start_time": "2024-06-24T21:19:34.684Z"
   },
   {
    "duration": 8,
    "start_time": "2024-06-24T21:19:34.762Z"
   },
   {
    "duration": 7,
    "start_time": "2024-06-24T21:19:34.773Z"
   },
   {
    "duration": 2525,
    "start_time": "2024-06-24T21:19:34.783Z"
   },
   {
    "duration": 348,
    "start_time": "2024-06-24T21:19:37.311Z"
   },
   {
    "duration": 480,
    "start_time": "2024-06-24T21:19:37.663Z"
   },
   {
    "duration": 523,
    "start_time": "2024-06-24T21:19:38.146Z"
   },
   {
    "duration": 409,
    "start_time": "2024-06-24T21:19:38.672Z"
   },
   {
    "duration": 187,
    "start_time": "2024-06-24T21:19:39.084Z"
   },
   {
    "duration": 1787,
    "start_time": "2024-06-24T21:19:39.275Z"
   },
   {
    "duration": 381,
    "start_time": "2024-06-24T21:20:33.959Z"
   },
   {
    "duration": 383,
    "start_time": "2024-06-24T21:21:08.180Z"
   },
   {
    "duration": 419,
    "start_time": "2024-06-24T21:21:12.747Z"
   },
   {
    "duration": 473,
    "start_time": "2024-06-24T21:21:56.577Z"
   },
   {
    "duration": 400,
    "start_time": "2024-06-24T21:23:18.657Z"
   },
   {
    "duration": 38,
    "start_time": "2024-06-24T21:24:06.854Z"
   },
   {
    "duration": 420,
    "start_time": "2024-06-24T21:24:14.004Z"
   },
   {
    "duration": 485,
    "start_time": "2024-06-24T21:25:11.927Z"
   },
   {
    "duration": 387,
    "start_time": "2024-06-24T21:25:15.033Z"
   },
   {
    "duration": 534,
    "start_time": "2024-06-24T21:27:20.256Z"
   },
   {
    "duration": 497,
    "start_time": "2024-06-24T21:37:22.023Z"
   },
   {
    "duration": 501,
    "start_time": "2024-06-24T21:37:42.851Z"
   },
   {
    "duration": 490,
    "start_time": "2024-06-24T21:37:59.350Z"
   },
   {
    "duration": 5,
    "start_time": "2024-06-24T21:40:46.584Z"
   },
   {
    "duration": 5,
    "start_time": "2024-06-24T21:41:26.607Z"
   },
   {
    "duration": 418,
    "start_time": "2024-06-24T21:42:53.396Z"
   },
   {
    "duration": 427,
    "start_time": "2024-06-24T21:43:05.074Z"
   },
   {
    "duration": 445,
    "start_time": "2024-06-24T21:45:11.201Z"
   },
   {
    "duration": 327,
    "start_time": "2024-06-25T00:14:14.488Z"
   },
   {
    "duration": 4573,
    "start_time": "2024-06-25T00:14:29.002Z"
   },
   {
    "duration": 1711,
    "start_time": "2024-06-25T00:14:33.579Z"
   },
   {
    "duration": 35,
    "start_time": "2024-06-25T00:14:35.293Z"
   },
   {
    "duration": 21,
    "start_time": "2024-06-25T00:14:35.332Z"
   },
   {
    "duration": 19,
    "start_time": "2024-06-25T00:14:35.356Z"
   },
   {
    "duration": 45,
    "start_time": "2024-06-25T00:14:35.379Z"
   },
   {
    "duration": 16,
    "start_time": "2024-06-25T00:14:35.427Z"
   },
   {
    "duration": 197,
    "start_time": "2024-06-25T00:14:35.447Z"
   },
   {
    "duration": 200,
    "start_time": "2024-06-25T00:14:35.647Z"
   },
   {
    "duration": 200,
    "start_time": "2024-06-25T00:14:35.854Z"
   },
   {
    "duration": 181,
    "start_time": "2024-06-25T00:14:36.057Z"
   },
   {
    "duration": 48,
    "start_time": "2024-06-25T00:14:36.241Z"
   },
   {
    "duration": 39,
    "start_time": "2024-06-25T00:14:36.292Z"
   },
   {
    "duration": 6,
    "start_time": "2024-06-25T00:14:36.334Z"
   },
   {
    "duration": 69,
    "start_time": "2024-06-25T00:14:36.343Z"
   },
   {
    "duration": 6,
    "start_time": "2024-06-25T00:14:36.414Z"
   },
   {
    "duration": 6,
    "start_time": "2024-06-25T00:14:36.424Z"
   },
   {
    "duration": 6,
    "start_time": "2024-06-25T00:14:36.433Z"
   },
   {
    "duration": 6,
    "start_time": "2024-06-25T00:14:36.442Z"
   },
   {
    "duration": 5,
    "start_time": "2024-06-25T00:14:36.452Z"
   },
   {
    "duration": 1389,
    "start_time": "2024-06-25T00:14:36.514Z"
   },
   {
    "duration": 1161,
    "start_time": "2024-06-25T00:14:37.911Z"
   },
   {
    "duration": 6,
    "start_time": "2024-06-25T00:14:39.075Z"
   },
   {
    "duration": 31,
    "start_time": "2024-06-25T00:14:39.085Z"
   },
   {
    "duration": 9,
    "start_time": "2024-06-25T00:14:39.120Z"
   },
   {
    "duration": 18,
    "start_time": "2024-06-25T00:14:39.132Z"
   },
   {
    "duration": 8,
    "start_time": "2024-06-25T00:14:39.153Z"
   },
   {
    "duration": 10,
    "start_time": "2024-06-25T00:14:39.212Z"
   },
   {
    "duration": 11,
    "start_time": "2024-06-25T00:14:39.224Z"
   },
   {
    "duration": 27,
    "start_time": "2024-06-25T00:14:39.237Z"
   },
   {
    "duration": 128,
    "start_time": "2024-06-25T00:14:39.267Z"
   },
   {
    "duration": 22,
    "start_time": "2024-06-25T00:14:39.411Z"
   },
   {
    "duration": 19,
    "start_time": "2024-06-25T00:14:39.435Z"
   },
   {
    "duration": 63,
    "start_time": "2024-06-25T00:14:39.457Z"
   },
   {
    "duration": 8,
    "start_time": "2024-06-25T00:14:39.523Z"
   },
   {
    "duration": 8,
    "start_time": "2024-06-25T00:14:39.534Z"
   },
   {
    "duration": 2515,
    "start_time": "2024-06-25T00:14:39.545Z"
   },
   {
    "duration": 352,
    "start_time": "2024-06-25T00:14:42.063Z"
   },
   {
    "duration": 488,
    "start_time": "2024-06-25T00:14:42.417Z"
   },
   {
    "duration": 535,
    "start_time": "2024-06-25T00:14:42.914Z"
   },
   {
    "duration": 425,
    "start_time": "2024-06-25T00:14:43.452Z"
   },
   {
    "duration": 190,
    "start_time": "2024-06-25T00:14:43.880Z"
   },
   {
    "duration": 513,
    "start_time": "2024-06-25T00:14:44.074Z"
   },
   {
    "duration": 6,
    "start_time": "2024-06-25T00:14:44.592Z"
   },
   {
    "duration": 420,
    "start_time": "2024-06-25T00:14:44.612Z"
   },
   {
    "duration": 213,
    "start_time": "2024-06-25T00:14:45.036Z"
   },
   {
    "duration": 219,
    "start_time": "2024-06-25T00:16:15.822Z"
   },
   {
    "duration": 261,
    "start_time": "2024-06-25T00:18:42.108Z"
   },
   {
    "duration": 426,
    "start_time": "2024-06-25T00:18:52.614Z"
   },
   {
    "duration": 446,
    "start_time": "2024-06-25T00:19:42.698Z"
   },
   {
    "duration": 418,
    "start_time": "2024-06-25T00:20:29.216Z"
   },
   {
    "duration": 397,
    "start_time": "2024-06-25T00:21:32.684Z"
   },
   {
    "duration": 396,
    "start_time": "2024-06-25T00:21:37.179Z"
   },
   {
    "duration": 700,
    "start_time": "2024-06-25T00:21:47.297Z"
   },
   {
    "duration": 1555,
    "start_time": "2024-06-25T00:21:48.001Z"
   },
   {
    "duration": 24,
    "start_time": "2024-06-25T00:21:49.559Z"
   },
   {
    "duration": 43,
    "start_time": "2024-06-25T00:21:49.586Z"
   },
   {
    "duration": 19,
    "start_time": "2024-06-25T00:21:49.635Z"
   },
   {
    "duration": 52,
    "start_time": "2024-06-25T00:21:49.660Z"
   },
   {
    "duration": 17,
    "start_time": "2024-06-25T00:21:49.715Z"
   },
   {
    "duration": 198,
    "start_time": "2024-06-25T00:21:49.735Z"
   },
   {
    "duration": 215,
    "start_time": "2024-06-25T00:21:49.935Z"
   },
   {
    "duration": 231,
    "start_time": "2024-06-25T00:21:50.153Z"
   },
   {
    "duration": 181,
    "start_time": "2024-06-25T00:21:50.387Z"
   },
   {
    "duration": 58,
    "start_time": "2024-06-25T00:21:50.572Z"
   },
   {
    "duration": 22,
    "start_time": "2024-06-25T00:21:50.633Z"
   },
   {
    "duration": 6,
    "start_time": "2024-06-25T00:21:50.664Z"
   },
   {
    "duration": 62,
    "start_time": "2024-06-25T00:21:50.673Z"
   },
   {
    "duration": 6,
    "start_time": "2024-06-25T00:21:50.741Z"
   },
   {
    "duration": 9,
    "start_time": "2024-06-25T00:21:50.751Z"
   },
   {
    "duration": 6,
    "start_time": "2024-06-25T00:21:50.763Z"
   },
   {
    "duration": 6,
    "start_time": "2024-06-25T00:21:50.814Z"
   },
   {
    "duration": 5,
    "start_time": "2024-06-25T00:21:50.823Z"
   },
   {
    "duration": 1374,
    "start_time": "2024-06-25T00:21:50.832Z"
   },
   {
    "duration": 1180,
    "start_time": "2024-06-25T00:21:52.213Z"
   },
   {
    "duration": 19,
    "start_time": "2024-06-25T00:21:53.396Z"
   },
   {
    "duration": 17,
    "start_time": "2024-06-25T00:21:53.418Z"
   },
   {
    "duration": 9,
    "start_time": "2024-06-25T00:21:53.438Z"
   },
   {
    "duration": 17,
    "start_time": "2024-06-25T00:21:53.450Z"
   },
   {
    "duration": 9,
    "start_time": "2024-06-25T00:21:53.513Z"
   },
   {
    "duration": 11,
    "start_time": "2024-06-25T00:21:53.525Z"
   },
   {
    "duration": 9,
    "start_time": "2024-06-25T00:21:53.539Z"
   },
   {
    "duration": 64,
    "start_time": "2024-06-25T00:21:53.551Z"
   },
   {
    "duration": 109,
    "start_time": "2024-06-25T00:21:53.618Z"
   },
   {
    "duration": 21,
    "start_time": "2024-06-25T00:21:53.731Z"
   },
   {
    "duration": 20,
    "start_time": "2024-06-25T00:21:53.754Z"
   },
   {
    "duration": 71,
    "start_time": "2024-06-25T00:21:53.776Z"
   },
   {
    "duration": 8,
    "start_time": "2024-06-25T00:21:53.850Z"
   },
   {
    "duration": 8,
    "start_time": "2024-06-25T00:21:53.860Z"
   },
   {
    "duration": 2604,
    "start_time": "2024-06-25T00:21:53.870Z"
   },
   {
    "duration": 355,
    "start_time": "2024-06-25T00:21:56.477Z"
   },
   {
    "duration": 485,
    "start_time": "2024-06-25T00:21:56.835Z"
   },
   {
    "duration": 530,
    "start_time": "2024-06-25T00:21:57.324Z"
   },
   {
    "duration": 416,
    "start_time": "2024-06-25T00:21:57.863Z"
   },
   {
    "duration": 190,
    "start_time": "2024-06-25T00:21:58.281Z"
   },
   {
    "duration": 513,
    "start_time": "2024-06-25T00:21:58.477Z"
   },
   {
    "duration": 6,
    "start_time": "2024-06-25T00:21:58.993Z"
   },
   {
    "duration": 405,
    "start_time": "2024-06-25T00:21:59.014Z"
   },
   {
    "duration": 216,
    "start_time": "2024-06-25T00:21:59.422Z"
   },
   {
    "duration": 592,
    "start_time": "2024-06-25T00:21:59.642Z"
   },
   {
    "duration": 1066,
    "start_time": "2024-06-25T00:22:16.630Z"
   },
   {
    "duration": 386,
    "start_time": "2024-06-25T00:22:24.951Z"
   },
   {
    "duration": 11,
    "start_time": "2024-06-25T00:24:29.674Z"
   },
   {
    "duration": 339,
    "start_time": "2024-06-25T00:25:02.080Z"
   },
   {
    "duration": 376,
    "start_time": "2024-06-25T00:25:57.542Z"
   },
   {
    "duration": 344,
    "start_time": "2024-06-25T00:26:37.221Z"
   },
   {
    "duration": 386,
    "start_time": "2024-06-25T00:27:46.219Z"
   },
   {
    "duration": 445,
    "start_time": "2024-06-25T00:29:33.006Z"
   },
   {
    "duration": 380,
    "start_time": "2024-06-25T00:29:36.916Z"
   },
   {
    "duration": 4,
    "start_time": "2024-06-25T00:34:05.642Z"
   },
   {
    "duration": 1460,
    "start_time": "2024-06-25T00:34:05.649Z"
   },
   {
    "duration": 21,
    "start_time": "2024-06-25T00:34:07.113Z"
   },
   {
    "duration": 22,
    "start_time": "2024-06-25T00:34:07.138Z"
   },
   {
    "duration": 50,
    "start_time": "2024-06-25T00:34:07.164Z"
   },
   {
    "duration": 17,
    "start_time": "2024-06-25T00:34:07.218Z"
   },
   {
    "duration": 19,
    "start_time": "2024-06-25T00:34:07.238Z"
   },
   {
    "duration": 205,
    "start_time": "2024-06-25T00:34:07.260Z"
   },
   {
    "duration": 164,
    "start_time": "2024-06-25T00:34:07.470Z"
   },
   {
    "duration": 183,
    "start_time": "2024-06-25T00:34:07.636Z"
   },
   {
    "duration": 182,
    "start_time": "2024-06-25T00:34:07.822Z"
   },
   {
    "duration": 45,
    "start_time": "2024-06-25T00:34:08.007Z"
   },
   {
    "duration": 22,
    "start_time": "2024-06-25T00:34:08.056Z"
   },
   {
    "duration": 34,
    "start_time": "2024-06-25T00:34:08.080Z"
   },
   {
    "duration": 36,
    "start_time": "2024-06-25T00:34:08.118Z"
   },
   {
    "duration": 6,
    "start_time": "2024-06-25T00:34:08.157Z"
   },
   {
    "duration": 6,
    "start_time": "2024-06-25T00:34:08.167Z"
   },
   {
    "duration": 6,
    "start_time": "2024-06-25T00:34:08.213Z"
   },
   {
    "duration": 7,
    "start_time": "2024-06-25T00:34:08.223Z"
   },
   {
    "duration": 6,
    "start_time": "2024-06-25T00:34:08.234Z"
   },
   {
    "duration": 1407,
    "start_time": "2024-06-25T00:34:08.244Z"
   },
   {
    "duration": 1150,
    "start_time": "2024-06-25T00:34:09.654Z"
   },
   {
    "duration": 13,
    "start_time": "2024-06-25T00:34:10.806Z"
   },
   {
    "duration": 14,
    "start_time": "2024-06-25T00:34:10.829Z"
   },
   {
    "duration": 10,
    "start_time": "2024-06-25T00:34:10.846Z"
   },
   {
    "duration": 59,
    "start_time": "2024-06-25T00:34:10.858Z"
   },
   {
    "duration": 8,
    "start_time": "2024-06-25T00:34:10.919Z"
   },
   {
    "duration": 10,
    "start_time": "2024-06-25T00:34:10.931Z"
   },
   {
    "duration": 9,
    "start_time": "2024-06-25T00:34:10.944Z"
   },
   {
    "duration": 73,
    "start_time": "2024-06-25T00:34:10.956Z"
   },
   {
    "duration": 111,
    "start_time": "2024-06-25T00:34:11.032Z"
   },
   {
    "duration": 20,
    "start_time": "2024-06-25T00:34:11.146Z"
   },
   {
    "duration": 46,
    "start_time": "2024-06-25T00:34:11.169Z"
   },
   {
    "duration": 34,
    "start_time": "2024-06-25T00:34:11.219Z"
   },
   {
    "duration": 9,
    "start_time": "2024-06-25T00:34:11.256Z"
   },
   {
    "duration": 8,
    "start_time": "2024-06-25T00:34:11.268Z"
   },
   {
    "duration": 2542,
    "start_time": "2024-06-25T00:34:11.314Z"
   },
   {
    "duration": 356,
    "start_time": "2024-06-25T00:34:13.859Z"
   },
   {
    "duration": 521,
    "start_time": "2024-06-25T00:34:14.219Z"
   },
   {
    "duration": 508,
    "start_time": "2024-06-25T00:34:14.743Z"
   },
   {
    "duration": 427,
    "start_time": "2024-06-25T00:34:15.255Z"
   },
   {
    "duration": 193,
    "start_time": "2024-06-25T00:34:15.685Z"
   },
   {
    "duration": 468,
    "start_time": "2024-06-25T00:34:15.881Z"
   },
   {
    "duration": 6,
    "start_time": "2024-06-25T00:34:16.352Z"
   },
   {
    "duration": 426,
    "start_time": "2024-06-25T00:34:16.361Z"
   },
   {
    "duration": 222,
    "start_time": "2024-06-25T00:34:16.790Z"
   },
   {
    "duration": 413,
    "start_time": "2024-06-25T00:34:17.015Z"
   },
   {
    "duration": 95,
    "start_time": "2024-06-25T00:34:17.431Z"
   },
   {
    "duration": 84,
    "start_time": "2024-06-25T00:35:24.670Z"
   },
   {
    "duration": 3511,
    "start_time": "2024-06-25T00:35:40.196Z"
   },
   {
    "duration": 4259,
    "start_time": "2024-06-25T00:37:02.556Z"
   },
   {
    "duration": 3499,
    "start_time": "2024-06-25T00:37:13.307Z"
   },
   {
    "duration": 67,
    "start_time": "2024-06-25T00:39:08.064Z"
   },
   {
    "duration": 317,
    "start_time": "2024-07-03T15:42:38.659Z"
   },
   {
    "duration": 4459,
    "start_time": "2024-07-03T15:42:47.302Z"
   },
   {
    "duration": 1701,
    "start_time": "2024-07-03T15:42:51.765Z"
   },
   {
    "duration": 29,
    "start_time": "2024-07-03T15:42:53.469Z"
   },
   {
    "duration": 22,
    "start_time": "2024-07-03T15:42:53.515Z"
   },
   {
    "duration": 18,
    "start_time": "2024-07-03T15:42:53.540Z"
   },
   {
    "duration": 51,
    "start_time": "2024-07-03T15:42:53.561Z"
   },
   {
    "duration": 19,
    "start_time": "2024-07-03T15:42:53.619Z"
   },
   {
    "duration": 211,
    "start_time": "2024-07-03T15:42:53.641Z"
   },
   {
    "duration": 200,
    "start_time": "2024-07-03T15:42:53.855Z"
   },
   {
    "duration": 214,
    "start_time": "2024-07-03T15:42:54.061Z"
   },
   {
    "duration": 183,
    "start_time": "2024-07-03T15:42:54.277Z"
   },
   {
    "duration": 59,
    "start_time": "2024-07-03T15:42:54.463Z"
   },
   {
    "duration": 22,
    "start_time": "2024-07-03T15:42:54.524Z"
   },
   {
    "duration": 6,
    "start_time": "2024-07-03T15:42:54.550Z"
   },
   {
    "duration": 71,
    "start_time": "2024-07-03T15:42:54.560Z"
   },
   {
    "duration": 12,
    "start_time": "2024-07-03T15:42:54.634Z"
   },
   {
    "duration": 7,
    "start_time": "2024-07-03T15:42:54.649Z"
   },
   {
    "duration": 6,
    "start_time": "2024-07-03T15:42:54.659Z"
   },
   {
    "duration": 47,
    "start_time": "2024-07-03T15:42:54.668Z"
   },
   {
    "duration": 6,
    "start_time": "2024-07-03T15:42:54.719Z"
   },
   {
    "duration": 1403,
    "start_time": "2024-07-03T15:42:54.728Z"
   },
   {
    "duration": 1178,
    "start_time": "2024-07-03T15:42:56.135Z"
   },
   {
    "duration": 8,
    "start_time": "2024-07-03T15:42:57.316Z"
   },
   {
    "duration": 15,
    "start_time": "2024-07-03T15:42:57.327Z"
   },
   {
    "duration": 9,
    "start_time": "2024-07-03T15:42:57.345Z"
   },
   {
    "duration": 61,
    "start_time": "2024-07-03T15:42:57.358Z"
   },
   {
    "duration": 8,
    "start_time": "2024-07-03T15:42:57.421Z"
   },
   {
    "duration": 11,
    "start_time": "2024-07-03T15:42:57.438Z"
   },
   {
    "duration": 10,
    "start_time": "2024-07-03T15:42:57.451Z"
   },
   {
    "duration": 71,
    "start_time": "2024-07-03T15:42:57.464Z"
   },
   {
    "duration": 109,
    "start_time": "2024-07-03T15:42:57.538Z"
   },
   {
    "duration": 21,
    "start_time": "2024-07-03T15:42:57.650Z"
   },
   {
    "duration": 48,
    "start_time": "2024-07-03T15:42:57.674Z"
   },
   {
    "duration": 37,
    "start_time": "2024-07-03T15:42:57.726Z"
   },
   {
    "duration": 7,
    "start_time": "2024-07-03T15:42:57.766Z"
   },
   {
    "duration": 40,
    "start_time": "2024-07-03T15:42:57.778Z"
   },
   {
    "duration": 2491,
    "start_time": "2024-07-03T15:42:57.821Z"
   },
   {
    "duration": 349,
    "start_time": "2024-07-03T15:43:00.316Z"
   },
   {
    "duration": 553,
    "start_time": "2024-07-03T15:43:00.669Z"
   },
   {
    "duration": 542,
    "start_time": "2024-07-03T15:43:01.224Z"
   },
   {
    "duration": 418,
    "start_time": "2024-07-03T15:43:01.770Z"
   },
   {
    "duration": 182,
    "start_time": "2024-07-03T15:43:02.190Z"
   },
   {
    "duration": 465,
    "start_time": "2024-07-03T15:43:02.375Z"
   },
   {
    "duration": 6,
    "start_time": "2024-07-03T15:43:02.842Z"
   },
   {
    "duration": 432,
    "start_time": "2024-07-03T15:43:02.851Z"
   },
   {
    "duration": 253,
    "start_time": "2024-07-03T15:43:03.286Z"
   },
   {
    "duration": 424,
    "start_time": "2024-07-03T15:43:03.542Z"
   },
   {
    "duration": 3633,
    "start_time": "2024-07-03T15:43:03.971Z"
   },
   {
    "duration": 69,
    "start_time": "2024-07-03T15:43:07.611Z"
   },
   {
    "duration": 14,
    "start_time": "2024-07-03T15:51:20.951Z"
   },
   {
    "duration": 45,
    "start_time": "2024-07-03T15:51:31.366Z"
   },
   {
    "duration": 1124,
    "start_time": "2024-07-03T16:01:34.437Z"
   },
   {
    "duration": 736,
    "start_time": "2024-07-03T16:01:43.887Z"
   },
   {
    "duration": 1614,
    "start_time": "2024-07-03T16:01:44.628Z"
   },
   {
    "duration": 29,
    "start_time": "2024-07-03T16:01:46.245Z"
   },
   {
    "duration": 45,
    "start_time": "2024-07-03T16:01:46.279Z"
   },
   {
    "duration": 18,
    "start_time": "2024-07-03T16:01:46.330Z"
   },
   {
    "duration": 17,
    "start_time": "2024-07-03T16:01:46.351Z"
   },
   {
    "duration": 50,
    "start_time": "2024-07-03T16:01:46.372Z"
   },
   {
    "duration": 198,
    "start_time": "2024-07-03T16:01:46.425Z"
   },
   {
    "duration": 231,
    "start_time": "2024-07-03T16:01:46.627Z"
   },
   {
    "duration": 216,
    "start_time": "2024-07-03T16:01:46.861Z"
   },
   {
    "duration": 202,
    "start_time": "2024-07-03T16:01:47.082Z"
   },
   {
    "duration": 71,
    "start_time": "2024-07-03T16:01:47.287Z"
   },
   {
    "duration": 28,
    "start_time": "2024-07-03T16:01:47.362Z"
   },
   {
    "duration": 5,
    "start_time": "2024-07-03T16:01:47.412Z"
   },
   {
    "duration": 42,
    "start_time": "2024-07-03T16:01:47.421Z"
   },
   {
    "duration": 12,
    "start_time": "2024-07-03T16:01:47.468Z"
   },
   {
    "duration": 6,
    "start_time": "2024-07-03T16:01:47.513Z"
   },
   {
    "duration": 6,
    "start_time": "2024-07-03T16:01:47.522Z"
   },
   {
    "duration": 6,
    "start_time": "2024-07-03T16:01:47.532Z"
   },
   {
    "duration": 6,
    "start_time": "2024-07-03T16:01:47.541Z"
   },
   {
    "duration": 1395,
    "start_time": "2024-07-03T16:01:47.550Z"
   },
   {
    "duration": 1227,
    "start_time": "2024-07-03T16:01:48.948Z"
   },
   {
    "duration": 8,
    "start_time": "2024-07-03T16:01:50.178Z"
   },
   {
    "duration": 34,
    "start_time": "2024-07-03T16:01:50.189Z"
   },
   {
    "duration": 10,
    "start_time": "2024-07-03T16:01:50.225Z"
   },
   {
    "duration": 24,
    "start_time": "2024-07-03T16:01:50.237Z"
   },
   {
    "duration": 9,
    "start_time": "2024-07-03T16:01:50.264Z"
   },
   {
    "duration": 11,
    "start_time": "2024-07-03T16:01:50.313Z"
   },
   {
    "duration": 11,
    "start_time": "2024-07-03T16:01:50.327Z"
   },
   {
    "duration": 71,
    "start_time": "2024-07-03T16:01:50.341Z"
   },
   {
    "duration": 105,
    "start_time": "2024-07-03T16:01:50.415Z"
   },
   {
    "duration": 23,
    "start_time": "2024-07-03T16:01:50.524Z"
   },
   {
    "duration": 25,
    "start_time": "2024-07-03T16:01:50.551Z"
   },
   {
    "duration": 72,
    "start_time": "2024-07-03T16:01:50.580Z"
   },
   {
    "duration": 12,
    "start_time": "2024-07-03T16:01:50.655Z"
   },
   {
    "duration": 44,
    "start_time": "2024-07-03T16:01:50.670Z"
   },
   {
    "duration": 2666,
    "start_time": "2024-07-03T16:01:50.718Z"
   },
   {
    "duration": 365,
    "start_time": "2024-07-03T16:01:53.387Z"
   },
   {
    "duration": 532,
    "start_time": "2024-07-03T16:01:53.754Z"
   },
   {
    "duration": 578,
    "start_time": "2024-07-03T16:01:54.290Z"
   },
   {
    "duration": 442,
    "start_time": "2024-07-03T16:01:54.876Z"
   },
   {
    "duration": 193,
    "start_time": "2024-07-03T16:01:55.322Z"
   },
   {
    "duration": 472,
    "start_time": "2024-07-03T16:01:55.518Z"
   },
   {
    "duration": 19,
    "start_time": "2024-07-03T16:01:55.993Z"
   },
   {
    "duration": 427,
    "start_time": "2024-07-03T16:01:56.015Z"
   },
   {
    "duration": 237,
    "start_time": "2024-07-03T16:01:56.446Z"
   },
   {
    "duration": 509,
    "start_time": "2024-07-03T16:01:56.687Z"
   },
   {
    "duration": 1106,
    "start_time": "2024-07-03T16:01:57.201Z"
   },
   {
    "duration": 0,
    "start_time": "2024-07-03T16:01:58.309Z"
   },
   {
    "duration": 87,
    "start_time": "2024-07-03T16:04:03.853Z"
   },
   {
    "duration": 27,
    "start_time": "2024-07-03T16:08:12.198Z"
   },
   {
    "duration": 2189,
    "start_time": "2024-07-03T16:08:47.911Z"
   }
  ],
  "colab": {
   "provenance": []
  },
  "kernelspec": {
   "display_name": "Python 3 (ipykernel)",
   "language": "python",
   "name": "python3"
  },
  "language_info": {
   "codemirror_mode": {
    "name": "ipython",
    "version": 3
   },
   "file_extension": ".py",
   "mimetype": "text/x-python",
   "name": "python",
   "nbconvert_exporter": "python",
   "pygments_lexer": "ipython3",
   "version": "3.9.19"
  },
  "toc": {
   "base_numbering": 1,
   "nav_menu": {},
   "number_sections": true,
   "sideBar": true,
   "skip_h1_title": true,
   "title_cell": "Table of Contents",
   "title_sidebar": "Contents",
   "toc_cell": false,
   "toc_position": {},
   "toc_section_display": true,
   "toc_window_display": false
  },
  "vscode": {
   "interpreter": {
    "hash": "01a7be9ec63e704a62cefc5fe7a4756944464ee731be31632bdf42a4cb4688cf"
   }
  }
 },
 "nbformat": 4,
 "nbformat_minor": 5
}
